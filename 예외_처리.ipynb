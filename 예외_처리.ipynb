{
  "nbformat": 4,
  "nbformat_minor": 0,
  "metadata": {
    "colab": {
      "provenance": [],
      "authorship_tag": "ABX9TyPpI0P9zrXIcZxlSKPcxOwP",
      "include_colab_link": true
    },
    "kernelspec": {
      "name": "python3",
      "display_name": "Python 3"
    },
    "language_info": {
      "name": "python"
    }
  },
  "cells": [
    {
      "cell_type": "markdown",
      "metadata": {
        "id": "view-in-github",
        "colab_type": "text"
      },
      "source": [
        "<a href=\"https://colab.research.google.com/github/Jidonghun/K-digital-BigData-analysis/blob/main/%EC%98%88%EC%99%B8_%EC%B2%98%EB%A6%AC.ipynb\" target=\"_parent\"><img src=\"https://colab.research.google.com/assets/colab-badge.svg\" alt=\"Open In Colab\"/></a>"
      ]
    },
    {
      "cell_type": "markdown",
      "source": [
        "### 예외 처리\n",
        "- 구문 오류와 예외를 구분\n"
      ],
      "metadata": {
        "id": "9JRScZVce0Qh"
      }
    },
    {
      "cell_type": "markdown",
      "source": [
        "#### 구문 오류와 예외\n"
      ],
      "metadata": {
        "id": "3bZmMMs1fPY_"
      }
    },
    {
      "cell_type": "markdown",
      "source": [
        "### 오류의 종류\n",
        "프로그램에서 오류(error)는 크게 두 가지 종류가 있다.\n",
        "- 프로그램 실행 전에 발생하는 오류 - 구문 오류(syntax error)\n",
        "- 프로그램 실행 중에 발생하는 오류 - 런타임 오류(runtime error) 또는 예외(exception)\n",
        "\n",
        "오류를 나누는 기준에 따라서 로직 에러(logic error)도 있다.\n",
        "\n"
      ],
      "metadata": {
        "id": "LhyGYxyxf-Y4"
      }
    },
    {
      "cell_type": "code",
      "source": [
        "print('여기에는 어떤 오류가 있다는 건가?)"
      ],
      "metadata": {
        "colab": {
          "base_uri": "https://localhost:8080/",
          "height": 137
        },
        "id": "NjCG5Tlehh-H",
        "outputId": "4a7bb0ba-5f79-4fd4-e6a5-de713f8e8362"
      },
      "execution_count": null,
      "outputs": [
        {
          "output_type": "error",
          "ename": "SyntaxError",
          "evalue": "ignored",
          "traceback": [
            "\u001b[0;36m  File \u001b[0;32m\"<ipython-input-15-720befda79cc>\"\u001b[0;36m, line \u001b[0;32m1\u001b[0m\n\u001b[0;31m    print('여기에는 어떤 오류가 있다는 건가?)\u001b[0m\n\u001b[0m                               ^\u001b[0m\n\u001b[0;31mSyntaxError\u001b[0m\u001b[0;31m:\u001b[0m EOL while scanning string literal\n"
          ]
        }
      ]
    },
    {
      "cell_type": "markdown",
      "source": [
        "EOL은 'End of Line'의 줄임말이다. `SyntaxError`라는 말에 주목하면 파이썬 문법에 맞지 않는 표현이다라는 뜻이다."
      ],
      "metadata": {
        "id": "HVaSkniJhnfi"
      }
    },
    {
      "cell_type": "markdown",
      "source": [
        "### 기본 예외 처리\n",
        "예외를 해결하는 하기 위해 어떤 작업을 하는 것을 예외 처리(exception handling)라고 한다. 예외를 처리 하는 방법은 다음 두 가지로 나뉜다.\n",
        "\n",
        "- 조건문을 사용하는 방법\n",
        "- try 구문을 사용하는 방법\n",
        "\n",
        "먼저 조건문을 사용해서 예외를 처리를 하는 방법부터 살펴보겠다. 이와 같은 예외 처리 방법을 기본 예외 처리라고 부른다."
      ],
      "metadata": {
        "id": "nfFz5hJzoFLz"
      }
    },
    {
      "cell_type": "markdown",
      "source": [
        "#### <ins>예외 상황 확인하기</ins>\n",
        "일단 예외가 발생할 상황을 만들어 보면 다음과 같다."
      ],
      "metadata": {
        "id": "2gBqeKUNpmR-"
      }
    },
    {
      "cell_type": "code",
      "source": [
        "number = int(input(\"정수 입력: \"))\n",
        "\n",
        "print('원의 반지름 :',number )\n",
        "print('원의 둘레 :', 2*3.14*number )\n",
        "print('원의 면적 :', 3.14* number* number)"
      ],
      "metadata": {
        "id": "4xr4zwzopvCU",
        "colab": {
          "base_uri": "https://localhost:8080/",
          "height": 253
        },
        "outputId": "7514558e-9830-438b-ef74-36d75184cbe5"
      },
      "execution_count": null,
      "outputs": [
        {
          "name": "stdout",
          "output_type": "stream",
          "text": [
            "정수 입력: 7센치\n"
          ]
        },
        {
          "output_type": "error",
          "ename": "ValueError",
          "evalue": "ignored",
          "traceback": [
            "\u001b[0;31m---------------------------------------------------------------------------\u001b[0m",
            "\u001b[0;31mValueError\u001b[0m                                Traceback (most recent call last)",
            "\u001b[0;32m<ipython-input-3-1e7b50a37570>\u001b[0m in \u001b[0;36m<cell line: 1>\u001b[0;34m()\u001b[0m\n\u001b[0;32m----> 1\u001b[0;31m \u001b[0mnumber\u001b[0m \u001b[0;34m=\u001b[0m \u001b[0mint\u001b[0m\u001b[0;34m(\u001b[0m\u001b[0minput\u001b[0m\u001b[0;34m(\u001b[0m\u001b[0;34m\"정수 입력: \"\u001b[0m\u001b[0;34m)\u001b[0m\u001b[0;34m)\u001b[0m\u001b[0;34m\u001b[0m\u001b[0;34m\u001b[0m\u001b[0m\n\u001b[0m\u001b[1;32m      2\u001b[0m \u001b[0;34m\u001b[0m\u001b[0m\n\u001b[1;32m      3\u001b[0m \u001b[0mprint\u001b[0m\u001b[0;34m(\u001b[0m\u001b[0;34m'원의 반지름 :'\u001b[0m\u001b[0;34m,\u001b[0m\u001b[0mnumber\u001b[0m \u001b[0;34m)\u001b[0m\u001b[0;34m\u001b[0m\u001b[0;34m\u001b[0m\u001b[0m\n\u001b[1;32m      4\u001b[0m \u001b[0mprint\u001b[0m\u001b[0;34m(\u001b[0m\u001b[0;34m'원의 둘레 :'\u001b[0m\u001b[0;34m,\u001b[0m \u001b[0;36m2\u001b[0m\u001b[0;34m*\u001b[0m\u001b[0;36m3.14\u001b[0m\u001b[0;34m*\u001b[0m\u001b[0mnumber\u001b[0m \u001b[0;34m)\u001b[0m\u001b[0;34m\u001b[0m\u001b[0;34m\u001b[0m\u001b[0m\n\u001b[1;32m      5\u001b[0m \u001b[0mprint\u001b[0m\u001b[0;34m(\u001b[0m\u001b[0;34m'원의 면적 :'\u001b[0m\u001b[0;34m,\u001b[0m \u001b[0;36m3.14\u001b[0m\u001b[0;34m*\u001b[0m \u001b[0mnumber\u001b[0m\u001b[0;34m*\u001b[0m \u001b[0mnumber\u001b[0m\u001b[0;34m)\u001b[0m\u001b[0;34m\u001b[0m\u001b[0;34m\u001b[0m\u001b[0m\n",
            "\u001b[0;31mValueError\u001b[0m: invalid literal for int() with base 10: '7센치'"
          ]
        }
      ]
    },
    {
      "cell_type": "markdown",
      "source": [
        "'ValueError'가 발생했다. '값 에러'가 발생한 것이다. \"invalid literal for int() whith base 10: '7센티미터'\" 이 문장은 '7센티미터'는 `int()` 함수에 적용하기에 옳지 않은 문자다라고 이야기 하는 것이다."
      ],
      "metadata": {
        "id": "B0PL0OdOqo0p"
      }
    },
    {
      "cell_type": "markdown",
      "source": [
        "####<ins>예외를 처리하는 방법 - 조건문으로 예외 처리하기</ins>\n",
        "위 경우 '정수를 입력하지 않았을 때' 오류가 발생했다. 그렇다면 입력된 데이터가 정수인지 아닌지 `if`문을 활용할 수 있을 것이다.\n",
        "`문자열.isdigit()` 함수는 Ch02에서 확인할 수 있다."
      ],
      "metadata": {
        "id": "XzQC4Yq5rM4s"
      }
    },
    {
      "cell_type": "code",
      "source": [
        "user_input = input('양의 정수 입력: ')\n",
        "if user_input.isdigit():\n",
        "  number = int(user_input)\n",
        "  print(number)\n",
        "  print('원의 반지름 :',number )\n",
        "  print('원의 둘레 :', 2*3.14*number )\n",
        "  print('원의 면적 :', 3.14* number* number)\n",
        "else:\n",
        "  print('양의 정수를 입력해 주세요.')"
      ],
      "metadata": {
        "id": "anmAMVq-rdcX",
        "colab": {
          "base_uri": "https://localhost:8080/"
        },
        "outputId": "f5b9b1a1-c08d-4676-e903-174a2e3969e7"
      },
      "execution_count": null,
      "outputs": [
        {
          "output_type": "stream",
          "name": "stdout",
          "text": [
            "양의 정수 입력: 7센\n",
            "양의 정수를 입력해 주세요.\n"
          ]
        }
      ]
    },
    {
      "cell_type": "markdown",
      "source": [
        "위 코드 셀에서 `문자열.isdigit()`함수는 `문자열`이 숫자로만 구성되었다면 `True`를 그렇다 않다면 `False`를 반환한다. 여기서 핵심 사항은 **예외가 발생할 수 있는 상활을 고려해서 상황별로 대처할 수 있도록 사전에 코딩되었다**는 것이다. 그래서 프로그램이 예외 발생으로 인해 중간에 종료되는 것을 막았다. 그리고 원활하게 동작을 하게 만들 것이다."
      ],
      "metadata": {
        "id": "lglEeLSTsF5X"
      }
    },
    {
      "cell_type": "markdown",
      "source": [
        "###try except 구문\n",
        "\n",
        "```python\n",
        "try:\n",
        "  # 예외가 발생할 가능성이 있는 코드\n",
        "except:\n",
        "  # 예외가 발생했을 때 실행할 코드\n",
        "```\n"
      ],
      "metadata": {
        "id": "1RsxF_1MtF_g"
      }
    },
    {
      "cell_type": "code",
      "source": [
        "try:\n",
        "  number = int(input(\"정수 입력: \"))\n",
        "  print('원의 반지름 :',number )\n",
        "  print('원의 둘레 :', 2*3.14*number )\n",
        "  print('원의 면적 :', 3.14* number* number)\n",
        "except:\n",
        "  print('위 과정에서 예외가 발생했습니다.')\n"
      ],
      "metadata": {
        "id": "0Q0VkXh4tZH1",
        "colab": {
          "base_uri": "https://localhost:8080/"
        },
        "outputId": "20375c75-6201-424d-cae0-6cfc808940ec"
      },
      "execution_count": null,
      "outputs": [
        {
          "output_type": "stream",
          "name": "stdout",
          "text": [
            "정수 입력: 7센찌\n",
            "위 과정에서 예외가 발생했습니다.\n"
          ]
        }
      ]
    },
    {
      "cell_type": "markdown",
      "source": [
        "위 코드는 `try`에 해당하는 코드들에서 예외가 발생하면 `except`에 해당하는 코드를 실행하라는 뜻이다. `try`에 해당하는 코드들에서 예외가 발생하지 않으면 `excption`에 해당하는 코드는 실행되지 않는다."
      ],
      "metadata": {
        "id": "EL8MqoQDtmjV"
      }
    },
    {
      "cell_type": "markdown",
      "source": [
        "###Quiz\n",
        "아래 코드가 실행되었는데 사용자는 실수로 0을 입력했습니다.\n",
        "- 1) 어떤 현상이 발생하나요?\n",
        "- 2) 이 현상으로 인해 프로그램이 종료되지 않도록 하기 위해 `try ~ except`를 활용하여 코드를 작성하세요.\n",
        "\n",
        "```python\n",
        "positive_int = int( input('양의 정수를 입력 하세요 : ') )\n",
        "\n",
        "d = 10 // positive_int\n",
        "s = 10 % positive_int\n",
        "\n",
        "print(f'입력하신 수, {positive_int}로 10을 나누었을 때 몫은 {d}이고 나머지는 {s}입니다.')\n",
        "```"
      ],
      "metadata": {
        "id": "AqjjxK9DNkPQ"
      }
    },
    {
      "cell_type": "code",
      "source": [
        "positive_int = int( input('양의 정수를 입력 하세요 : ') )\n",
        "\n",
        "d = 10 // positive_int\n",
        "s = 10 % positive_int\n",
        "\n",
        "print(f'입력하신 수, {positive_int}로 10을 나누었을 때 몫은 {d}이고 나머지는 {s}입니다.')"
      ],
      "metadata": {
        "colab": {
          "base_uri": "https://localhost:8080/",
          "height": 263
        },
        "id": "1nFw10fdOD6T",
        "outputId": "de2d1590-9266-4e07-ab15-76bf1fb126af"
      },
      "execution_count": null,
      "outputs": [
        {
          "name": "stdout",
          "output_type": "stream",
          "text": [
            "양의 정수를 입력 하세요 : 0\n"
          ]
        },
        {
          "output_type": "error",
          "ename": "ZeroDivisionError",
          "evalue": "ignored",
          "traceback": [
            "\u001b[0;31m---------------------------------------------------------------------------\u001b[0m",
            "\u001b[0;31mZeroDivisionError\u001b[0m                         Traceback (most recent call last)",
            "\u001b[0;32m<ipython-input-7-288031d886a6>\u001b[0m in \u001b[0;36m<cell line: 3>\u001b[0;34m()\u001b[0m\n\u001b[1;32m      1\u001b[0m \u001b[0mpositive_int\u001b[0m \u001b[0;34m=\u001b[0m \u001b[0mint\u001b[0m\u001b[0;34m(\u001b[0m \u001b[0minput\u001b[0m\u001b[0;34m(\u001b[0m\u001b[0;34m'양의 정수를 입력 하세요 : '\u001b[0m\u001b[0;34m)\u001b[0m \u001b[0;34m)\u001b[0m\u001b[0;34m\u001b[0m\u001b[0;34m\u001b[0m\u001b[0m\n\u001b[1;32m      2\u001b[0m \u001b[0;34m\u001b[0m\u001b[0m\n\u001b[0;32m----> 3\u001b[0;31m \u001b[0md\u001b[0m \u001b[0;34m=\u001b[0m \u001b[0;36m10\u001b[0m \u001b[0;34m//\u001b[0m \u001b[0mpositive_int\u001b[0m\u001b[0;34m\u001b[0m\u001b[0;34m\u001b[0m\u001b[0m\n\u001b[0m\u001b[1;32m      4\u001b[0m \u001b[0ms\u001b[0m \u001b[0;34m=\u001b[0m \u001b[0;36m10\u001b[0m \u001b[0;34m%\u001b[0m \u001b[0mpositive_int\u001b[0m\u001b[0;34m\u001b[0m\u001b[0;34m\u001b[0m\u001b[0m\n\u001b[1;32m      5\u001b[0m \u001b[0;34m\u001b[0m\u001b[0m\n",
            "\u001b[0;31mZeroDivisionError\u001b[0m: integer division or modulo by zero"
          ]
        }
      ]
    },
    {
      "cell_type": "code",
      "source": [
        "positive_int = int( input('양의 정수를 입력 하세요 : ') )\n",
        "\n",
        "try:\n",
        "  d = 10 // positive_int\n",
        "  s = 10 % positive_int\n",
        "  print(f'입력하신 수, {positive_int}로 10을 나누었을 때 몫은 {d}이고 나머지는 {s}입니다.')\n",
        "except:\n",
        "  print('예외 발생!')"
      ],
      "metadata": {
        "colab": {
          "base_uri": "https://localhost:8080/"
        },
        "id": "ktpdHDsjPSE-",
        "outputId": "42c7acc8-d9ee-4af5-ef61-0c30a19e6c91"
      },
      "execution_count": null,
      "outputs": [
        {
          "output_type": "stream",
          "name": "stdout",
          "text": [
            "양의 정수를 입력 하세요 : 0\n",
            "예외 발생!\n"
          ]
        }
      ]
    },
    {
      "cell_type": "markdown",
      "source": [
        "####<ins>try except 구문과 pass 키워드 조합하기</ins>\n",
        "\n",
        "```python\n",
        "try:\n",
        "  #예외가 발생할 가능성이 있는 코드\n",
        "except:\n",
        "  pass\n",
        "```\n",
        "\n"
      ],
      "metadata": {
        "id": "FpsZ-_Jgv80l"
      }
    },
    {
      "cell_type": "code",
      "source": [
        "try:\n",
        "  number = int(input(\"정수 입력: \"))\n",
        "  print('원의 반지름 :',number )\n",
        "  print('원의 둘레 :', 2*3.14*number )\n",
        "  print('원의 면적 :', 3.14* number* number)\n",
        "except:\n",
        "  pass"
      ],
      "metadata": {
        "id": "PWKP0lOHqeVB"
      },
      "execution_count": null,
      "outputs": []
    },
    {
      "cell_type": "markdown",
      "source": [
        "또 다른 예제 코드를 살펴보겠습니다. 아래 코드는 `lst`의 요소들 중 숫자로 변환 가능한 요소들만을 추출해서 새로운 리스트를 만드는 코드이다. `lst`의 요소 중 '봄나들이'에 대해 `float('봄나들이')` 함수를 호출하면 예외가 발생할 것이다. 이 예외가 발생했을 때 `exception` 부분에서 받아서 처리한다. 처리는 `pass`이다."
      ],
      "metadata": {
        "id": "EzRJX6d5xIro"
      }
    },
    {
      "cell_type": "code",
      "source": [
        "lst = ['52', '12', '봄나들이', '64', '255']\n",
        "f_lst =[]\n",
        "\n",
        "for element in lst:\n",
        "  try:\n",
        "    f = float(element)\n",
        "    f_lst.append(f)\n",
        "  except:\n",
        "    pass\n",
        "\n",
        "print( (\n",
        "         '리스트 {} 내부에 있는 요수 중'\n",
        "         ' 숫자로 변환 가능한 요소만 숫자로 변환하여'\n",
        "         ' 그 결과로 리스트 {}을 얻었습니다.'\n",
        "         ).format(lst, f_lst)\n",
        "      )"
      ],
      "metadata": {
        "id": "_7xD6lzqygzG",
        "colab": {
          "base_uri": "https://localhost:8080/"
        },
        "outputId": "f9c319f1-29f0-4cc1-b6d5-e914a78f5da4"
      },
      "execution_count": null,
      "outputs": [
        {
          "output_type": "stream",
          "name": "stdout",
          "text": [
            "리스트 ['52', '12', '봄나들이', '64', '255'] 내부에 있는 요수 중 숫자로 변환 가능한 요소만 숫자로 변환하여 그 결과로 리스트 [52.0, 12.0, 64.0, 255.0]을 얻었습니다.\n"
          ]
        }
      ]
    },
    {
      "cell_type": "code",
      "source": [
        "lst = ['52', '12', '봄나들이', '64', '255']\n",
        "f_lst =[]\n",
        "for element in lst:\n",
        "  try:\n",
        "    float(element)          # 숫자로 변환이 안될 경우 여기서 예외 발생.\n",
        "    f_lst.append(element)\n",
        "  except:\n",
        "    pass\n",
        "\n",
        "print('{} 내부에 있는 데이터 중 숫자로 변환 가능한 데이터는 {}입니다.'.format(lst, f_lst))"
      ],
      "metadata": {
        "id": "PqGbPdd3x0Aw",
        "colab": {
          "base_uri": "https://localhost:8080/"
        },
        "outputId": "882ca941-c634-45f2-e6e0-51c446ff4b9a"
      },
      "execution_count": null,
      "outputs": [
        {
          "output_type": "stream",
          "name": "stdout",
          "text": [
            "['52', '12', '봄나들이', '64', '255'] 내부에 있는 데이터 중 숫자로 변환 가능한 데이터는 ['52', '12', '64', '255']입니다.\n"
          ]
        }
      ]
    },
    {
      "cell_type": "markdown",
      "source": [
        "####<ins>try except else 구문</ins>\n",
        "try except 구문 뒤에 esle 구문을 붙이면 '예외가 발생하지 않았을 때 실행할 코드'를 지정할 수 있다.\n",
        "\n",
        "```python\n",
        "try:\n",
        "  # 예외가 발생할 가능성이 있는 코드\n",
        "except:\n",
        "  # 예외가 발생했을 때 실행할 코드\n",
        "else:\n",
        "  # 예외가 발생하지 않았을 때 실행할 코드\n",
        "```\n",
        "\n",
        "**try except else 구문을 사용할 대는 예외가 발생할 가능성이 있는 코드만 `try` 구문 내부에 넣고 나머지는 모두 `else` 구문으로 빼는 경우가 많다.**"
      ],
      "metadata": {
        "id": "ON8OoVtG0Yus"
      }
    },
    {
      "cell_type": "markdown",
      "source": [
        "###Quiz\n",
        "아래 코드가 실행되었는데 사용자는 실수로 0을 입력했습니다. 어떤 현상이 발생하는지 위 Quiz를 통해 확인했습니다. 또한 이 현상으로 인해 프로그램이 종료되지 않도록 하기 위해 `try ~ except`를 활용하여 코드를 작성했었습니다.\n",
        "\n",
        "```python\n",
        "positive_int = int( input('양의 정수를 입력 하세요 : ') )\n",
        "\n",
        "try:\n",
        "  d = 10 // positive_int\n",
        "  s = 10 % positive_int\n",
        "  print(f'입력하신 수, {positive_int}로 10을 나누었을 때 몫은 {d}이고 나머지는 {s}입니다.')\n",
        "except:\n",
        "  print('예외 발생!')\n",
        "```\n",
        "\n",
        "위 코드를 `try ~ except ~ else`구문으로 다시 작성하세요."
      ],
      "metadata": {
        "id": "YFHcTyTHP0Ht"
      }
    },
    {
      "cell_type": "code",
      "source": [
        "positive_int = int( input('양의 정수를 입력 하세요 : ') )\n",
        "\n",
        "try:\n",
        "  d = 10 // positive_int\n",
        "  s = 10 % positive_int\n",
        "except:\n",
        "  print('예외 발생!')\n",
        "else:\n",
        "  print(f'입력하신 수, {positive_int}로 10을 나누었을 때 몫은 {d}이고 나머지는 {s}입니다.')"
      ],
      "metadata": {
        "colab": {
          "base_uri": "https://localhost:8080/"
        },
        "id": "TzK87rFOQfYj",
        "outputId": "23d21a32-c534-4845-f0cb-99613c9a9ae7"
      },
      "execution_count": null,
      "outputs": [
        {
          "output_type": "stream",
          "name": "stdout",
          "text": [
            "양의 정수를 입력 하세요 : 1\n",
            "입력하신 수, 1로 10을 나누었을 때 몫은 10이고 나머지는 0입니다.\n"
          ]
        }
      ]
    },
    {
      "cell_type": "markdown",
      "source": [
        "###Quiz\n",
        "아래 코드가 실행되었는데 사용자는 실수로 0을 입력했습니다. 어떤 현상이 발생하는지 위 Quiz를 통해 확인했습니다. 또한 이 현상으로 인해 프로그램이 종료되지 않도록 하기 위해 `try ~ except`를 활용하여 코드를 작성했었습니다. 그리고 `try ~ except ~ else`를 활용하여 코드를 작성했습니다.\n",
        "\n",
        "그런데 양의 정수를 입력하라고 했으나 사용자는 예를 들어 3.11과 같이 소수점 이하 숫자가 있는 실수를 입력할 수도 있습니다.\n",
        "\n",
        "- 1) 소수점이 있는 숫자를 입력할 경우 발생하는 현상을 설명하세요.\n",
        "- 2) 소수점 이하 값이 있는 숫자를 입력했을 때도 프로그램이 원활하게 동작하도록 코드를 수정하세요. 두 가지 이상의 방법을 제시하세요."
      ],
      "metadata": {
        "id": "HnOYf4VVQyq-"
      }
    },
    {
      "cell_type": "code",
      "source": [
        "# 2) 1.\n",
        "\n",
        "positive_float = float( input('양의 실수를 입력 하세요 : ') )\n",
        "\n",
        "try:\n",
        "  d = 10 // positive_float\n",
        "  s = 10 % positive_float\n",
        "except:\n",
        "  print('예외 발생!')\n",
        "else:\n",
        "  print(f'입력하신 수, {positive_float}로 10을 나누었을 때 몫은 {d}이고 나머지는 {s}입니다.')\n",
        "\n",
        "\n",
        "# 2) 2.\n",
        "\n",
        "n = input('양의 정수를 입력 하세요 : ')\n",
        "\n",
        "try:\n",
        "  positive_int= int(n)\n",
        "except:\n",
        "  print('예외 발생')\n",
        "else:\n",
        "  try:\n",
        "    d = 10 // positive_int\n",
        "    s = 10 % positive_int\n",
        "  except:\n",
        "    print('예외 발생!')\n",
        "  else:\n",
        "    print(f'입력하신 수, {positive_int}로 10을 나누었을 때 몫은 {d}이고 나머지는 {s}입니다.')"
      ],
      "metadata": {
        "colab": {
          "base_uri": "https://localhost:8080/"
        },
        "id": "GQ6dhqDudc1H",
        "outputId": "8c4d4c2d-c934-40bf-a8a5-76905e4d0247"
      },
      "execution_count": 6,
      "outputs": [
        {
          "output_type": "stream",
          "name": "stdout",
          "text": [
            "양의 실수를 입력 하세요 : 2.12\n",
            "입력하신 수, 2.12로 10을 나누었을 때 몫은 4.0이고 나머지는 1.5199999999999996입니다.\n",
            "양의 정수를 입력 하세요 : 3.55\n",
            "예외 발생\n"
          ]
        }
      ]
    },
    {
      "cell_type": "markdown",
      "source": [
        "### finally 구문\n",
        "예외가 발생하든 하지 않든 무조건 실행해야할 코드를 `finally` 부분에 위치 시킨다.\n",
        "\n",
        "```python\n",
        "try:\n",
        "  # 예외가 발생할 가능성이 있는 코드\n",
        "except:\n",
        "  # 예외가 발생했을 때 실행되어야 하는 코드\n",
        "else:\n",
        "  # 예외가 발생하지 않았을 때 실행되어야 하는 코드\n",
        "finally:\n",
        "  # 예외 발생 여부와 관계 없이 무조건 실행되어하는 코드\n",
        "```\n"
      ],
      "metadata": {
        "id": "8aGvqmgt2lWs"
      }
    },
    {
      "cell_type": "code",
      "source": [
        "try:\n",
        "   number = int(input(\"정수 입력: \"))\n",
        "except:\n",
        "  print('정수를 입력하지 않았습니다.')\n",
        "else:\n",
        "  print('원의 반지름 :',number )\n",
        "  print('원의 둘레 :', 2*3.14*number )\n",
        "  print('원의 면적 :', 3.14* number* number)\n",
        "finally:\n",
        "  print('좋은 하루 보내세요.')"
      ],
      "metadata": {
        "id": "Y6_xZFH3yKXH"
      },
      "execution_count": null,
      "outputs": []
    },
    {
      "cell_type": "markdown",
      "source": [
        "####<ins>try, except, finally 구문의 조합</ins>\n",
        "예외 처리 구문은 다음과 같은 규칙을 지켜야 한다.\n",
        "\n",
        "- try 구문은 단독으로 사용할 수 없으며 반듯이 except 구문 또는 finally 구문과 함께 사용해야 한다.\n",
        "- else 구문은 반듯이 except 구문 뒤에 사용해야 한다.\n",
        "\n",
        "이를 조합해 보면  \n",
        "  - try + except\n",
        "  - try + except + else\n",
        "  - try + except + finally\n",
        "  - try + excpet + else + finally\n",
        "  - try + finally\n",
        "  "
      ],
      "metadata": {
        "id": "JPuQHe49Dk4L"
      }
    },
    {
      "cell_type": "code",
      "source": [
        "try:\n",
        "  file = open('info.txt', 'w')\n",
        "  # 예외 발생 상황을 만들기 위해,\n",
        "  # 일부러 'ValueError'를 발생시키겠습니다.\n",
        "  raise ValueError\n",
        "\n",
        "  file.close()\n",
        "except:\n",
        "  print('파일 처리에서 오류 발생')\n",
        "\n",
        "print('파일이 제대로 닫혔는지 확인')\n",
        "print('\\tfile.closed :', file.closed)"
      ],
      "metadata": {
        "id": "-UtipBQsGLX5",
        "colab": {
          "base_uri": "https://localhost:8080/"
        },
        "outputId": "64cea48d-cd53-4f42-9163-708a726c4999"
      },
      "execution_count": null,
      "outputs": [
        {
          "output_type": "stream",
          "name": "stdout",
          "text": [
            "파일 처리에서 오류 발생\n",
            "파일이 제대로 닫혔는지 확인\n",
            "\tfile.closed : False\n"
          ]
        }
      ]
    },
    {
      "cell_type": "code",
      "source": [
        "try:\n",
        "  file = open('info.txt', 'w')\n",
        "  # 파일을 사용하는 작업을 진행 중에\n",
        "  # 예외 상황 발생\n",
        "\n",
        "  # 예외 발생 상황을 만들기 위해,\n",
        "  # 일부러 'ValueError'를 발생시키겠습니다.\n",
        "  raise ValueError\n",
        "\n",
        "except:\n",
        "  print('파일 처리에서 오류 발생')\n",
        "finally:\n",
        "  file.close()          # 해당 파일을 닫습니다.\n",
        "\n",
        "print('파일이 제대로 닫혔는지 확인하기')\n",
        "print('file.closed :', file.closed)"
      ],
      "metadata": {
        "id": "mIZpOfsdH6cH"
      },
      "execution_count": null,
      "outputs": []
    },
    {
      "cell_type": "markdown",
      "source": [
        "### 예외 고급\n"
      ],
      "metadata": {
        "id": "erEjiiZ3ttJA"
      }
    },
    {
      "cell_type": "markdown",
      "source": [
        "####**시작하기 전에**\n",
        "현실에서 어떤 사건이 발생하면 '누가, 언제, 어디서'라는 정보가 생긴다. 프로그래밍 언어도 예외가 발생하면 예외와 관련된 정보가 생성됩니다. 예외 정보는 **예외 객체(exception object)**에 저장된다.\n",
        "\n",
        "<br>\n",
        "\n",
        "예외 객체는 다음과 같은 형태로 사용한다.\n",
        "```python\n",
        "try:\n",
        "  예외가 발생할 가능성이 있는 구문\n",
        "except 예외의 종류 as 예외 객체를 활용할 변수 이름:\n",
        "  예외가 발생했을 때 실행할 구문\n",
        "```\n"
      ],
      "metadata": {
        "id": "DlUNDVbWmLEI"
      }
    },
    {
      "cell_type": "code",
      "source": [
        "try:\n",
        "  number = int(input('정수 입력 > '))\n",
        "  print('원의 반지름 :',number )\n",
        "  print('원의 둘레 :', 2*3.14*number )\n",
        "  print('원의 면적 :', 3.14* number* number)\n",
        "\n",
        "except Exception as exception:\n",
        "  # 예외 객체를 출력해 봅니다.\n",
        "  print('type(exception) :', type(exception))\n",
        "  print('exception :', exception)"
      ],
      "metadata": {
        "id": "N3NXr5U-xIIh",
        "colab": {
          "base_uri": "https://localhost:8080/"
        },
        "outputId": "db66cfb6-e854-4603-e603-8be8d61c2ed9"
      },
      "execution_count": null,
      "outputs": [
        {
          "output_type": "stream",
          "name": "stdout",
          "text": [
            "정수 입력 > 7세\n",
            "type(exception) : <class 'ValueError'>\n",
            "exception : invalid literal for int() with base 10: '7세'\n"
          ]
        }
      ]
    },
    {
      "cell_type": "markdown",
      "source": [
        "### 예외 구분하기\n",
        "예외 객체를 사용하면 except 구문을 if 조건문처럼 사용해서 예외를 구분할 수 있다."
      ],
      "metadata": {
        "id": "u5NMm8IbyUPm"
      }
    },
    {
      "cell_type": "markdown",
      "source": [
        "#### <ins>여러 가지 예외가 발생할 수 있는 상황</ins>\n",
        "아래 코드는 사용자로부터 리스트에 대한 인덱스 값을 입력 받아 인덱스에 해당하는 리스트 요소를 출력하는 코드이다. 인덱스, `idx`는 양의 정수이어야 하며 최대 \"리스트의 길이 - 1\"를 초과 할 수 없다."
      ],
      "metadata": {
        "id": "mbWbzd_4yttm"
      }
    },
    {
      "cell_type": "code",
      "source": [
        "lst = [1, 2, 3, 4, 5]\n",
        "\n",
        "try:\n",
        "  idx = int( input('양의 정수 입력(범위는 0부터 {})> '.format(len(lst)-1)))\n",
        "  print('{}번째 요소 : {}'.format(idx, lst[idx]))\n",
        "\n",
        "except Exception as error:\n",
        "  print('type(error) :', type(error))\n",
        "  print('error :', error)"
      ],
      "metadata": {
        "colab": {
          "base_uri": "https://localhost:8080/"
        },
        "id": "9FP6fltZyy-K",
        "outputId": "bec384fe-e224-4387-8653-7eda928bf3f6"
      },
      "execution_count": null,
      "outputs": [
        {
          "output_type": "stream",
          "name": "stdout",
          "text": [
            "양의 정수 입력(범위는 0부터 4)> 일\n",
            "type(error) : <class 'ValueError'>\n",
            "error : invalid literal for int() with base 10: '일'\n"
          ]
        }
      ]
    },
    {
      "cell_type": "code",
      "source": [
        "lst = [1, 2, 3, 4, 5]\n",
        "\n",
        "try:\n",
        "  idx = int( input('양의 정수 입력(범위는 0부터 {})> '.format(len(lst)-1)))\n",
        "  print('{}번째 요소 : {}'.format(idx, lst[idx]))\n",
        "\n",
        "except ValueError:\n",
        "  print('정수를 입력해 주세요.')\n",
        "except IndexError:\n",
        "  print('리스트의 인덱스 범위를 벗어났습니다.')"
      ],
      "metadata": {
        "colab": {
          "base_uri": "https://localhost:8080/"
        },
        "id": "AO2V8ZWd0m4P",
        "outputId": "3920d476-1927-4fbd-9905-b0283fad9a86"
      },
      "execution_count": null,
      "outputs": [
        {
          "output_type": "stream",
          "name": "stdout",
          "text": [
            "양의 정수 입력(범위는 0부터 4)> 2\n",
            "2번째 요소 : 3\n"
          ]
        }
      ]
    },
    {
      "cell_type": "code",
      "source": [
        "lst = [1, 2, 3, 4, 5]\n",
        "\n",
        "try:\n",
        "  idx = int( input('양의 정수 입력(범위는 0부터 {})> '.format(len(lst)-1)))\n",
        "  print('{}번째 요소 : {}'.format(idx, lst[idx]))\n",
        "\n",
        "except Exception as exception:\n",
        "  print('type(exception) :', type(exception))\n",
        "  print('excepton :', exception)"
      ],
      "metadata": {
        "colab": {
          "base_uri": "https://localhost:8080/"
        },
        "id": "QnYZJVzRxn7w",
        "outputId": "9eb8e0ba-626d-4f7d-dde1-77449a4c8e0e"
      },
      "execution_count": null,
      "outputs": [
        {
          "output_type": "stream",
          "name": "stdout",
          "text": [
            "양의 정수 입력(범위는 0부터 4)> 5\n",
            "type(exception) : <class 'IndexError'>\n",
            "excepton : list index out of range\n"
          ]
        }
      ]
    },
    {
      "cell_type": "markdown",
      "source": [
        "이처럼 여러 가지 예외가 발생할 수 있는데 파이썬은 어떤 예외인지 구분해서 처리할 수 있다.\n",
        "\n",
        "```python\n",
        "try:\n",
        "  예외가 발생할 수 있는 구문\n",
        "except 예외의 종류A:\n",
        "  예외A가 발생했을 때 실행할 구문\n",
        "except 예외의 종류B:\n",
        "  예외B가 발생했을 때 실행할 구문\n",
        "except 예외의 종류C:\n",
        "  예외C가 발생했을 때 실해할 구문\n",
        "```\n"
      ],
      "metadata": {
        "id": "zq7c7XCg0dli"
      }
    },
    {
      "cell_type": "code",
      "source": [
        "lst = [1, 2, 3, 4, 5]\n",
        "\n",
        "try:\n",
        "  idx = int( input('양의 정수 입력(범위는 0부터 {})> '.format(len(lst)-1)))\n",
        "  print('{}번째 요소 : {}'.format(idx, lst[idx]))\n",
        "\n",
        "except ValueError:\n",
        "  print('정수를 입력해 주세요.')\n",
        "except IndexError:\n",
        "  print('리스트의 인덱스 범위를 벗어났습니다.')"
      ],
      "metadata": {
        "colab": {
          "base_uri": "https://localhost:8080/"
        },
        "outputId": "3920d476-1927-4fbd-9905-b0283fad9a86",
        "id": "RchocaA4msCr"
      },
      "execution_count": null,
      "outputs": [
        {
          "output_type": "stream",
          "name": "stdout",
          "text": [
            "양의 정수 입력(범위는 0부터 4)> 2\n",
            "2번째 요소 : 3\n"
          ]
        }
      ]
    },
    {
      "cell_type": "markdown",
      "source": [
        "####<ins>예외 구분 구문과 예외 객체</ins>\n",
        "예외를 구분할 때 각각의 `except` 구문 뒤에 예외 객체를 붙여 활용할 수도 있다. 마찬가지로 `as` 키워드를 사용하면 된다."
      ],
      "metadata": {
        "id": "GcLeK2dH11hl"
      }
    },
    {
      "cell_type": "code",
      "source": [
        "\n",
        "lst = [1, 2, 3, 4, 5]\n",
        "\n",
        "try:\n",
        "  idx = int( input('양의 정수 입력(범위는 0부터 {})> '.format(len(lst)-1)))\n",
        "  print('{}번째 요소 : {}'.format(idx, lst[idx]))\n",
        "\n",
        "except ValueError as exception:\n",
        "  print('정수를 입력해 주세요.')\n",
        "  print('exception :', exception)\n",
        "except IndexError as exception:\n",
        "  print('리스트의 인덱스 범위를 벗어났습니다.')\n",
        "  print('exception :', exception)"
      ],
      "metadata": {
        "colab": {
          "base_uri": "https://localhost:8080/"
        },
        "id": "vkqddpIr0QiG",
        "outputId": "c5ad118d-dabd-40c3-fd79-8600cb3ffa87"
      },
      "execution_count": null,
      "outputs": [
        {
          "output_type": "stream",
          "name": "stdout",
          "text": [
            "양의 정수 입력(범위는 0부터 4)> 10\n",
            "리스트의 인덱스 범위를 벗어났습니다.\n",
            "exception : list index out of range\n"
          ]
        }
      ]
    },
    {
      "cell_type": "markdown",
      "source": [
        "###모든 예외 잡기\n",
        "<font color=blue>except 구문으로 예외를 구분하면 if, elif, else 조건문처럼 차례대로 오류를 검사하면서 오류의 타입을 알수 있다.</font> 만약 except 구문으로 나눠 놓은 예외에 해당되지 않는 예외라면 예외 발생으로 프로그램은 종료된다."
      ],
      "metadata": {
        "id": "QairJ23b3CCL"
      }
    },
    {
      "cell_type": "markdown",
      "source": [
        "아래 코드와 같이 숫자 형 데이터와 문자열 형 데이터를 가지고 `+`연산을 했을 때는 TypeError가 발생을 한다. 그런데 TypeError에 대한 예외 처리를 만들어 놓지 않았다면 프로그램은 종료된다.\n"
      ],
      "metadata": {
        "id": "UZH4wWVG_Wz_"
      }
    },
    {
      "cell_type": "code",
      "source": [
        "a = 2\n",
        "a + '입니다.'"
      ],
      "metadata": {
        "id": "fFWLwUfMADqq",
        "colab": {
          "base_uri": "https://localhost:8080/",
          "height": 193
        },
        "outputId": "1755df38-0c29-4b29-c845-4b51566e8338"
      },
      "execution_count": null,
      "outputs": [
        {
          "output_type": "error",
          "ename": "TypeError",
          "evalue": "ignored",
          "traceback": [
            "\u001b[0;31m---------------------------------------------------------------------------\u001b[0m",
            "\u001b[0;31mTypeError\u001b[0m                                 Traceback (most recent call last)",
            "\u001b[0;32m<ipython-input-14-5b83157772c8>\u001b[0m in \u001b[0;36m<cell line: 2>\u001b[0;34m()\u001b[0m\n\u001b[1;32m      1\u001b[0m \u001b[0ma\u001b[0m \u001b[0;34m=\u001b[0m \u001b[0;36m2\u001b[0m\u001b[0;34m\u001b[0m\u001b[0;34m\u001b[0m\u001b[0m\n\u001b[0;32m----> 2\u001b[0;31m \u001b[0ma\u001b[0m \u001b[0;34m+\u001b[0m \u001b[0;34m'입니다.'\u001b[0m\u001b[0;34m\u001b[0m\u001b[0;34m\u001b[0m\u001b[0m\n\u001b[0m",
            "\u001b[0;31mTypeError\u001b[0m: unsupported operand type(s) for +: 'int' and 'str'"
          ]
        }
      ]
    },
    {
      "cell_type": "code",
      "source": [
        "lst = [1, 2, 3, 4, 5]\n",
        "\n",
        "try:\n",
        "  idx = int( input('양의 정수 입력(범위는 0부터 {}) : '.format(len(lst)-1)))\n",
        "  print(idx + '번째 요소 : {}'.format(lst[idx]))    # 일부러 TypeError 발생시킴\n",
        "\n",
        "except ValueError as exception:\n",
        "  print('정수를 입력해 주세요.')\n",
        "  print('exception :', exception)\n",
        "except IndexError as exception:\n",
        "  print('리스트의 인덱스 범위를 벗어났습니다.')\n",
        "  print('exception :', exception)"
      ],
      "metadata": {
        "colab": {
          "base_uri": "https://localhost:8080/",
          "height": 263
        },
        "id": "vUlt5mjC_JOU",
        "outputId": "8d0a48e5-51a7-45ce-f140-7e1b21d4348d"
      },
      "execution_count": null,
      "outputs": [
        {
          "name": "stdout",
          "output_type": "stream",
          "text": [
            "양의 정수 입력(범위는 0부터 4) : 2\n"
          ]
        },
        {
          "output_type": "error",
          "ename": "TypeError",
          "evalue": "ignored",
          "traceback": [
            "\u001b[0;31m---------------------------------------------------------------------------\u001b[0m",
            "\u001b[0;31mTypeError\u001b[0m                                 Traceback (most recent call last)",
            "\u001b[0;32m<ipython-input-13-d974df26e550>\u001b[0m in \u001b[0;36m<cell line: 4>\u001b[0;34m()\u001b[0m\n\u001b[1;32m      4\u001b[0m \u001b[0;32mtry\u001b[0m\u001b[0;34m:\u001b[0m\u001b[0;34m\u001b[0m\u001b[0;34m\u001b[0m\u001b[0m\n\u001b[1;32m      5\u001b[0m   \u001b[0midx\u001b[0m \u001b[0;34m=\u001b[0m \u001b[0mint\u001b[0m\u001b[0;34m(\u001b[0m \u001b[0minput\u001b[0m\u001b[0;34m(\u001b[0m\u001b[0;34m'양의 정수 입력(범위는 0부터 {}) : '\u001b[0m\u001b[0;34m.\u001b[0m\u001b[0mformat\u001b[0m\u001b[0;34m(\u001b[0m\u001b[0mlen\u001b[0m\u001b[0;34m(\u001b[0m\u001b[0mlst\u001b[0m\u001b[0;34m)\u001b[0m\u001b[0;34m-\u001b[0m\u001b[0;36m1\u001b[0m\u001b[0;34m)\u001b[0m\u001b[0;34m)\u001b[0m\u001b[0;34m)\u001b[0m\u001b[0;34m\u001b[0m\u001b[0;34m\u001b[0m\u001b[0m\n\u001b[0;32m----> 6\u001b[0;31m   \u001b[0mprint\u001b[0m\u001b[0;34m(\u001b[0m\u001b[0midx\u001b[0m \u001b[0;34m+\u001b[0m \u001b[0;34m'번째 요소 : {}'\u001b[0m\u001b[0;34m.\u001b[0m\u001b[0mformat\u001b[0m\u001b[0;34m(\u001b[0m\u001b[0mlst\u001b[0m\u001b[0;34m[\u001b[0m\u001b[0midx\u001b[0m\u001b[0;34m]\u001b[0m\u001b[0;34m)\u001b[0m\u001b[0;34m)\u001b[0m    \u001b[0;31m# 일부러 TypeError 발생시킴\u001b[0m\u001b[0;34m\u001b[0m\u001b[0;34m\u001b[0m\u001b[0m\n\u001b[0m\u001b[1;32m      7\u001b[0m \u001b[0;34m\u001b[0m\u001b[0m\n\u001b[1;32m      8\u001b[0m \u001b[0;32mexcept\u001b[0m \u001b[0mValueError\u001b[0m \u001b[0;32mas\u001b[0m \u001b[0mexception\u001b[0m\u001b[0;34m:\u001b[0m\u001b[0;34m\u001b[0m\u001b[0;34m\u001b[0m\u001b[0m\n",
            "\u001b[0;31mTypeError\u001b[0m: unsupported operand type(s) for +: 'int' and 'str'"
          ]
        }
      ]
    },
    {
      "cell_type": "markdown",
      "source": [
        "TypeError로 인해 프로그램이 실행 도중 종료되었다. 인위적으로 TypeError를 발생시켰기 때문에 우리는 TypeError가 발생할 것을 예상할 수 있었지만 except 구문으로 예외 처리를 설정해 놓지 않은 예외가 발생할 수 있다. 그래서 프로그램이 실행 도중 종료될 수 있는데 이를 막기 위해 코드를 수정해 보면 다음과 같다."
      ],
      "metadata": {
        "id": "aavCg2gEAVY3"
      }
    },
    {
      "cell_type": "code",
      "source": [
        "lst = [1, 2, 3, 4, 5]\n",
        "\n",
        "try:\n",
        "  idx = int( input('양의 정수 입력(범위는 0부터 {})> '.format(len(lst)-1)))\n",
        "  print(idx + '번째 요소 : {}'.format(lst[idx]))    # 일부러 TypeError 발생시킴\n",
        "\n",
        "except ValueError as exception:\n",
        "  print('정수를 입력해 주세요.')\n",
        "  print('exception :', exception)\n",
        "except IndexError as exception:\n",
        "  print('리스트의 인덱스 범위를 벗어났습니다.')\n",
        "  print('exception :', exception)\n",
        "except Exception as exception:\n",
        "  print('예상하지 못한 예외 상활 발생')\n",
        "  print(type(exception), exception)"
      ],
      "metadata": {
        "colab": {
          "base_uri": "https://localhost:8080/"
        },
        "id": "FbYZa13h23Du",
        "outputId": "c7521dee-39de-4919-edae-5abd22c94e34"
      },
      "execution_count": null,
      "outputs": [
        {
          "output_type": "stream",
          "name": "stdout",
          "text": [
            "양의 정수 입력(범위는 0부터 4)> 2\n",
            "예상하지 못한 예외 상활 발생\n",
            "<class 'TypeError'> unsupported operand type(s) for +: 'int' and 'str'\n"
          ]
        }
      ]
    },
    {
      "cell_type": "code",
      "source": [
        "# 인위적으로 ValueError 발생시킴\n",
        "\n",
        "from logging import exception\n",
        "lst = [1, 2, 3, 4, 5]\n",
        "\n",
        "try:\n",
        "  idx = int( input('양의 정수 입력(범위는 0부터 {})> '.format(len(lst)-1)))\n",
        "  print(idx + '번째 요소 : {}'.format(lst[idx]))    # 일부러 TypeError 발생시킴\n",
        "\n",
        "except Exception as exception:\n",
        "  print('예상하지 못한 예외 상활 발생')\n",
        "  print(type(exception), exception)\n",
        "except ValueError as exception:\n",
        "  print('정수를 입력해 주세요.')\n",
        "  print('exception :', exception)\n",
        "except IndexError as exception:\n",
        "  print('리스트의 인덱스 범위를 벗어났습니다.')\n",
        "  print('exception :', exception)\n",
        "except TypeError as ex:\n",
        "  print('-------')\n",
        "  print('exception: ', ex)"
      ],
      "metadata": {
        "colab": {
          "base_uri": "https://localhost:8080/"
        },
        "outputId": "de0abf05-cb4e-4956-e463-ccd41e1f7944",
        "id": "29zYkMhlpeXt"
      },
      "execution_count": 7,
      "outputs": [
        {
          "output_type": "stream",
          "name": "stdout",
          "text": [
            "양의 정수 입력(범위는 0부터 4)> 2\n",
            "예상하지 못한 예외 상활 발생\n",
            "<class 'TypeError'> unsupported operand type(s) for +: 'int' and 'str'\n"
          ]
        }
      ]
    },
    {
      "cell_type": "markdown",
      "source": [
        "###<font color=blue>Quiz</font>\n",
        "\n",
        "위 코드를 실행시킨 후 문자 `'a'`를 입력하면 7라인은 `int('a')`와 같은 연산을 시도합니다. 따라서 ValueError가 발생합니다. 그러면 10번 라인에 걸리나요? 아니면 13번 라인에 걸리나요?\n"
      ],
      "metadata": {
        "id": "99BU_fOPE2I6"
      }
    },
    {
      "cell_type": "code",
      "source": [
        "# 인위적으로 ValueError 발생시킴\n",
        "\n",
        "from logging import exception\n",
        "lst = [1, 2, 3, 4, 5]\n",
        "\n",
        "try:\n",
        "  idx = int( input('양의 정수 입력(범위는 0부터 {})> '.format(len(lst)-1)))\n",
        "  print(idx + '번째 요소 : {}'.format(lst[idx]))    # 일부러 TypeError 발생시킴\n",
        "\n",
        "except Exception as exception:\n",
        "  print('예상하지 못한 예외 상황 발생')\n",
        "  print(type(exception), exception)\n",
        "except ValueError as exception:\n",
        "  print('정수를 입력해 주세요.')\n",
        "  print('exception :', exception)\n",
        "except IndexError as exception:\n",
        "  print('리스트의 인덱스 범위를 벗어났습니다.')\n",
        "  print('exception :', exception)\n"
      ],
      "metadata": {
        "colab": {
          "base_uri": "https://localhost:8080/"
        },
        "id": "qcsPtq-NEhbb",
        "outputId": "164be0be-1f5e-4a91-9f24-603841d64226"
      },
      "execution_count": 1,
      "outputs": [
        {
          "output_type": "stream",
          "name": "stdout",
          "text": [
            "양의 정수 입력(범위는 0부터 4)> a\n",
            "예상하지 못한 예외 상활 발생\n",
            "<class 'ValueError'> invalid literal for int() with base 10: 'a'\n"
          ]
        }
      ]
    },
    {
      "cell_type": "markdown",
      "source": [
        "###raise 구문\n",
        "프로그램이 실행 도중 강제 종료되는 것을 막기 위해 예외는 꼭 처리되어야 한다. 하지만 프로그램을 개발하는 동안에는 정말 의도적으로 예외 상황을 만들기도 한다. '아직 구현하지 않은 부분이 있는데 까먹을 수 있으니 확실하게 문제(에러)가 생기게 만들자. 그래서 나중에 이부분을 코딩해야한다는 것을 기억하게' 또는 '이 상태로 프로그램이 더 진행되면 프로그램이 이 시점에 종료하는 것 보다 더 큰 문제를 일으킬 수 있으니 여기서 강제 종료 시키자' 등의 이유에서 의도적으로 예외를 발생시키게 된다."
      ],
      "metadata": {
        "id": "cEBYm6L0B8ca"
      }
    },
    {
      "cell_type": "code",
      "source": [
        "number = input('정수 입력 > ')\n",
        "number = int( number )\n",
        "\n",
        "if number > 0:\n",
        "  # 양수일 때, 아직 미구현\n",
        "  raise NotImplementedError\n",
        "else:\n",
        "  #음수 일때, 아직 미구현\n",
        "  raise NotImplementedError\n"
      ],
      "metadata": {
        "colab": {
          "base_uri": "https://localhost:8080/",
          "height": 266
        },
        "id": "fz4kRry7CmS6",
        "outputId": "5aa5b896-2cf6-42af-de2b-c871a2b44423"
      },
      "execution_count": null,
      "outputs": [
        {
          "name": "stdout",
          "output_type": "stream",
          "text": [
            "정수 입력 > 1\n"
          ]
        },
        {
          "output_type": "error",
          "ename": "NotImplementedError",
          "evalue": "ignored",
          "traceback": [
            "\u001b[0;31m---------------------------------------------------------------------------\u001b[0m",
            "\u001b[0;31mNotImplementedError\u001b[0m                       Traceback (most recent call last)",
            "\u001b[0;32m<ipython-input-28-ff4b79803769>\u001b[0m in \u001b[0;36m<module>\u001b[0;34m\u001b[0m\n\u001b[1;32m      4\u001b[0m \u001b[0;32mif\u001b[0m \u001b[0mnumber\u001b[0m \u001b[0;34m>\u001b[0m \u001b[0;36m0\u001b[0m\u001b[0;34m:\u001b[0m\u001b[0;34m\u001b[0m\u001b[0;34m\u001b[0m\u001b[0m\n\u001b[1;32m      5\u001b[0m   \u001b[0;31m# 양수일 때, 아직 미구현\u001b[0m\u001b[0;34m\u001b[0m\u001b[0;34m\u001b[0m\u001b[0;34m\u001b[0m\u001b[0m\n\u001b[0;32m----> 6\u001b[0;31m   \u001b[0;32mraise\u001b[0m \u001b[0mNotImplementedError\u001b[0m\u001b[0;34m\u001b[0m\u001b[0;34m\u001b[0m\u001b[0m\n\u001b[0m\u001b[1;32m      7\u001b[0m \u001b[0;32melse\u001b[0m\u001b[0;34m:\u001b[0m\u001b[0;34m\u001b[0m\u001b[0;34m\u001b[0m\u001b[0m\n\u001b[1;32m      8\u001b[0m   \u001b[0;31m#음수 일때, 아직 미구현\u001b[0m\u001b[0;34m\u001b[0m\u001b[0;34m\u001b[0m\u001b[0;34m\u001b[0m\u001b[0m\n",
            "\u001b[0;31mNotImplementedError\u001b[0m: "
          ]
        }
      ]
    },
    {
      "cell_type": "markdown",
      "source": [
        "아직 구현되지 않은 부분이므로 일부러 예외를 발생시켜 프로그램이 종료되게 만들어서 미 구현된 파트가 여기 있다는 것을 잊어버리지 않게 하는 것이다. 이때 사용한 raise 키워드가 예외를 인위적으로 발생시키는 명령이다.\n",
        "\n",
        "```python\n",
        "raise 예외_객체\n",
        "```\n"
      ],
      "metadata": {
        "id": "jZvIEvzFDAk-"
      }
    }
  ]
}