{
  "nbformat": 4,
  "nbformat_minor": 0,
  "metadata": {
    "colab": {
      "provenance": [],
      "authorship_tag": "ABX9TyPl73aG9AsxXocJGJFPMauV",
      "include_colab_link": true
    },
    "kernelspec": {
      "name": "python3",
      "display_name": "Python 3"
    },
    "language_info": {
      "name": "python"
    }
  },
  "cells": [
    {
      "cell_type": "markdown",
      "metadata": {
        "id": "view-in-github",
        "colab_type": "text"
      },
      "source": [
        "<a href=\"https://colab.research.google.com/github/Jidonghun/K-digital-BigData-analysis/blob/main/%ED%81%B4%EB%9E%98%EC%8A%A4.ipynb\" target=\"_parent\"><img src=\"https://colab.research.google.com/assets/colab-badge.svg\" alt=\"Open In Colab\"/></a>"
      ]
    },
    {
      "cell_type": "markdown",
      "source": [
        "# 클래스\n",
        "\n",
        "## 객체(Object)란 무엇인가\n",
        "- 객체\n",
        "  + 변수(속성, attribute)\n",
        "  + 함수(메서드, method)\n",
        "\n",
        "- 객체(사물)\n",
        "  + 객체가 가지고 있는 함수(메서드)는 해당 객체의 기능을 의미하며\n",
        "  + 다른 객체와 어떻게 상호 작용하는지를 정의 함."
      ],
      "metadata": {
        "id": "PHufapF_4uru"
      }
    },
    {
      "cell_type": "markdown",
      "source": [
        "##클래스(Class)란 무엇인가?\n",
        "- 클래스는 객체를 만들기 위한 설계도\n",
        "  + 객체 설계 → Tiguan = Tiger + Iguana\n",
        "    * 속성(attribute, 변수)\n",
        "    * 메서드(method, <font color='gray'>(멤버)</font>함수)\n",
        "- Class(설계도) 예\n",
        "\n",
        "```python\n",
        "class Tiguan():\n",
        "  color = 'black'\n",
        "```"
      ],
      "metadata": {
        "id": "0CRbt0YNE-ll"
      }
    },
    {
      "cell_type": "code",
      "source": [
        "class Tiguan():\n",
        "  color = 'black'       # 속성(attribute, 변수)\n",
        "\n",
        "  def run(self):        # 메서드(method, 함수)\n",
        "    print('꼼지락~ 꼼지락~')\n",
        "\n",
        "\n",
        "tiguan = Tiguan()       # 이름이 tiguan\n",
        "\n",
        "print(tiguan.color)\n",
        "print(type(tiguan))"
      ],
      "metadata": {
        "colab": {
          "base_uri": "https://localhost:8080/"
        },
        "id": "CE2v3o2VF6yu",
        "outputId": "e4170d16-dd98-45ff-b4cd-881fdebf626f"
      },
      "execution_count": null,
      "outputs": [
        {
          "output_type": "stream",
          "name": "stdout",
          "text": [
            "black\n",
            "<class '__main__.Tiguan'>\n"
          ]
        }
      ]
    },
    {
      "cell_type": "markdown",
      "source": [
        "## 클래스(Class) 정의\n",
        "### 객체 초기화 함수와 속성\n",
        "- 초기화 함수 : `__init__(self)`\n",
        "  + `self` : 생성될(생성중인) 객체 자기 자신\n",
        "\n",
        "```python\n",
        "class Tiguan():\n",
        "  def __init__(self):\n",
        "    pass\n",
        "```\n"
      ],
      "metadata": {
        "id": "bxSz_VooGfag"
      }
    },
    {
      "cell_type": "code",
      "source": [
        "class Tiguan():\n",
        "  def __init__(self, name):\n",
        "    self.name = name\n",
        "\n",
        "tiguan = Tiguan('쫑')\n",
        "\n",
        "print(tiguan.name)"
      ],
      "metadata": {
        "colab": {
          "base_uri": "https://localhost:8080/"
        },
        "id": "8V7dB3POHEKF",
        "outputId": "4fb625cb-d568-400d-899d-bf6ad9e1e051"
      },
      "execution_count": null,
      "outputs": [
        {
          "output_type": "stream",
          "name": "stdout",
          "text": [
            "쫑\n"
          ]
        }
      ]
    },
    {
      "cell_type": "markdown",
      "source": [
        "- 클래스, Tiguan은\n",
        "  + name 속성을 갖고 있음\n",
        "  + `__init__(self)` 초기화 메서드만 가지고 있음\n"
      ],
      "metadata": {
        "id": "qVoSSw4mHUnc"
      }
    },
    {
      "cell_type": "markdown",
      "source": [
        "```python\n",
        "tiguan = Tiguan('쫑')\n",
        "```\n",
        "위 statement(문장)이 실행되면\n",
        "- Tiguan 클래스 정의가 어떻게 되어 있는지 검색\n",
        "- 새 객체(self)를 메모리에 생성\n",
        "- 객체의 `__init__(self, name)` 메서드를 호출하면서\n",
        "  + 새롭게 생성된 객체(self)와\n",
        "  + 인자 `'쫑'`을 `name` 매개변수를 통해 `__init__()`함수에 전달\n",
        "- 반환된 객체를 `tiguan`에 할당\n"
      ],
      "metadata": {
        "id": "NHlgxer6Hwb1"
      }
    },
    {
      "cell_type": "markdown",
      "source": [
        "### 객체의 메서드\n",
        "```python\n",
        "class Tiguan():\n",
        "  def __init__(self, name):\n",
        "    self.name = name\n",
        "  \n",
        "  def run(self):\n",
        "    print('꼼지란~ 꼼지락~')\n",
        "```\n"
      ],
      "metadata": {
        "id": "wOwI7ibKJE2h"
      }
    },
    {
      "cell_type": "code",
      "source": [
        "class Tiguan():\n",
        "  def __init__(self, name):\n",
        "    self.name = name\n",
        "\n",
        "  def run(self):\n",
        "    print('꼼지란~ 꼼지락~')\n",
        "\n",
        "tiguan = Tiguan('쫑')\n",
        "print( tiguan.name )      # 인스턴스, tiguan의 name 속성 프린트\n",
        "tiguan.run()              # 인스턴스, tiguan의 run() 메서드 호출"
      ],
      "metadata": {
        "colab": {
          "base_uri": "https://localhost:8080/"
        },
        "id": "W5NpnIqNJS_u",
        "outputId": "a7b56ba0-56f9-4be8-b87f-de5f31c654e4"
      },
      "execution_count": null,
      "outputs": [
        {
          "output_type": "stream",
          "name": "stdout",
          "text": [
            "쫑\n",
            "꼼지란~ 꼼지락~\n"
          ]
        }
      ]
    },
    {
      "cell_type": "markdown",
      "source": [
        "####<font color=blue>Quiz</font>\n",
        "아래 코드를 분석하세요."
      ],
      "metadata": {
        "id": "0BU8tsK1J2uL"
      }
    },
    {
      "cell_type": "code",
      "source": [
        "class Tiguan():\n",
        "  def __init__(self, name):\n",
        "    self.name = name\n",
        "    self.hello()              # look at me\n",
        "\n",
        "  def run(self):\n",
        "    print('꼼지란~ 꼼지락~')\n",
        "\n",
        "  def hello(self):\n",
        "    print('안녕하세요')\n",
        "\n",
        "tiguan = Tiguan('메리')"
      ],
      "metadata": {
        "colab": {
          "base_uri": "https://localhost:8080/"
        },
        "id": "kUPKp_u2J54z",
        "outputId": "c12168ad-00c4-441d-fc9b-c729cec6a8fa"
      },
      "execution_count": null,
      "outputs": [
        {
          "output_type": "stream",
          "name": "stdout",
          "text": [
            "안녕하세요\n"
          ]
        }
      ]
    },
    {
      "cell_type": "markdown",
      "source": [
        "## 클래스(Class)의 상속(Inheritance), 설계도 복사?\n",
        "- 클래스(객체 설계도) 상속\n",
        "\n",
        "```python\n",
        "class Tiguan():\n",
        "  def __init__(self, name):\n",
        "    self.name = name\n",
        "    self.hello()\n",
        "    \n",
        "  def run(self):\n",
        "    print('꼼지락~ 꼼지락~')\n",
        "  \n",
        "  def hello(self):\n",
        "    print('안녕하세요')\n",
        "```"
      ],
      "metadata": {
        "id": "M68re_vwKV0h"
      }
    },
    {
      "cell_type": "markdown",
      "source": [
        "<font color = red>**부모(Tiguan)나 자식(SonOfTiguan)이나 뛰는 게 똑 같네!**</font>\n",
        "\n",
        "- 부모 클래스로부터 속성, 메서드를 상속 받음\n",
        "- <font color=blue>필요에 따라 속성, 메서드를 추가, 변경하여 자식 클래스를 생성할 수 있음</font>\n",
        "\n",
        "\n"
      ],
      "metadata": {
        "id": "L9U5Z0sbK9wi"
      }
    },
    {
      "cell_type": "code",
      "source": [
        "class SonOfTiguan(Tiguan):\n",
        "  def shout(self):\n",
        "    print('My parent is a Tiguan!')\n",
        "\n",
        "son_of_tiguan = SonOfTiguan('해피')\n",
        "son_of_tiguan.run()\n",
        "son_of_tiguan.shout()"
      ],
      "metadata": {
        "colab": {
          "base_uri": "https://localhost:8080/"
        },
        "id": "NqTUQ2igLmWt",
        "outputId": "0213f463-83eb-409a-c67f-3bd4258115f4"
      },
      "execution_count": null,
      "outputs": [
        {
          "output_type": "stream",
          "name": "stdout",
          "text": [
            "안녕하세요\n",
            "꼼지란~ 꼼지락~\n",
            "My parent is a Tiguan!\n"
          ]
        }
      ]
    },
    {
      "cell_type": "markdown",
      "source": [
        "## 메서드 오버라이드(override)\n",
        "- 메서드(기능) 오버라이드(무시, 기각)\n",
        "  + 부모 클래스에 포함된 메서드 <font color=blue>재정의</font>\n"
      ],
      "metadata": {
        "id": "0QunLwIfMTI9"
      }
    },
    {
      "cell_type": "code",
      "source": [
        "class SonOfTiguan(Tiguan):\n",
        "  def shout(self):\n",
        "    print('My parent is a Tiguan!')\n",
        "  def run(self):\n",
        "    print('하나 둘~ 하나 둘~')\n",
        "\n",
        "son_of_tiguan = SonOfTiguan('해피')\n",
        "son_of_tiguan.run()"
      ],
      "metadata": {
        "colab": {
          "base_uri": "https://localhost:8080/"
        },
        "id": "5g4O0JcIMlbr",
        "outputId": "60e9418d-2314-452b-deb2-6f311025062a"
      },
      "execution_count": null,
      "outputs": [
        {
          "output_type": "stream",
          "name": "stdout",
          "text": [
            "안녕하세요\n",
            "하나 둘~ 하나 둘~\n"
          ]
        }
      ]
    },
    {
      "cell_type": "markdown",
      "source": [
        "## 부모 클래스의 능력(기능, 메서드)를 호출\n",
        "```python\n",
        "class SonOfTiguan(Tiguan):\n",
        "  def __init__(self, name, color): # method overide\n",
        "    super().__init__(name)\n",
        "    self.color = color\n",
        "\n",
        "  def shout(self):                  # method 추가\n",
        "    print('My parent is a Tiguan!')\n",
        "\n",
        "  def run(self):                    # method override  \n",
        "    print('하나 둘~ 하나 둘~')\n",
        "```"
      ],
      "metadata": {
        "id": "CYLqna_TNLh5"
      }
    },
    {
      "cell_type": "code",
      "source": [
        "class SonOfTiguan(Tiguan):\n",
        "  def __init__(self, name, color): # method overide\n",
        "    super().__init__(name)\n",
        "    self.color = color\n",
        "\n",
        "\n",
        "  def shout(self):                  # method 추가\n",
        "    print('My parent is a Tiguan!')\n",
        "\n",
        "  def run(self):                    # method override\n",
        "    print('하나 둘~ 하나 둘~')\n",
        "\n",
        "son = SonOfTiguan('메리', 'black')\n",
        "print(son.name)\n",
        "print(son.color)\n"
      ],
      "metadata": {
        "colab": {
          "base_uri": "https://localhost:8080/"
        },
        "id": "uCCtF_6zOIFb",
        "outputId": "6bfcc456-048a-481c-8bcc-0bde0ad11db0"
      },
      "execution_count": null,
      "outputs": [
        {
          "output_type": "stream",
          "name": "stdout",
          "text": [
            "안녕하세요\n",
            "메리\n",
            "black\n"
          ]
        }
      ]
    }
  ]
}