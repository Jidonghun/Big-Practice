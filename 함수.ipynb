{
  "nbformat": 4,
  "nbformat_minor": 0,
  "metadata": {
    "colab": {
      "provenance": [],
      "authorship_tag": "ABX9TyPhU0XKLWqTvIpo+A/wqKty",
      "include_colab_link": true
    },
    "kernelspec": {
      "name": "python3",
      "display_name": "Python 3"
    },
    "language_info": {
      "name": "python"
    }
  },
  "cells": [
    {
      "cell_type": "markdown",
      "metadata": {
        "id": "view-in-github",
        "colab_type": "text"
      },
      "source": [
        "<a href=\"https://colab.research.google.com/github/Jidonghun/K-digital-BigData-analysis/blob/main/%ED%95%A8%EC%88%98.ipynb\" target=\"_parent\"><img src=\"https://colab.research.google.com/assets/colab-badge.svg\" alt=\"Open In Colab\"/></a>"
      ]
    },
    {
      "cell_type": "markdown",
      "source": [
        "### 함수\n",
        "\n",
        "#### 함수 만들기\n",
        "\n",
        "####**시작하기 전에**\n",
        "함수(기능)을 호출 → 함수(기능)를 실행  \n",
        "매개변수 → 함수(기능)을 실행할 때 함수에 전달할 값을 가지고 있는 변수  \n",
        "리턴값 → 함수(기능)가 실행을 종료하면서 반화는 하는 값  \n",
        "\n",
        "\n",
        "함수를 만드는 이유\n",
        "- 반복되는 코드를 하나로 묶기 위해\n",
        "- 기능별로 코드를 묶기 위해 (분업화를 위해)\n"
      ],
      "metadata": {
        "id": "IGvQa-PpAuAd"
      }
    },
    {
      "cell_type": "markdown",
      "source": [
        "###함수의 기본\n",
        "함수를 생성하는 코드의 기본 구조를 아래 보인다.\n",
        "\n",
        "```python\n",
        "def function_name():\n",
        "  # statement(문장 - 실행할 수 있는 코드의 최소 단위)\n",
        "```"
      ],
      "metadata": {
        "id": "EFyvmYPIBHUG"
      }
    },
    {
      "cell_type": "markdown",
      "source": [
        "###함수에 매개변수 만들기\n",
        "\n",
        "```python\n",
        "def function_name(매개변수1, 매개변수2, ...):\n",
        "  #statement(문장)\n",
        "```"
      ],
      "metadata": {
        "id": "j2lBfJLQBNRS"
      }
    },
    {
      "cell_type": "code",
      "source": [
        "def add(a, b):\n",
        "  print(a+b)\n",
        "\n",
        "add(1, 2, 3)"
      ],
      "metadata": {
        "colab": {
          "base_uri": "https://localhost:8080/",
          "height": 211
        },
        "id": "Xt7PrBxDQJDm",
        "outputId": "0e1402b2-26d8-43f6-9f50-9a2902fe9f70"
      },
      "execution_count": null,
      "outputs": [
        {
          "output_type": "error",
          "ename": "TypeError",
          "evalue": "ignored",
          "traceback": [
            "\u001b[0;31m---------------------------------------------------------------------------\u001b[0m",
            "\u001b[0;31mTypeError\u001b[0m                                 Traceback (most recent call last)",
            "\u001b[0;32m<ipython-input-5-f26bd37e0868>\u001b[0m in \u001b[0;36m<module>\u001b[0;34m\u001b[0m\n\u001b[1;32m      2\u001b[0m   \u001b[0mprint\u001b[0m\u001b[0;34m(\u001b[0m\u001b[0ma\u001b[0m\u001b[0;34m+\u001b[0m\u001b[0mb\u001b[0m\u001b[0;34m)\u001b[0m\u001b[0;34m\u001b[0m\u001b[0;34m\u001b[0m\u001b[0m\n\u001b[1;32m      3\u001b[0m \u001b[0;34m\u001b[0m\u001b[0m\n\u001b[0;32m----> 4\u001b[0;31m \u001b[0madd\u001b[0m\u001b[0;34m(\u001b[0m\u001b[0;36m1\u001b[0m\u001b[0;34m,\u001b[0m \u001b[0;36m2\u001b[0m\u001b[0;34m,\u001b[0m \u001b[0;36m3\u001b[0m\u001b[0;34m)\u001b[0m\u001b[0;34m\u001b[0m\u001b[0;34m\u001b[0m\u001b[0m\n\u001b[0m",
            "\u001b[0;31mTypeError\u001b[0m: add() takes 2 positional arguments but 3 were given"
          ]
        }
      ]
    },
    {
      "cell_type": "markdown",
      "source": [
        "##<font color=blue>가변 매개변수</font>\n",
        "\n",
        "앞서 살펴본 함수는 함수 선언할 때의 매개변수 개수와 함수를 호출할 때의 매개변수의 개수가 같아야 한다. 적어도 안되고 많아도 안된다. 그런데 그동안 많이 사용했던 `print()` 함수는 매개변수를 1개를 사용해도 되고 2개를 사용해도 되고 아무런 문제가 없었다."
      ],
      "metadata": {
        "id": "yjugw6LDBfSm"
      }
    },
    {
      "cell_type": "markdown",
      "source": [
        " 이와 같이 매개변수를 주는 데로 받을 수 있는 함수를 <font color=blue>**가변 매개변수함수**</font>라고 한다. 매개변수를 주는 데로 받을 수 있다는 말은 매개 변수의 개수가 변할 수 있다는 의미이다. 가변 매개변수 함수는 다음과 같은 형태로 만든다.\n",
        "\n",
        "```python\n",
        "def function_name(일반_매개변수1, 일반_매개변수2, ..., *가변_매개변수):\n",
        "  #statement(문장)\n",
        "```\n",
        "<font color=blue>**가변 매개변수**</font>라는 것을 명시하기 위해 매개변수 앞에 `*`를 붙여 표시한다. <font color=blue>가변 매개변수를 사용할 때는 아래 두 가지 제약</font>이 있다.\n",
        "1. 가변 매개변수 뒤에는 일반 매개변수를 위치시킬 수 없음.\n",
        "2. 가변 매개변수는 하나만 사용할 수 있음.\n",
        "\n",
        "\n",
        "위와 같은 제약 사항이 없으면 가변 매개변수가 어느 것인지 알수 없기 때문에 만들어진 제약이다. 예를 들어 아래 코드와 같은 함수 선언이 있다고 가정하겠다.\n",
        "\n",
        "```python\n",
        "def what_eat(n, *data):\n",
        "  # statement(문장)\n",
        "```\n",
        "\n",
        "위 함수 선언에서 매개변수 `n`은 <font color=blue>**일반 매개변수**</font>이다. `data`가 가변 매개변수이다. 가변 매개변수 `data`뒤에 일반 매개변수가 없다. 그리고 가변 매개 변수는 하나만 있다."
      ],
      "metadata": {
        "id": "LELzm0qyO8-D"
      }
    },
    {
      "cell_type": "code",
      "source": [
        "def print_n_times(n, *datas):\n",
        "  for i in range(n):\n",
        "    for data in datas:\n",
        "      print( '{} '.format(data), end='' )\n",
        "    print()\n",
        "\n",
        "print_n_times(2, '사과', '수박', '참외')\n",
        "print('--- 구분선 ---')\n",
        "print_n_times(3, '수박', '참외', '딸기', '귤')"
      ],
      "metadata": {
        "colab": {
          "base_uri": "https://localhost:8080/"
        },
        "id": "krx-HUAAUm7c",
        "outputId": "e030e9ed-4de4-4e72-e200-8864c5d224e7"
      },
      "execution_count": null,
      "outputs": [
        {
          "output_type": "stream",
          "name": "stdout",
          "text": [
            "사과 수박 참외 \n",
            "사과 수박 참외 \n",
            "--- 구분선 ---\n",
            "수박 참외 딸기 귤 \n",
            "수박 참외 딸기 귤 \n",
            "수박 참외 딸기 귤 \n"
          ]
        }
      ]
    },
    {
      "cell_type": "markdown",
      "source": [
        "만약 위에서 말한 \"가변 매개변수 뒤에 일반 매개 변수를 위치시킬 수 없음\" 제약이 없다면 함수 선언 형태를 아래와 같이 했을 수 있습니다.\n",
        "\n",
        "```python\n",
        "def function_name(*가변_매개변수, 일반_매개변수1, 일반_매겨변수2, ...):\n",
        "  #statement(문장)\n",
        "```\n",
        "\n",
        "그리고 `print_n_times('사과', '수박', '참외', 3)`과 같이 호출했을 것입니다. 이 경우 이 4개의 매개변수 중 몇 개가 가변 매개변수에 해당하고 몇 개가 일반 매개변수인지 구분하기 어렵습니다. 가변 매개변수에 해당하는 것이 `'사과'`, `'수박'`까지인지 `'사과'`, `'수박'`, `'참외'`까지인지 모호합니다.\n",
        "\n",
        "<br>\n",
        "\n",
        "가변 매개변수를 사용하는 어떤 함수를 선언하고 동작을 확인해 보겠습니다.\n",
        "\n",
        "\n"
      ],
      "metadata": {
        "id": "HXwWWce7Wov9"
      }
    },
    {
      "cell_type": "code",
      "source": [
        "def my_hobby(season, month, *what):\n",
        "  print(season + ' 제 취미는 ')\n",
        "  for hobby in what:\n",
        "    print(hobby)\n",
        "  print('입니다.')\n",
        "  print('특히 {}월에 취미 생활을 위해 시간을 많이 내는 편입니다.'.format(month))\n",
        "\n",
        "\n",
        "hobby = ['낚시', '등산', '드라이브']\n",
        "my_hobby('가을', 9, *hobby)     # Ch04-1 전개연산자"
      ],
      "metadata": {
        "colab": {
          "base_uri": "https://localhost:8080/"
        },
        "id": "5Goi5UmtaKkp",
        "outputId": "b7089bba-ccc3-492d-acb2-777a69d5455b"
      },
      "execution_count": null,
      "outputs": [
        {
          "output_type": "stream",
          "name": "stdout",
          "text": [
            "가을 제 취미는 \n",
            "낚시\n",
            "등산\n",
            "드라이브\n",
            "입니다.\n",
            "특히 9월에 취미 생활을 위해 시간을 많이 내는 편입니다.\n"
          ]
        }
      ]
    },
    {
      "cell_type": "markdown",
      "source": [
        "#####Quiz\n",
        "\n",
        "```python\n",
        "def my_hobby(season, month, *what):\n",
        "  print(season + ' 제 취미는 ')\n",
        "  for hobby in what:\n",
        "    print(hobby)\n",
        "  print('입니다.')\n",
        "  print('특히 {}월에 취미 생활을 위해 시간을 많이 내는 편입니다.'.format(month))\n",
        "\n",
        "\n",
        "hobby = ['낚시', '등산', '드라이브']\n",
        "my_hobby('가을', 9, *hobby)     \n",
        "```\n",
        "\n",
        "아래와 같이 출력되도록 `my_hobby()`함수를 수정.\n",
        "\n",
        "```\n",
        "가을 제 취미는 낚시, 등산, 드라이브입니다.\n",
        "특히 9월에 취미 생활을 위해 시간을 많이 내는 편입니다.\n",
        "```\n"
      ],
      "metadata": {
        "id": "NL7na45ebK0G"
      }
    },
    {
      "cell_type": "code",
      "source": [
        "def my_hobby(season, month, *what):\n",
        "  print(season + ' 제 취미는 ', end=' ')\n",
        "  for idx, hobby in enumerate(what):\n",
        "    if idx == len(what)-1:\n",
        "      print(hobby, end='')\n",
        "    else:\n",
        "      print(hobby, end=',')\n",
        "\n",
        "  print('입니다.')\n",
        "  print('특히 {}월에 취미 생활을 위해 시간을 많이 내는 편입니다.'.format(month))\n",
        "\n",
        "\n",
        "hobby = ['낚시', '등산', '드라이브']\n",
        "my_hobby('가을', 9, *hobby)\n"
      ],
      "metadata": {
        "colab": {
          "base_uri": "https://localhost:8080/"
        },
        "id": "3OByAmwS5bbd",
        "outputId": "741b42e5-678c-4f71-ce16-046fb76c8bed"
      },
      "execution_count": null,
      "outputs": [
        {
          "output_type": "stream",
          "name": "stdout",
          "text": [
            "가을 제 취미는  낚시,등산,드라이브입니다.\n",
            "특히 9월에 취미 생활을 위해 시간을 많이 내는 편입니다.\n"
          ]
        }
      ]
    },
    {
      "cell_type": "markdown",
      "source": [
        "###기본 매개변수\n",
        "그동안 편하게 써온 `print()` 함수는 다음과 같은 형태로 매개변수를 받는다.\n",
        "\n",
        "```python\n",
        "print(value, ..., sep=' ', end='\\n', file=sys.stdout, flush=False)\n",
        "```\n",
        "\n",
        "위 `print()` 함수의 `value`가 **가변 매개변수**이다. 앞에서 가변 매개변수는 일반 매개변수 앞에 올 수 없다. 그렇다면 `sep`, `end`, .., `flush`는 일반 매개변수가 아니다? `sep`, `end`, .., `flush`는 <font color=blue>**기본 매개변수**</font>이다. 기본 매개변수는 `매개변수 = 값` 형태이며, 해당 함수를 호출할 때 기본 매개변수 값을 지정하지 않을 경우 `매개변수=값`에 의해 값이 자동으로 할당된다."
      ],
      "metadata": {
        "id": "cEy0tggqBiBy"
      }
    },
    {
      "cell_type": "markdown",
      "source": [
        "함수에서 <font color=blue>기본 매개변수를 사용할 때 제약 조건이 하나 있다. </font>\n",
        "- 기본 매개변수 뒤에는 일반 매개변수가 올 수 없다."
      ],
      "metadata": {
        "id": "T7tYCkL1ilj4"
      }
    },
    {
      "cell_type": "markdown",
      "source": [
        "###키워드 매개변수\n",
        "\n",
        "함수에 대한 매개 변수로 가변 매개변수와 기본 매개변수를 둘 다 사용하는 경우를 생각해 보겠다. 두 가지 경우로 나누어서 생각해 보겠다.\n",
        "\n",
        "1. 기본 매개변수가 가변 매개변수보다 앞에 올 때, `def f_name(기본_매개변수, 가변_매개변수):`\n",
        "2. 가변 매개변수가 기본 매개변수보다 앞에 올 때, `def f_name(가변_매개변수, 기본_매개변수):`\n",
        "\n",
        "<br>\n",
        "\n",
        "####<ins>기본 매개변수가 가변 매개변수보다 앞에 올 때</ins>\n",
        "아래 코드 셀에 있는 코드가 실행되었을 때 어떻게 반응하는지 짐작해 보고 그 결과를 확인해 봐라. 기본 매개변수가 가변 매개변수 앞에 놓여있다."
      ],
      "metadata": {
        "id": "3-SX0TPeBmI3"
      }
    },
    {
      "cell_type": "code",
      "source": [
        "def print_n_times(n=2, *values):\n",
        "  for i in range(n):\n",
        "    for value in values:\n",
        "      print(value)\n",
        "    print()\n",
        "\n",
        "\n",
        "print_n_times(3, \"안녕하세요\", \"즐거운\", \"파이썬 프로그래밍\")"
      ],
      "metadata": {
        "colab": {
          "base_uri": "https://localhost:8080/"
        },
        "id": "MoDchdU2WWGL",
        "outputId": "ee258f52-b535-4990-f34f-3a93a27f24ef"
      },
      "execution_count": null,
      "outputs": [
        {
          "output_type": "stream",
          "name": "stdout",
          "text": [
            "안녕하세요\n",
            "즐거운\n",
            "파이썬 프로그래밍\n",
            "\n",
            "안녕하세요\n",
            "즐거운\n",
            "파이썬 프로그래밍\n",
            "\n",
            "안녕하세요\n",
            "즐거운\n",
            "파이썬 프로그래밍\n",
            "\n"
          ]
        }
      ]
    },
    {
      "cell_type": "markdown",
      "source": [
        "위 코드의 경우 에러 없이 동작을 했다. 함수에 대한 매개변수는 `3, \"안녕하세요\", \"즐거운\", \"파이썬 프로그래밍\"` 이렇게 4개가 주어졌다. 가변 매개변수의 개수를 모르기 때문에 기본 매개변수부터 결정하게 된다.  따라서 기본 매개변수(n)에 `3`이 할당되고 가변 매개변수(values)에는 나머지 매개변수인 `\"안녕하세요\", \"즐거운\", \"파이썬 프로그래밍\"`이 할당된다. 그래서 `range(n)`함수 호출에 문제가 없었다.\n",
        "\n",
        "<br>\n",
        "\n",
        "기본 매개변수가 앞에 놓인 경우 호출되는 함수에 매개변수 값을 전달하면 앞에 놓인 기본 매개변수의 값을 할당하려는 것으로 인식한다는 것이다.\n",
        "\n",
        "```python\n",
        "def print_n_times(n=2, *values):\n",
        "  for i in range(n):\n",
        "    for value in values:\n",
        "      print(value)\n",
        "    print()\n",
        "```\n",
        "\n",
        "`print_n_times(\"안녕하세요\", \"즐거운\", \"파이썬 프로그래밍\")`을 호출하면 파이썬은 이 함수의 매개변수는 기본 매개변수와 가변 매개변수 두 가지 타입으로 구성되어 있다는 것을 알고 3개의 매개변수를 기본 매개변수와 가변 매개변수로 나누려고 할 것이다.\n",
        "\n",
        "기본 매개변수(`n`)의 기본 설정 값(`2`)을 사용하겠다는 건지 아니면 기본 매개변수에 값(`\"안녕하세요\"`)을 할당하겠다는 건지 프로그래머의 마음을 알 길이 없다. 파이썬은 이렇게 생각한 것이다. \"난 모르겠다. 기본 매개변수에 값을 할당하려나 보다. 그럼 가변 매개변수의 개수는 2개군!\"\n",
        "\n",
        "`print_n_times(3, \"안녕하세요\", \"즐거운\", \"파이썬 프로그래밍\")`와 같이 호출하면 파이썬은 \"기본 매개변수(`n`)의 값이 `3`으로 바꾸는군. 가변 매개변수의 뒤에는 일반 매개변수가 없으니까 가변 매개변수의 값은 `\"안녕하세요\", \"즐거운\", \"파이썬 프로그래밍\"` 이렇게 3개구나\" 생각한다는 것이다.\n",
        "\n",
        "<br>\n",
        "\n",
        "기본 매개변수와 가변 매개변수를 같이 매개변수로 사용할 때, 기본 매개변수를 앞에 쓰고 가변 매개변수를 뒤에 쓰면 매개변수에 값 전달은 바르게 되는데 기본 매개변수 본연의 기능은 살아진다. 기본 매개변수에 값을 할당 하지 않았을 때 사전에 설정된 값이 적용된다는 기본 매개변수의 본연의 기능 말이다."
      ],
      "metadata": {
        "id": "ppKQc9NtWbfA"
      }
    },
    {
      "cell_type": "code",
      "source": [
        "def print_n_times(n=2, *values):\n",
        "  for i in range(n):\n",
        "    for value in values:\n",
        "      print(value)\n",
        "    print()\n",
        "\n",
        "print_n_times('안녕하세요', '즐거운', '파이썬 프로그래밍')"
      ],
      "metadata": {
        "colab": {
          "base_uri": "https://localhost:8080/",
          "height": 331
        },
        "id": "Uxl8R94pkclM",
        "outputId": "2a7032e1-21b2-4189-f9b9-eb0ecd163b0a"
      },
      "execution_count": null,
      "outputs": [
        {
          "output_type": "error",
          "ename": "TypeError",
          "evalue": "ignored",
          "traceback": [
            "\u001b[0;31m---------------------------------------------------------------------------\u001b[0m",
            "\u001b[0;31mTypeError\u001b[0m                                 Traceback (most recent call last)",
            "\u001b[0;32m<ipython-input-1-21ee5f46cf1b>\u001b[0m in \u001b[0;36m<cell line: 7>\u001b[0;34m()\u001b[0m\n\u001b[1;32m      5\u001b[0m     \u001b[0mprint\u001b[0m\u001b[0;34m(\u001b[0m\u001b[0;34m)\u001b[0m\u001b[0;34m\u001b[0m\u001b[0;34m\u001b[0m\u001b[0m\n\u001b[1;32m      6\u001b[0m \u001b[0;34m\u001b[0m\u001b[0m\n\u001b[0;32m----> 7\u001b[0;31m \u001b[0mprint_n_times\u001b[0m\u001b[0;34m(\u001b[0m\u001b[0;34m'안녕하세요'\u001b[0m\u001b[0;34m,\u001b[0m \u001b[0;34m'즐거운'\u001b[0m\u001b[0;34m,\u001b[0m \u001b[0;34m'파이썬 프로그래밍'\u001b[0m\u001b[0;34m)\u001b[0m\u001b[0;34m\u001b[0m\u001b[0;34m\u001b[0m\u001b[0m\n\u001b[0m",
            "\u001b[0;32m<ipython-input-1-21ee5f46cf1b>\u001b[0m in \u001b[0;36mprint_n_times\u001b[0;34m(n, *values)\u001b[0m\n\u001b[1;32m      1\u001b[0m \u001b[0;32mdef\u001b[0m \u001b[0mprint_n_times\u001b[0m\u001b[0;34m(\u001b[0m\u001b[0mn\u001b[0m\u001b[0;34m=\u001b[0m\u001b[0;36m2\u001b[0m\u001b[0;34m,\u001b[0m \u001b[0;34m*\u001b[0m\u001b[0mvalues\u001b[0m\u001b[0;34m)\u001b[0m\u001b[0;34m:\u001b[0m\u001b[0;34m\u001b[0m\u001b[0;34m\u001b[0m\u001b[0m\n\u001b[0;32m----> 2\u001b[0;31m   \u001b[0;32mfor\u001b[0m \u001b[0mi\u001b[0m \u001b[0;32min\u001b[0m \u001b[0mrange\u001b[0m\u001b[0;34m(\u001b[0m\u001b[0mn\u001b[0m\u001b[0;34m)\u001b[0m\u001b[0;34m:\u001b[0m\u001b[0;34m\u001b[0m\u001b[0;34m\u001b[0m\u001b[0m\n\u001b[0m\u001b[1;32m      3\u001b[0m     \u001b[0;32mfor\u001b[0m \u001b[0mvalue\u001b[0m \u001b[0;32min\u001b[0m \u001b[0mvalues\u001b[0m\u001b[0;34m:\u001b[0m\u001b[0;34m\u001b[0m\u001b[0;34m\u001b[0m\u001b[0m\n\u001b[1;32m      4\u001b[0m       \u001b[0mprint\u001b[0m\u001b[0;34m(\u001b[0m\u001b[0mvalue\u001b[0m\u001b[0;34m)\u001b[0m\u001b[0;34m\u001b[0m\u001b[0;34m\u001b[0m\u001b[0m\n\u001b[1;32m      5\u001b[0m     \u001b[0mprint\u001b[0m\u001b[0;34m(\u001b[0m\u001b[0;34m)\u001b[0m\u001b[0;34m\u001b[0m\u001b[0;34m\u001b[0m\u001b[0m\n",
            "\u001b[0;31mTypeError\u001b[0m: 'str' object cannot be interpreted as an integer"
          ]
        }
      ]
    },
    {
      "cell_type": "markdown",
      "source": [
        "위 코드의 경우 기본 매개변수 `n`에 '안녕하세요'가 할당된다. 그래서 위 코드셀의 2번 라인에서 에러가 났다. `range('안녕하세요')`!!\n",
        "\n",
        "기본매개변수의 경우 값을 명시적으로 할당하지 않으면 내정된 값이 자동 할당되는 특성이 있는데 위 코드의 경우 첫번째 매개 변수는 '기본매개변수'로의 기능을 수행하지 못하고 있다.\n",
        "\n",
        "결론적으로 말씀드리면 <font color=blue>\"기본 매개변수가 가변 매개변수 보다 앞에 오면 기본 매개변수가 제 기능을 못한다\"</font>이다.\n",
        "\n"
      ],
      "metadata": {
        "id": "oxN5vy97lE-K"
      }
    },
    {
      "cell_type": "markdown",
      "source": [
        "####<ins>기본 매개변수 중에서 필요한 값만 입력하기</ins>\n",
        "\n",
        "```python\n",
        "print(value, ..., sep=' ', end='\\n', file=sys.stdout, flush=False)\n",
        "```"
      ],
      "metadata": {
        "id": "nX3Cc3dXB7zJ"
      }
    },
    {
      "cell_type": "code",
      "source": [
        "def test(a, b=10, c=100):\n",
        "  print(a + b + c)\n",
        "\n",
        "\n",
        "# 기본 형태\n",
        "test(1, 2, 3)\n",
        "\n",
        "# 모든 매개변수를 키워드 매개변수 형식으로 처리\n",
        "test(a = 90, b = 90, c = 20)\n",
        "\n",
        "# 키우드 매개변수 형식으로 순서 상관 없이\n",
        "test(b=1, c = 2, a = 1)\n",
        "\n",
        "# 키워드 매개 변수로 일부 매개 변수만 지정\n",
        "test(10, c=100)"
      ],
      "metadata": {
        "colab": {
          "base_uri": "https://localhost:8080/"
        },
        "id": "8yxg5a7yq98Y",
        "outputId": "974f944c-6433-4520-c7b7-b6b08309bfce"
      },
      "execution_count": null,
      "outputs": [
        {
          "output_type": "stream",
          "name": "stdout",
          "text": [
            "6\n",
            "200\n",
            "4\n",
            "120\n"
          ]
        }
      ]
    },
    {
      "cell_type": "code",
      "source": [
        "def birth(year, m, d):\n",
        "  print(str(year)+'년', m, d)\n",
        "\n",
        "birth(d = 24, m = 1, year = 73)"
      ],
      "metadata": {
        "colab": {
          "base_uri": "https://localhost:8080/"
        },
        "id": "xvfS37STDxWT",
        "outputId": "e16ce92d-17d4-425d-e3f7-7b33551d6a61"
      },
      "execution_count": null,
      "outputs": [
        {
          "output_type": "stream",
          "name": "stdout",
          "text": [
            "73년 1 24\n"
          ]
        }
      ]
    },
    {
      "cell_type": "markdown",
      "source": [
        "### 추가\n"
      ],
      "metadata": {
        "id": "VlwO5Mj47gpD"
      }
    },
    {
      "cell_type": "code",
      "source": [
        "import matplotlib.pyplot as plt\n",
        "\n",
        "y = [1, 2, 3, 4]\n",
        "plt.plot(y)\n",
        "plt.show()"
      ],
      "metadata": {
        "colab": {
          "base_uri": "https://localhost:8080/",
          "height": 430
        },
        "id": "BseMF9B2FSJV",
        "outputId": "28c2121e-cb71-456a-ef3c-26e95ff3977d"
      },
      "execution_count": null,
      "outputs": [
        {
          "output_type": "display_data",
          "data": {
            "text/plain": [
              "<Figure size 640x480 with 1 Axes>"
            ],
            "image/png": "[encoded data removed]"
          },
          "metadata": {}
        }
      ]
    },
    {
      "cell_type": "code",
      "source": [
        "plt.plot(y, color='red', marker='s', linestyle='-' )\n",
        "plt.grid()\n",
        "plt.show()"
      ],
      "metadata": {
        "colab": {
          "base_uri": "https://localhost:8080/",
          "height": 430
        },
        "id": "ljD3isVtGa-c",
        "outputId": "9bc5d9df-feb9-4aba-c0d3-484620253b29"
      },
      "execution_count": null,
      "outputs": [
        {
          "output_type": "display_data",
          "data": {
            "text/plain": [
              "<Figure size 640x480 with 1 Axes>"
            ],
            "image/png": "[encoded data removed]"
          },
          "metadata": {}
        }
      ]
    },
    {
      "cell_type": "markdown",
      "source": [
        "### 리턴(Return)\n",
        "\n"
      ],
      "metadata": {
        "id": "_3Km7ZGoCGWS"
      }
    },
    {
      "cell_type": "markdown",
      "source": [
        "#### 값을 반환하면서 리턴\n",
        "  '리턴'의 의미는 프로그램의 흐름(또는 제어권)을 그 함수를 호출한 곳으로 넘긴다라고 생각하면 된다. 프로그램의 흐름이 자신(함수)을 호출한 쪽으로 넘기면서 값을 전달 할 수도 있고 아무 값도 전달하지 않고 흐름만 넘길 수도 있다."
      ],
      "metadata": {
        "id": "nXiNRt-CxRie"
      }
    },
    {
      "cell_type": "code",
      "source": [
        "def return_test():\n",
        "  x = 3\n",
        "  print(f'{x}를 호출한 쪽에 전달하면서 리턴(제어권을 반환)합니다.')\n",
        "  return x\n",
        "\n",
        "y = return_test()\n",
        "\n",
        "print(f'{y}를 받았습니다.')"
      ],
      "metadata": {
        "id": "ISzt2DHQmK7w",
        "colab": {
          "base_uri": "https://localhost:8080/"
        },
        "outputId": "d68135bd-60da-43ce-f45c-c4c124560f60"
      },
      "execution_count": null,
      "outputs": [
        {
          "output_type": "stream",
          "name": "stdout",
          "text": [
            "3를 호출한 쪽에 전달하면서 리턴(제어권을 반환)합니다.\n",
            "3를 받았습니다.\n"
          ]
        }
      ]
    },
    {
      "cell_type": "markdown",
      "source": [
        "####<ins>값을 반환하지 않고 리턴</ins>"
      ],
      "metadata": {
        "id": "NX5aP50wCKU-"
      }
    },
    {
      "cell_type": "code",
      "source": [
        "def double_print(string):\n",
        "  print(string)\n",
        "  print(string)\n",
        "\n",
        "data = double_print('Hello World!')\n",
        "print(data)"
      ],
      "metadata": {
        "id": "PljeKMDeCNxk",
        "colab": {
          "base_uri": "https://localhost:8080/"
        },
        "outputId": "fc419aae-80d8-4a18-843d-11f975f41c3a"
      },
      "execution_count": null,
      "outputs": [
        {
          "output_type": "stream",
          "name": "stdout",
          "text": [
            "Hello World!\n",
            "Hello World!\n",
            "None\n"
          ]
        }
      ]
    },
    {
      "cell_type": "code",
      "source": [
        "# 값을 전달하면서 제어권 반환\n",
        "def add(a, b):\n",
        "  result = a  + b\n",
        "  return result\n",
        "\n",
        "\n",
        "data = add(1, 4)\n",
        "print(data)"
      ],
      "metadata": {
        "colab": {
          "base_uri": "https://localhost:8080/"
        },
        "id": "8RP2S8D8zMJ3",
        "outputId": "6c770674-883c-44e5-edac-08f80a006fb6"
      },
      "execution_count": null,
      "outputs": [
        {
          "output_type": "stream",
          "name": "stdout",
          "text": [
            "5\n"
          ]
        }
      ]
    },
    {
      "cell_type": "code",
      "source": [
        "# 값을 전달하지 않고 제어권만 반환\n",
        "def add(a, b):\n",
        "  result = a  + b\n",
        "  return\n",
        "\n",
        "\n",
        "data = add(1, 4)\n",
        "print(data)"
      ],
      "metadata": {
        "colab": {
          "base_uri": "https://localhost:8080/"
        },
        "id": "Rd08Xu8WzVHt",
        "outputId": "f34d31c1-b143-4cd8-c0bd-8d05a63624f0"
      },
      "execution_count": null,
      "outputs": [
        {
          "output_type": "stream",
          "name": "stdout",
          "text": [
            "None\n"
          ]
        }
      ]
    },
    {
      "cell_type": "markdown",
      "source": [
        "###기본적인 함수의 활용\n",
        "\n",
        "#### 함수의 활용\n",
        "\n"
      ],
      "metadata": {
        "id": "EEC6dI_3CZbS"
      }
    },
    {
      "cell_type": "markdown",
      "source": [
        "###재귀 함수\n",
        "중학교 수학 시간에 팩토리얼(factorial)이라는 연산을 배운다.\n",
        "\n",
        "$$n! = n \\times (n-1) \\times (n-2) \\times ... \\times 1 \\tag{5-1}$$\n",
        "\n",
        "팩토리얼 계산은 크게 두 가지 방법이 있다.\n",
        "- 반복문으로 팩토리얼 구하기\n",
        "- 재귀 함수로 팩토리얼 구하기\n"
      ],
      "metadata": {
        "id": "lM7YsmFKg8A3"
      }
    },
    {
      "cell_type": "markdown",
      "source": [
        "####<ins>반복문으로 팩토리얼 구하기</ins>\n"
      ],
      "metadata": {
        "id": "dyS_crYRg-ca"
      }
    },
    {
      "cell_type": "markdown",
      "source": [
        "#####Quiz\n",
        "여러분이 직접 코드를 작성해 보세요.\n",
        "식 (5-1)은 식 (5-2)와 동일한 값을 갖는다는 점을 고려해서 저도 코드를 작성해 보겠습니다.\n",
        "\n",
        "$$n! = 1 \\times ... \\times (n-2) \\times (n-1) \\times n \\tag{5-2}$$\n"
      ],
      "metadata": {
        "id": "MiOW2I2VhBDX"
      }
    },
    {
      "cell_type": "code",
      "source": [
        "def factorial(n):\n",
        "  s = 1\n",
        "  for nn in range(1, n+1):                # n! = 1 x 2 x ... x (n-2) x (n-1) x n\n",
        "    s *= nn\n",
        "  print(s)\n",
        "\n",
        "\n",
        "factorial(4)  # 4 x 3 x 2 x 1 = 24"
      ],
      "metadata": {
        "colab": {
          "base_uri": "https://localhost:8080/"
        },
        "id": "ZmScxwVrf_YQ",
        "outputId": "fe2f18a3-21ef-469a-a295-55ddde47010f"
      },
      "execution_count": null,
      "outputs": [
        {
          "output_type": "stream",
          "name": "stdout",
          "text": [
            "24\n"
          ]
        }
      ]
    },
    {
      "cell_type": "markdown",
      "source": [
        "####<ins>재귀 함수로 팩토리얼 구하기</ins>\n",
        "재귀(recursion)란 '자기 자신을 호출하는 것'을 의미한다.\n",
        "\n",
        "$$n! = n \\times (n-1)! \\tag{5-3}$$\n",
        "\n",
        "그렇다면 앞서 우리는 만든 `factorial()`함수를 이용하여 $n!$ 계산을 위한 코드를 아래와 같이 만들 수 있겠다.\n",
        "\n",
        "```python\n",
        "n * factorial(n-1)\n",
        "```\n",
        "그럼 다시 $(n-1)!$ 계산을 위한 코드를 아래와 같이 만들 수 있다.\n",
        "\n",
        "```python\n",
        "(n-1) * factorinal(n-2)\n",
        "```\n",
        "\n"
      ],
      "metadata": {
        "id": "RN7qTq4OpoBC"
      }
    },
    {
      "cell_type": "code",
      "source": [
        "def factorial(n):\n",
        "  if n == 1:      # n이 0이라면 1을 리턴\n",
        "    print('{} = '.format(n), end='')\n",
        "    return 1\n",
        "  else:\n",
        "    print('{}x'.format(n), end='')\n",
        "    return n * factorial( n - 1)\n",
        "\n",
        "print(factorial(4))"
      ],
      "metadata": {
        "colab": {
          "base_uri": "https://localhost:8080/"
        },
        "id": "1cg0C1ntmLrv",
        "outputId": "b346a3d2-9805-485e-b932-748b40710833"
      },
      "execution_count": null,
      "outputs": [
        {
          "output_type": "stream",
          "name": "stdout",
          "text": [
            "4x3x2x1 = 24\n"
          ]
        }
      ]
    },
    {
      "cell_type": "code",
      "source": [
        "def factorial(n):\n",
        "  if n == 0:      # n이 0이라면 1을 리턴\n",
        "    return 1\n",
        "  else:\n",
        "    return n * factorial( n - 1)\n",
        "\n",
        "print(factorial(4))"
      ],
      "metadata": {
        "colab": {
          "base_uri": "https://localhost:8080/"
        },
        "id": "RaZTRvrOsBWv",
        "outputId": "653a0942-3751-4b95-a158-981e5b7c0f14"
      },
      "execution_count": null,
      "outputs": [
        {
          "output_type": "stream",
          "name": "stdout",
          "text": [
            "24\n"
          ]
        }
      ]
    },
    {
      "cell_type": "code",
      "source": [
        "print(factorial(5))"
      ],
      "metadata": {
        "colab": {
          "base_uri": "https://localhost:8080/"
        },
        "id": "01ATP8mStsOA",
        "outputId": "2a9807de-7d97-454a-ee26-1a58e0c82ca3"
      },
      "execution_count": null,
      "outputs": [
        {
          "output_type": "stream",
          "name": "stdout",
          "text": [
            "120\n"
          ]
        }
      ]
    },
    {
      "cell_type": "markdown",
      "source": [
        "###조기 리턴\n",
        "예전에는 특히 C언어 프로그래밍에서 함수를 선언한 직후에 함수에서 사용할 변수를 선언하고 리턴(`return`) 문은 함수 선언 코드의 맨 마지막에 하는 것이 좋다고 여겨졌다. 그러나 리턴 문을 코드의 중간에 사용할 수 있으며 최근에는 필요에 따라 함수 선언 코드 어디에서라도 리턴 문을 쓰고 있다.\n",
        "\n",
        "<br>\n",
        "\n",
        "함수 선언 코드의 끝에 리턴 문이 오게 하기 위해 아래와 같은 형태의 코드를 사용했다."
      ],
      "metadata": {
        "id": "NRmzy2-TngZ6"
      }
    },
    {
      "cell_type": "code",
      "source": [
        "def fibonacci(n):\n",
        "  if n in dictonary:\n",
        "    return dictonary[n]\n",
        "  else:\n",
        "    output = fibonacci(n-1) + fibonacci(n-2)\n",
        "    dictonary[n] = output\n",
        "    retrun output"
      ],
      "metadata": {
        "id": "Dt8cu8gBnu3W"
      },
      "execution_count": null,
      "outputs": []
    },
    {
      "cell_type": "code",
      "source": [
        "def fibonacci(n):\n",
        "  if n in dictonary:\n",
        "    return dictonary[n]\n",
        "  output = fibonacci(n-1) + fibonacci(n-2)\n",
        "  dictonary[n] = output\n",
        "  retrun output"
      ],
      "metadata": {
        "id": "PxverDzinyqe"
      },
      "execution_count": null,
      "outputs": []
    },
    {
      "cell_type": "markdown",
      "source": [
        "이렇게 프로그램 코드의 흐름 중간에 리턴 문을 사용하는 것을 조기 리터(earyl returns)이라고 부른다."
      ],
      "metadata": {
        "id": "SpZRZL45n6yR"
      }
    },
    {
      "cell_type": "markdown",
      "source": [
        "#####Quiz\n",
        "\n",
        "아래 코드의 실행 결과를 예측해 본 후 코드를 작성해서 예측과 결과를 비교해보세요.\n",
        "```python\n",
        "lst1 = [1, 2, 3]\n",
        "lst2 = [4, 5]\n",
        "\n",
        "print( lst1 + lst2 )\n",
        "print( lst1.append(lst2) )\n",
        "```\n"
      ],
      "metadata": {
        "id": "wXU_Y1eprK3b"
      }
    },
    {
      "cell_type": "code",
      "source": [
        "lst1 = [1, 2, 3]\n",
        "lst2 = [4]\n",
        "\n",
        "lst3 = lst1 + lst2\n",
        "print( lst3 )\n",
        "\n",
        "lst1.append(lst2)\n",
        "print( lst1 )"
      ],
      "metadata": {
        "colab": {
          "base_uri": "https://localhost:8080/"
        },
        "id": "1dSyHQqpruXK",
        "outputId": "eac601c2-e517-43d2-adb3-194aa5d23a30"
      },
      "execution_count": null,
      "outputs": [
        {
          "output_type": "stream",
          "name": "stdout",
          "text": [
            "[1, 2, 3, 4]\n",
            "[1, 2, 3, [4]]\n"
          ]
        }
      ]
    },
    {
      "cell_type": "markdown",
      "source": [
        "###리스트 평탄화하는 재귀 함수 만들기\n",
        "**리스트 평탄화**는 중첩된 리스트가 있을 때 중첩을 모두 제거 하고 풀어서 1차원 리스트로 바꾸는 것을 말한다. 다음과 같이 세번 중첩된 리스트를 평탄화하려면 어떻게 해야할까?\n",
        "\n",
        "<center>\n",
        "\n",
        "`[[1, 2, 3,], [4, [5, 6]], 7, [8, 9]]` →`[1, 2, 3, 4, 5, 6, 7, 8, 9]`\n",
        "\n",
        "</center>\n",
        "\n",
        "두번 중첩된 리스트를 평탄화하는 것은 비교적 쉬운 문제이지만 몇 번 중첩되었는지 모르는 리스트를 평탄화하는 작업은 조금 어렵다. 먼저 두 번 중첩된 리스트 하나를 입력받아 평탄화하는 함수를 만들어 보겠다.\n"
      ],
      "metadata": {
        "id": "mP2SyORfoCiB"
      }
    },
    {
      "cell_type": "code",
      "source": [
        "def flatten(data):\n",
        "  output =[]\n",
        "  for item in data:\n",
        "    if type(item) == list:\n",
        "      output += item\n",
        "    else:\n",
        "      output.append(item)\n",
        "  return output\n",
        "\n",
        "lst = [[1, 2, 3],4, [5, 6], 7]\n",
        "\n",
        "\n",
        "print('원본 :', lst)\n",
        "print('변환 :', flatten(lst))"
      ],
      "metadata": {
        "colab": {
          "base_uri": "https://localhost:8080/"
        },
        "id": "0zBMG_UApNlq",
        "outputId": "57e4a07d-bec1-4963-c35a-4e8cc7b5222d"
      },
      "execution_count": null,
      "outputs": [
        {
          "output_type": "stream",
          "name": "stdout",
          "text": [
            "원본 : [[1, 2, 3], 4, [5, 6], 7]\n",
            "변환 : [1, 2, 3, 4, 5, 6, 7]\n"
          ]
        }
      ]
    },
    {
      "cell_type": "code",
      "source": [
        "def flatten(data):\n",
        "  output =[]\n",
        "  for item in data:\n",
        "    if type(item) == list:\n",
        "      output += flatten(item)\n",
        "    else:\n",
        "      output.append(item)\n",
        "  return output\n",
        "\n",
        "\n",
        "lst = [[1, 2, 3,], [4, [5, 6]], 7, [8, 9]]\n",
        "print('원본 :', lst)\n",
        "print('변환 :', flatten(lst))"
      ],
      "metadata": {
        "colab": {
          "base_uri": "https://localhost:8080/"
        },
        "id": "05YSMqYUs-Vt",
        "outputId": "eb9d33ce-ebb7-43b7-cd1d-16cd3bb8c186"
      },
      "execution_count": null,
      "outputs": [
        {
          "output_type": "stream",
          "name": "stdout",
          "text": [
            "원본 : [[1, 2, 3], [4, [5, 6]], 7, [8, 9]]\n",
            "변환 : [1, 2, 3, 4, 5, 6, 7, 8, 9]\n"
          ]
        }
      ]
    },
    {
      "cell_type": "markdown",
      "source": [
        "## 함수 고급\n",
        "파이썬은 함수를 조금 편리하게 사용하도록 다양한 기능을 제공한다. 대표적인 것으로 튜플(tuple)과 람다(lamda)이다.\n",
        "- 튜플: 함수와 함께 많이 사용되는 리스트와 비슷한 자료형으로, 리스트와 다른 점은 한번 할당된 값을 변경할 수 없음.\n",
        "- 람다: 매개변수로 함수를 전달하기 위해 함수 구문을 작성하는 것이 번거롭고, 코드 공간 낭비라는 생각이 들 때 함수를 간단하고 쉽게 선언 하는 방법. 1회용 함수를 만들어야할 때 많이 쓰임\n"
      ],
      "metadata": {
        "id": "FPtpB9mZvxAv"
      }
    },
    {
      "cell_type": "markdown",
      "source": [
        "###튜플(tuple)\n",
        "튜플은 리스트와 비슷한 자료형이다. 리스트와 다른 점은 한번 결정한 요소의 값을 변경할 수 없다는 점이 다르다. 튜플은 함수와 함께 사용되면 다음과 같은 형태로 생성한다.\n",
        "\n",
        "```python\n",
        "(요소값, 요소값, 요소값, ...)\n",
        "```\n"
      ],
      "metadata": {
        "id": "5xoo3hINw4tO"
      }
    },
    {
      "cell_type": "code",
      "source": [
        "t = (10, 20, 30)\n",
        "print( t[0] )\n",
        "print( t[1] )\n",
        "print( t[2] )"
      ],
      "metadata": {
        "colab": {
          "base_uri": "https://localhost:8080/"
        },
        "id": "flGLLGDP3I68",
        "outputId": "b6081ff3-c2b9-465e-c51f-5e5e7ea14525"
      },
      "execution_count": null,
      "outputs": [
        {
          "output_type": "stream",
          "name": "stdout",
          "text": [
            "10\n",
            "20\n",
            "30\n"
          ]
        }
      ]
    },
    {
      "cell_type": "markdown",
      "source": [
        "리스트 형 데이터는 대괄호(`[]`)로 요소들을 감싸진 형태이고 튜플 형 데이터는 소괄호(`()`)로 요소들을 감싼 형태로 표현한다."
      ],
      "metadata": {
        "id": "57N93Tor3bD0"
      }
    },
    {
      "cell_type": "code",
      "source": [
        "lst = [1, 2, 3]\n",
        "t = (1, 2, 3)\n",
        "\n",
        "print(lst)\n",
        "print(t)"
      ],
      "metadata": {
        "colab": {
          "base_uri": "https://localhost:8080/"
        },
        "id": "-6iifdkf357f",
        "outputId": "d5e9653c-3e15-4a95-e35e-1885555ac2f0"
      },
      "execution_count": null,
      "outputs": [
        {
          "output_type": "stream",
          "name": "stdout",
          "text": [
            "[1, 2, 3]\n",
            "(1, 2, 3)\n"
          ]
        }
      ]
    },
    {
      "cell_type": "markdown",
      "source": [
        "리스트는 언제든지 요소의 값을 변경할 수 있지만 튜플은 요소의 값을 한번 정하고 나면 변경이 불가능하다."
      ],
      "metadata": {
        "id": "4u_KUn1w4D8n"
      }
    },
    {
      "cell_type": "markdown",
      "source": [
        "튜플 요소의 값을 변경하려고 하면 에러가 난다.   \n",
        "`TypeError:'tuple' object does not suport item assignment`  \n",
        "\n",
        "위 문장을 해석해 보면 \"튜플 object는 아이템 할당을 지원하지 않습니다\" 다시 \"튜플 object은 아이템 할당을 허용하지 않습니다\"로 해석할 수 있다. 그래서 결론은 **튜플(형 데이터)은 한 번 값이 정해지면 변경이 불가능**하다.\n",
        "\n",
        "\n",
        "\n",
        "\n",
        "\n"
      ],
      "metadata": {
        "id": "84bWE1Kp4ljD"
      }
    },
    {
      "cell_type": "markdown",
      "source": [
        "####Quiz\n",
        "- 요소가 정수 1개인 임의의 리스트를 만들고 리스트를 프린트 하세요.\n",
        "- 요소가 정수 1개인 임의의 튜플을 만들고 튜플을 프린트 하세요."
      ],
      "metadata": {
        "id": "3RmqvvgL6Vj9"
      }
    },
    {
      "cell_type": "code",
      "source": [
        "lst = [23]\n",
        "print(lst)\n",
        "print( type(lst) )"
      ],
      "metadata": {
        "colab": {
          "base_uri": "https://localhost:8080/"
        },
        "id": "ucLkFPiI6l7d",
        "outputId": "bcd347e6-177c-454c-faca-b306af6b38b6"
      },
      "execution_count": null,
      "outputs": [
        {
          "output_type": "stream",
          "name": "stdout",
          "text": [
            "[23]\n",
            "<class 'list'>\n"
          ]
        }
      ]
    },
    {
      "cell_type": "code",
      "source": [
        "t = (12)\n",
        "print(t)\n",
        "print( type(t) )\n",
        "print()\n",
        "\n",
        "t = (12, )\n",
        "print(t)\n",
        "print( type(t) )"
      ],
      "metadata": {
        "colab": {
          "base_uri": "https://localhost:8080/"
        },
        "id": "Txvc05_S6wRw",
        "outputId": "9f2a3f70-5d98-4350-f54f-298334c53171"
      },
      "execution_count": null,
      "outputs": [
        {
          "output_type": "stream",
          "name": "stdout",
          "text": [
            "12\n",
            "<class 'int'>\n",
            "\n",
            "(12,)\n",
            "<class 'tuple'>\n"
          ]
        }
      ]
    },
    {
      "cell_type": "markdown",
      "source": [
        "####<ins>괄호 없는 튜플</ins>\n",
        "리스트와 튜플을 사용하면 아래와 같은 형태로 변수를 선언하고 값을 할당(저장)할 수 있다. 그런데 튜플은 **'소괄호 생략해도 내가 튜플인거 알겠지?'**라는 생각을 하고 있다."
      ],
      "metadata": {
        "id": "WYq90gi97NAm"
      }
    },
    {
      "cell_type": "code",
      "source": [
        "[a, b] = [10, 20]       # a, b 선언 : a = 10, b = 20의 효과\n",
        "print('a = {}, b = {}'.format(a,b) )\n",
        "\n",
        "(c, d) = (30, 40)\n",
        "print('c = {}, d = {}'.format(c,d) )\n",
        "\n",
        "e, f = (30, 40)\n",
        "print('e = {}, f = {}'.format(e,f) )"
      ],
      "metadata": {
        "colab": {
          "base_uri": "https://localhost:8080/"
        },
        "id": "il4k3Kxr4DB0",
        "outputId": "a21af683-7d9a-41c0-9b74-dd6f9dfb4c88"
      },
      "execution_count": null,
      "outputs": [
        {
          "output_type": "stream",
          "name": "stdout",
          "text": [
            "a = 10, b = 20\n",
            "c = 30, d = 40\n",
            "e = 30, f = 40\n"
          ]
        }
      ]
    },
    {
      "cell_type": "code",
      "source": [
        "s = [10]\n",
        "h = 10\n",
        "i = (10,)\n",
        "p = 10,                 # 소괄호를 생략했지만 '튜플'임임\n",
        "\n",
        "print(\"s = {}, type of 's' = {}\".format(s, type(s)))\n",
        "print(\"h = {}, type of 'h' = {}\".format(h, type(h)))\n",
        "print(\"i = {}, type of 'i' = {}\".format(i, type(i)))\n",
        "print(\"p = {}, type of 'iP' = {}\".format(p, type(p)))"
      ],
      "metadata": {
        "colab": {
          "base_uri": "https://localhost:8080/"
        },
        "id": "6NJ4Wmna8nwg",
        "outputId": "17f70f92-4d94-4f28-c534-7040ac9c2c4f"
      },
      "execution_count": null,
      "outputs": [
        {
          "output_type": "stream",
          "name": "stdout",
          "text": [
            "s = [10], type of 's' = <class 'list'>\n",
            "h = 10, type of 'h' = <class 'int'>\n",
            "i = (10,), type of 'i' = <class 'tuple'>\n",
            "p = (10,), type of 'iP' = <class 'tuple'>\n"
          ]
        }
      ]
    },
    {
      "cell_type": "markdown",
      "source": [
        "```python\n",
        "s, h, i, p = [10], 10, (10,), (10,)\n",
        "```\n",
        "`i`에 할당되는 데이터는 튜플 `(10,)`이 할당된다. 그런데 위 코드에서 i에 할당될 튜플을 소괄호를 생략하고 `10,`과 같이 코딩하면 무슨 일이 일어날까? 코드는 아래와 같아질 것인데, 연속해서 쉼표가 두 번 나타난다.\n",
        "\n",
        "```python\n",
        "s, h, i, p = [10], 10, 10,,(10,)\n",
        "```\n",
        "또 `p`에 할당하려는 튜플 `(10,)`도 소괄호를 빼고 코드를 작성하면 어떻게 될까?\n",
        "\n",
        "```python\n",
        "s, h, i, p = [10], 10, 10,, 10,\n",
        "```\n",
        "\n"
      ],
      "metadata": {
        "id": "e_4KEQ0T-FUg"
      }
    },
    {
      "cell_type": "code",
      "source": [
        "s, h, i, p = [10], 10, (10,),10,\n",
        "\n",
        "print(type(s))\n",
        "print(type(h))\n",
        "print(type(i))\n",
        "print(type(p))"
      ],
      "metadata": {
        "colab": {
          "base_uri": "https://localhost:8080/"
        },
        "id": "miBGlrDJJrGB",
        "outputId": "3a22378a-8b96-4465-f497-26d2485df61b"
      },
      "execution_count": null,
      "outputs": [
        {
          "output_type": "stream",
          "name": "stdout",
          "text": [
            "<class 'list'>\n",
            "<class 'int'>\n",
            "<class 'tuple'>\n",
            "<class 'int'>\n"
          ]
        }
      ]
    },
    {
      "cell_type": "code",
      "source": [
        "s, h, i, p = [10], 10, (10,), (10,),\n",
        "\n",
        "print(type(s))\n",
        "print(type(h))\n",
        "print(type(i))\n",
        "print(type(p))"
      ],
      "metadata": {
        "colab": {
          "base_uri": "https://localhost:8080/"
        },
        "id": "gzoRuGtxKNE_",
        "outputId": "68359213-fed7-4951-aaf6-6462f4dc3d34"
      },
      "execution_count": null,
      "outputs": [
        {
          "output_type": "stream",
          "name": "stdout",
          "text": [
            "<class 'list'>\n",
            "<class 'int'>\n",
            "<class 'tuple'>\n",
            "<class 'tuple'>\n"
          ]
        }
      ]
    },
    {
      "cell_type": "code",
      "source": [
        "p = 10,\n",
        "print(type(p))"
      ],
      "metadata": {
        "colab": {
          "base_uri": "https://localhost:8080/"
        },
        "id": "ufHpd8wEKXT_",
        "outputId": "7619e7f9-e70b-4bf6-ec87-687aa3ac73ba"
      },
      "execution_count": null,
      "outputs": [
        {
          "output_type": "stream",
          "name": "stdout",
          "text": [
            "<class 'tuple'>\n"
          ]
        }
      ]
    },
    {
      "cell_type": "markdown",
      "source": [
        "#####Quiz\n",
        "변수 a와 변수 b가 가지고 있는 값을 서로 바꾸려고 합니다.\n",
        "\n",
        "```python\n",
        "a = 10\n",
        "b = 20\n",
        "print('a = {}, b = {}'.format(a, b))\n",
        "\n",
        "temp = a\n",
        "a = b\n",
        "b = temp\n",
        "print('a = {}, b = {}'.format(a, b))\n",
        "```"
      ],
      "metadata": {
        "id": "fWvFLmP0_Sau"
      }
    },
    {
      "cell_type": "code",
      "source": [
        "# before\n",
        "a = 10\n",
        "b = 20\n",
        "print('a = {}, b = {}'.format(a, b))\n",
        "\n",
        "# after\n",
        "temp = a\n",
        "a = b\n",
        "b = temp\n",
        "print('a = {}, b = {}'.format(a, b))"
      ],
      "metadata": {
        "colab": {
          "base_uri": "https://localhost:8080/"
        },
        "id": "irNY-Jw7_sQ1",
        "outputId": "e46b8ec4-0813-4f60-be2d-4e42d5b2da49"
      },
      "execution_count": null,
      "outputs": [
        {
          "output_type": "stream",
          "name": "stdout",
          "text": [
            "a = 10, b = 20\n",
            "a = 20, b = 10\n"
          ]
        }
      ]
    },
    {
      "cell_type": "markdown",
      "source": [
        "####<ins>튜플과 함수</ins>\n",
        "함수에서 여러 개의 값을 반환할 때 튜플 형 데이터를 자주 사용한다."
      ],
      "metadata": {
        "id": "RCgSIZ6t--Qd"
      }
    },
    {
      "cell_type": "code",
      "source": [
        "def test():\n",
        "  math = 80\n",
        "  engl = 90\n",
        "  return (math, engl)\n",
        "\n",
        "math, engl = test()\n",
        "\n",
        "print('math = {}, engl = {}'.format(math, engl))"
      ],
      "metadata": {
        "colab": {
          "base_uri": "https://localhost:8080/"
        },
        "id": "CIDxIJiGSbsD",
        "outputId": "fb6715e7-15b9-4923-ecba-7812ed2eb6aa"
      },
      "execution_count": null,
      "outputs": [
        {
          "output_type": "stream",
          "name": "stdout",
          "text": [
            "math = 80, engl = 90\n"
          ]
        }
      ]
    },
    {
      "cell_type": "markdown",
      "source": [
        "#####◃ 참고▹\n",
        "<font color=blue>아래 코드에서 `idx, value`는 튜플 `(idx, value)`입니다. 다만 (소)관호를 생략한 형태이다.</font>"
      ],
      "metadata": {
        "id": "5VLs_XMmS3Xz"
      }
    },
    {
      "cell_type": "code",
      "source": [
        "lst = [1, 2, 'a']\n",
        "list( enumerate(lst) )"
      ],
      "metadata": {
        "colab": {
          "base_uri": "https://localhost:8080/"
        },
        "id": "Oe-JAuudle5t",
        "outputId": "a84efb66-4369-4705-b530-0ee8e0a1334b"
      },
      "execution_count": null,
      "outputs": [
        {
          "output_type": "execute_result",
          "data": {
            "text/plain": [
              "[(0, 1), (1, 2), (2, 'a')]"
            ]
          },
          "metadata": {},
          "execution_count": 3
        }
      ]
    },
    {
      "cell_type": "code",
      "source": [
        "lst = [1, 2, 'a']\n",
        "\n",
        "for idx, value in enumerate(lst):\n",
        "  print('{}번째 요소의 값은 : {}입니다.'.format(idx, value))"
      ],
      "metadata": {
        "colab": {
          "base_uri": "https://localhost:8080/"
        },
        "id": "uiBovQH8S7O_",
        "outputId": "a588afd0-41b5-4a06-fd81-9a4d13644357"
      },
      "execution_count": null,
      "outputs": [
        {
          "output_type": "stream",
          "name": "stdout",
          "text": [
            "0번째 요소의 값은 : 1입니다.\n",
            "1번째 요소의 값은 : 2입니다.\n",
            "2번째 요소의 값은 : a입니다.\n"
          ]
        }
      ]
    },
    {
      "cell_type": "markdown",
      "source": [
        "아래 코드에서 `items()`는 튜플을 반환한다."
      ],
      "metadata": {
        "id": "ONyi38WjTUiW"
      }
    },
    {
      "cell_type": "code",
      "source": [
        "dic ={\n",
        "    'name':'김성필',\n",
        "    'id':'ship',\n",
        "    'age':27,\n",
        "    'address':'경기도 화성시 동탄'\n",
        "}\n",
        "\n",
        "for key, value in dic.items():\n",
        "  print(\"key,'{}'에 해당하는 value는 '{}'입니다.\".format(key, value))"
      ],
      "metadata": {
        "colab": {
          "base_uri": "https://localhost:8080/"
        },
        "id": "X0LAY1axT34O",
        "outputId": "088b751d-e5b2-461c-8752-9449e80a039d"
      },
      "execution_count": null,
      "outputs": [
        {
          "output_type": "stream",
          "name": "stdout",
          "text": [
            "key,'name'에 해당하는 value는 '김성필'입니다.\n",
            "key,'id'에 해당하는 value는 'ship'입니다.\n",
            "key,'age'에 해당하는 value는 '27'입니다.\n",
            "key,'address'에 해당하는 value는 '경기도 화성시 동탄'입니다.\n"
          ]
        }
      ]
    },
    {
      "cell_type": "markdown",
      "source": [
        "또한 몫과 나머지를 구하는 `divmod()`함수도 `몫`과 `나머지`을 요소로 하는 튜플을 반환한다."
      ],
      "metadata": {
        "id": "dgd__LvrUu1f"
      }
    },
    {
      "cell_type": "code",
      "source": [
        "print( divmod(5, 2) )\n",
        "\n",
        "a, b = divmod(7, 2)\n",
        "print('몫은 {}이고 나머지는 {}입니다.'.format(a, b))"
      ],
      "metadata": {
        "colab": {
          "base_uri": "https://localhost:8080/"
        },
        "id": "5mFNMBk6U-wB",
        "outputId": "e122686c-d7c0-41d4-e1b2-22cc9c42086f"
      },
      "execution_count": null,
      "outputs": [
        {
          "output_type": "stream",
          "name": "stdout",
          "text": [
            "(2, 1)\n",
            "몫은 3이고 나머지는 1입니다.\n"
          ]
        }
      ]
    },
    {
      "cell_type": "markdown",
      "source": [
        "###람다\n",
        "\n",
        "<font color=blue>요즘 프로그래밍에서는 함수를 매개변수에 할당하여 다른 함수에 전달하는 코드를 많이 사용한다.</font>"
      ],
      "metadata": {
        "id": "ys1bxG-5Vch-"
      }
    },
    {
      "cell_type": "markdown",
      "source": [
        "#### <ins>함수의 매개변수로 함수 전달하기</ins>\n",
        "먼저 함수를 매개변수로 다른 함수에 전달한다는 것이 무엇이지 확인해보겠다. 아래 코드 셀의 코드에서\n",
        "`call_10_times(print_hello)` 이렇게 함수를 호출함으로써 `print_hello()`함수를 `call_10_times(func)`함수로 전달하고 있습니다. `call_10_times()`는 자신의 매개변수 `func`를 통해 `print_hello()` 함수를 전달 받다.\n",
        "\n",
        "함수에 전달되는 함수를 콜백함수(callback function)라고 한다.\n",
        "\n",
        "\n",
        "\n"
      ],
      "metadata": {
        "id": "tQ9tdsvMW1EA"
      }
    },
    {
      "cell_type": "code",
      "source": [
        "# 매개변수를 통해 함수를 전달 받는 함수\n",
        "def call_10_times(func):\n",
        "  for i in range(10):\n",
        "    func()\n",
        "\n",
        "def print_hello():\n",
        "  print('Hello World!')\n",
        "\n",
        "call_10_times(print_hello)"
      ],
      "metadata": {
        "colab": {
          "base_uri": "https://localhost:8080/"
        },
        "id": "aVfxmau5WF9d",
        "outputId": "e497ffa7-9b1b-4420-f4ef-4feea2cca867"
      },
      "execution_count": null,
      "outputs": [
        {
          "output_type": "stream",
          "name": "stdout",
          "text": [
            "Hello World!\n",
            "Hello World!\n",
            "Hello World!\n",
            "Hello World!\n",
            "Hello World!\n",
            "Hello World!\n",
            "Hello World!\n",
            "Hello World!\n",
            "Hello World!\n",
            "Hello World!\n"
          ]
        }
      ]
    },
    {
      "cell_type": "markdown",
      "source": [
        "####<ins>filter() 함수와 map() 함수</ins>\n",
        "\n",
        "함수를 매개변수로 사용하는 대표적인 표준 함수(내장 함수)로 `map()` 함수와 `filter()` 함수가 있다.  \n",
        "\n",
        "- `map()`함수는 리스트의 요소를 함수에 넣고 반한된 값으로 새로운 리스트를 구성해주는 함수\n",
        "\n",
        "  ```python\n",
        "      map(함수, 리스트)\n",
        "  ```\n",
        "\n",
        "- `filter()` 함수는 리스트의 요소를 함수에 전달하고 리턴된 값이 True인 요소로 구성된 새로운 리스트를 반환하는 함수\n",
        "\n",
        "  ```python\n",
        "  filter(함수, 리스트)\n",
        "  ```\n",
        "\n"
      ],
      "metadata": {
        "id": "K-UavNcQXnHX"
      }
    },
    {
      "cell_type": "code",
      "source": [
        "# map()을 설명하기 위한 코드\n",
        "\n",
        "def power(item):\n",
        "  return item * item\n",
        "\n",
        "lst = [1, 2, 3, 4, 5]\n",
        "output = map(power, lst)\n",
        "\n",
        "print(output)\n",
        "print(list(output))"
      ],
      "metadata": {
        "colab": {
          "base_uri": "https://localhost:8080/"
        },
        "id": "NHXXxl5-YwNe",
        "outputId": "e38589ef-27d0-4f37-dfa2-7e8596afa9e7"
      },
      "execution_count": null,
      "outputs": [
        {
          "output_type": "stream",
          "name": "stdout",
          "text": [
            "<map object at 0x7f48734aee80>\n",
            "[1, 4, 9, 16, 25]\n"
          ]
        }
      ]
    },
    {
      "cell_type": "code",
      "source": [
        "# map()을 설명하기 위한 코드\n",
        "\n",
        "# y = 2x + 3\n",
        "\n",
        "def func(x):\n",
        "  return 2*x + 3\n",
        "\n",
        "x = [0, 1, 2, 3, 4, 5]\n",
        "y = list( map(func, x) )\n",
        "\n",
        "print(y)"
      ],
      "metadata": {
        "colab": {
          "base_uri": "https://localhost:8080/"
        },
        "id": "eZ1LF_TIWUHt",
        "outputId": "1ba96518-9663-4e7d-fa14-e54140222156"
      },
      "execution_count": null,
      "outputs": [
        {
          "output_type": "stream",
          "name": "stdout",
          "text": [
            "[3, 5, 7, 9, 11, 13]\n"
          ]
        }
      ]
    },
    {
      "cell_type": "code",
      "source": [
        "# filter()를 설명하기 위한 코드\n",
        "def under_3(item):\n",
        "  return item < 3\n",
        "\n",
        "lst = [1, 2, 3, 4, 5]\n",
        "output = filter(under_3, lst)\n",
        "print(output)\n",
        "print(list(output))"
      ],
      "metadata": {
        "colab": {
          "base_uri": "https://localhost:8080/"
        },
        "id": "Hy9cNrwtZnAM",
        "outputId": "458dcadb-d540-47e5-9692-0d34b4928252"
      },
      "execution_count": null,
      "outputs": [
        {
          "output_type": "stream",
          "name": "stdout",
          "text": [
            "<filter object at 0x7f48900c3040>\n",
            "[1, 2]\n"
          ]
        }
      ]
    },
    {
      "cell_type": "code",
      "source": [
        "# filter()를 설명하기 위한 코드\n",
        "def under_3(item):\n",
        "  return item < 3 or 4 < item\n",
        "\n",
        "lst = [1, 2, 3, 4, 5]\n",
        "output = filter(under_3, lst)\n",
        "print(output)\n",
        "print(list(output))"
      ],
      "metadata": {
        "colab": {
          "base_uri": "https://localhost:8080/"
        },
        "id": "WYl8AgvdacVF",
        "outputId": "f2dce624-30af-46fc-cbe4-1ac8cfdd6800"
      },
      "execution_count": null,
      "outputs": [
        {
          "output_type": "stream",
          "name": "stdout",
          "text": [
            "<filter object at 0x7f48734ab580>\n",
            "[1, 2, 5]\n"
          ]
        }
      ]
    },
    {
      "cell_type": "markdown",
      "source": [
        "##### ◃참고▹\n",
        "위 코드 셀들의 실행 결과 `map()`함수에 의해  `map object`가 `filter()`함수에 의해  `filter object`라는 것이 반환되는 것을 보았다. 이를 제너레이터(generator)이라고 부르는데 이와 관련된 것은 이후에 더 살펴 보기로 하자.\n"
      ],
      "metadata": {
        "id": "AtaN7kNAa5IK"
      }
    },
    {
      "cell_type": "markdown",
      "source": [
        "아래 코드 셀에서, `map()` 함수가 반환한 `output`을 리스트 형 데이터로 꼭 바꿔야할까?"
      ],
      "metadata": {
        "id": "1gZ6U0qxbOty"
      }
    },
    {
      "cell_type": "code",
      "source": [
        "def power(item):\n",
        "  return item * item\n",
        "\n",
        "lst = [1, 2, 3, 4, 5]\n",
        "output = map(power, lst)\n",
        "\n",
        "for element in output:\n",
        "  print(element)"
      ],
      "metadata": {
        "colab": {
          "base_uri": "https://localhost:8080/"
        },
        "id": "fDTQ9lsBa1Qz",
        "outputId": "f0fb25e4-4327-4d8d-a656-467f69023476"
      },
      "execution_count": null,
      "outputs": [
        {
          "output_type": "stream",
          "name": "stdout",
          "text": [
            "1\n",
            "4\n",
            "9\n",
            "16\n",
            "25\n"
          ]
        }
      ]
    },
    {
      "cell_type": "code",
      "source": [
        "def under_3(item):\n",
        "  return item < 3\n",
        "\n",
        "lst = [1, 2, 3, 4, 5]\n",
        "output = filter(under_3, lst)\n",
        "\n",
        "for element in output:\n",
        "  print(element)"
      ],
      "metadata": {
        "colab": {
          "base_uri": "https://localhost:8080/"
        },
        "id": "b3gXODRBbJvD",
        "outputId": "b4ae3ec6-da77-4a0b-96cc-32e8a17f4d85"
      },
      "execution_count": null,
      "outputs": [
        {
          "output_type": "stream",
          "name": "stdout",
          "text": [
            "1\n",
            "2\n"
          ]
        }
      ]
    },
    {
      "cell_type": "markdown",
      "source": [
        "####<ins>람다의 개념</ins>\n",
        "매개변수로 함수를 전달하기 위해 해당 함수를 코딩하는 하는 것도 번거롭고 코딩 공간 낭비라는 생각을 하는 사람들이 많아졌다고 한다. 그래서 심플한 방법을 생각하게 되었고 그래서 등장한 개념이 람다(lambda)이다. 람다라는 개념은 '간단한 함수는 심플한 문법으로 쉽게 만들 수 있게 하자'이다.\n",
        "\n",
        "```python\n",
        "lambda 매개변수: 리턴값\n",
        "```"
      ],
      "metadata": {
        "id": "77fMwQb4clHn"
      }
    },
    {
      "cell_type": "code",
      "source": [
        "def power(x):\n",
        "  return x*x\n",
        "\n",
        "x = range(10)\n",
        "y = map(power, x)\n",
        "\n",
        "print(list(y))"
      ],
      "metadata": {
        "colab": {
          "base_uri": "https://localhost:8080/"
        },
        "id": "GYReTrDvcoba",
        "outputId": "3ea4eab4-d922-4c01-c2d2-e38e2f7d082c"
      },
      "execution_count": null,
      "outputs": [
        {
          "output_type": "stream",
          "name": "stdout",
          "text": [
            "[0, 1, 4, 9, 16, 25, 36, 49, 64, 81]\n"
          ]
        }
      ]
    },
    {
      "cell_type": "code",
      "source": [
        "power = lambda x : x*x\n",
        "\n",
        "x = range(10)\n",
        "y = map(power, x)\n",
        "\n",
        "print(list(y))"
      ],
      "metadata": {
        "colab": {
          "base_uri": "https://localhost:8080/"
        },
        "id": "L5NpHzl4eZjg",
        "outputId": "e054c839-9182-4e96-eb56-922af3b33e8b"
      },
      "execution_count": null,
      "outputs": [
        {
          "output_type": "stream",
          "name": "stdout",
          "text": [
            "[0, 1, 4, 9, 16, 25, 36, 49, 64, 81]\n"
          ]
        }
      ]
    },
    {
      "cell_type": "code",
      "source": [
        "x = range(10)\n",
        "y = map(lambda x:x*x, x)\n",
        "print(list(y))"
      ],
      "metadata": {
        "colab": {
          "base_uri": "https://localhost:8080/"
        },
        "id": "nCN5elrze9Z8",
        "outputId": "2894ae55-4f3d-4211-ce04-71be0e615767"
      },
      "execution_count": null,
      "outputs": [
        {
          "output_type": "stream",
          "name": "stdout",
          "text": [
            "[0, 1, 4, 9, 16, 25, 36, 49, 64, 81]\n"
          ]
        }
      ]
    },
    {
      "cell_type": "markdown",
      "source": [
        "#####Quiz\n",
        "\n",
        "lambda 개념을 활용하여 아래 코드 수정\n",
        "```python\n",
        "def under_3(item):\n",
        "  return item < 3\n",
        "\n",
        "lst = [1, 2, 3, 4, 5]\n",
        "output = filter(under_3, lst)\n",
        "print(list(output))\n",
        "```\n"
      ],
      "metadata": {
        "id": "RImrMdn6f87f"
      }
    },
    {
      "cell_type": "code",
      "source": [
        "x = [1, 2, 3, 4, 5]\n",
        "y = filter(lambda x: x < 3, )\n",
        "print(list(y))"
      ],
      "metadata": {
        "colab": {
          "base_uri": "https://localhost:8080/"
        },
        "id": "ZRhz5ZLrF8KT",
        "outputId": "f110c1e4-ea1c-4245-dca3-5ce166799cdf"
      },
      "execution_count": null,
      "outputs": [
        {
          "output_type": "stream",
          "name": "stdout",
          "text": [
            "[1, 2]\n"
          ]
        }
      ]
    },
    {
      "cell_type": "markdown",
      "source": [
        "람다 개념으로 함수를 매개변수로 전달하게 되면 그 함수의 이름은 없어진다. 그저 람다(함수)이다.  \n",
        "\n",
        "결론! 람다를 활용한 코드는 가독성이 높은 간단 명료한 코드가 된다는 것이다. 복잡한 코드를 실행하는 함수를 lambda 함수로 만드는 것은 비효율적이지만 <font color=blue>구현 코드가 간단한 함수를 다른 함수에 전달할 때는 유용하다. </font>"
      ],
      "metadata": {
        "id": "AFBpTvMRhaHC"
      }
    },
    {
      "cell_type": "markdown",
      "source": [
        "#####◃참고▹\n",
        "\n",
        "\"lambda 넌 이름도 없구나. 내가 너에게 이름을 줄께.\"\n",
        "\n",
        "\"아들아 넌 이름도 없구나\" 내가 너에게 민재라는 이름을 지어줄께\"\n",
        "\n",
        "```python\n",
        "add_b = lambda a, b: a + b\n",
        "```\n",
        "\n"
      ],
      "metadata": {
        "id": "hfd605Qii_JM"
      }
    },
    {
      "cell_type": "code",
      "source": [
        "def add_a(a, b):\n",
        "  return a + b\n",
        "\n",
        "add_b = lambda a, b:a + b\n",
        "\n",
        "print( add_a(3, 2) )\n",
        "print( add_b(3, 2) )"
      ],
      "metadata": {
        "colab": {
          "base_uri": "https://localhost:8080/"
        },
        "id": "jAoozr0PjD5j",
        "outputId": "7083996c-a9e3-44d2-e379-9ea6b6cfd92a"
      },
      "execution_count": null,
      "outputs": [
        {
          "output_type": "stream",
          "name": "stdout",
          "text": [
            "5\n",
            "5\n"
          ]
        }
      ]
    },
    {
      "cell_type": "markdown",
      "source": [
        "####<ins>파일 열고 닫기</ins>\n",
        "파일을 열 때는 `open()`함수를 사용한다. `open()`함수의 첫 번째 매개변수는 '파일 경로(path)'이고 두 번째 매개변수에는 '모드(mode)'를 지정한다.\n",
        "\n",
        "```python\n",
        "파일_객체 = open(문자열:파일경로, 문자열:읽기 모드)\n",
        "```\n",
        "<center>\n",
        "\n",
        "|모드|설명|\n",
        "|:-:|:-:|\n",
        "|w|wirte 모드(새로 쓰기 모드)|\n",
        "|a|append 모드(파일 끝에 이어 쓰기 모드)|\n",
        "|r|read 모드(읽기 모드)|\n",
        "\n",
        "</center>\n",
        "\n",
        "파일을 닫을 때는 `close()`함수를 사용한다.\n",
        "\n",
        "```python\n",
        "파일_객체.close()\n",
        "```\n",
        "\n",
        "파일을 열었다면 꼭 닫자.\n"
      ],
      "metadata": {
        "id": "YV12P3U5r0Wl"
      }
    },
    {
      "cell_type": "code",
      "source": [
        "file = open('test.txt', 'w')              # 파일(file)을 엽니다.\n",
        "\n",
        "file.write(\"Hello Python Programming\")    # 파일에 텍스트를 씁니다.\n",
        "\n",
        "file.close()                              # 파일을 닫습니다."
      ],
      "metadata": {
        "id": "OWa-zM_RtFma"
      },
      "execution_count": null,
      "outputs": []
    }
  ]
}