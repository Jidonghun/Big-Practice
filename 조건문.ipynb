{
  "nbformat": 4,
  "nbformat_minor": 0,
  "metadata": {
    "colab": {
      "provenance": [],
      "authorship_tag": "ABX9TyPQ6wzLlob1QlzMYdEVdOAT",
      "include_colab_link": true
    },
    "kernelspec": {
      "name": "python3",
      "display_name": "Python 3"
    },
    "language_info": {
      "name": "python"
    }
  },
  "cells": [
    {
      "cell_type": "markdown",
      "metadata": {
        "id": "view-in-github",
        "colab_type": "text"
      },
      "source": [
        "<a href=\"https://colab.research.google.com/github/Jidonghun/Big-Practice/blob/main/%EC%A1%B0%EA%B1%B4%EB%AC%B8.ipynb\" target=\"_parent\"><img src=\"https://colab.research.google.com/assets/colab-badge.svg\" alt=\"Open In Colab\"/></a>"
      ]
    },
    {
      "cell_type": "markdown",
      "source": [
        "### 조건문\n",
        "\n",
        "#### Boolean\n",
        " * 비교 연산자\n",
        "   - == 같다\n",
        "   - != 다르다\n",
        "   - < , >, <=, >=\n",
        "\n",
        " * 논리 연산자\n",
        "   - not, and (&), or\n",
        "\n",
        "#### 날짜 / 시간 활용\n",
        "```python\n",
        "     import datetime\n",
        "\n",
        "     now = datetime.datetime.now()\n",
        "     print(now)\n",
        "```\n",
        "\n",
        "#### if ~ else / elif\n",
        " * if ~ else\n",
        "    ```python\n",
        "     if 조건:\n",
        "      조건 True일 때 실행 코드\n",
        "     else:\n",
        "      조건 False일 때 실행 코드\n",
        "  ```\n",
        "\n",
        "  - EX\n",
        "    ```python\n",
        "     if num % 2 == 0:\n",
        "      print('짝수')\n",
        "     else:\n",
        "      print('홀수')\n",
        "  ```\n",
        "\n",
        " * elif\n",
        "  ```python\n",
        "     if 조건:\n",
        "      코드 블록 1\n",
        "     elif 조건:\n",
        "      코드 블록 2\n",
        "     else:\n",
        "      코드 블록 N\n",
        "  ```\n",
        "\n",
        "#### False로 변환되는 값\n",
        "  ```python\n",
        "     if 0:\n",
        "      print('조건 True')\n",
        "     else:\n",
        "      print('조건 False')\n",
        "\n",
        "      조건 False\n",
        "  ```\n",
        "\n",
        "  ```python\n",
        "     if 1:\n",
        "      print('조건 True')\n",
        "     else:\n",
        "      print('조건 False')\n",
        "      \n",
        "      조건 True\n",
        "  ```\n",
        "- 0을 제외한 숫자 if문에서는 True로 해석\n",
        "\n",
        "```python\n",
        "     if 'a':\n",
        "      print('조건 True')\n",
        "     else:\n",
        "      print('조건 False')\n",
        "      \n",
        "      조건 True\n",
        "```\n",
        "\n",
        "```python\n",
        "     if '':\n",
        "      print('조건 True')\n",
        "     else:\n",
        "      print('조건 False')\n",
        "\n",
        "      조건 False\n",
        "```"
      ],
      "metadata": {
        "id": "CKWMf8uCfTkJ"
      }
    },
    {
      "cell_type": "code",
      "source": [
        "# 등수 입력하면 해당 상품 출력\n",
        "score=int(input('몇 등입니까? '))\n",
        "\n",
        "if score == 1:\n",
        "  print('노트북')\n",
        "if score <= 2:\n",
        "  print('핸드폰')\n",
        "if score <= 3:\n",
        "  print('상품권 5만원')\n"
      ],
      "metadata": {
        "colab": {
          "base_uri": "https://localhost:8080/"
        },
        "id": "PT4nND5CmhZB",
        "outputId": "1de53372-9cc5-4aa5-8c75-79cf3ce7e75a"
      },
      "execution_count": 12,
      "outputs": [
        {
          "output_type": "stream",
          "name": "stdout",
          "text": [
            "몇 등입니까? 1\n",
            "노트북\n",
            "핸드폰\n",
            "상품권 5만원\n"
          ]
        }
      ]
    },
    {
      "cell_type": "code",
      "source": [
        "score = int(input('몇 등입니까? '))\n",
        "\n",
        "print('받으실 상품은 ', end='')\n",
        "prize=''\n",
        "\n",
        "if score == 1:\n",
        "  prize += '노트북, '\n",
        "if score <= 2:\n",
        "  prize += '핸드폰, '\n",
        "if score <= 3:\n",
        "  prize += '상품권 5만원, '\n",
        "\n",
        "prize = prize[:-2]\n",
        "print(prize + '입니다.')\n"
      ],
      "metadata": {
        "colab": {
          "base_uri": "https://localhost:8080/"
        },
        "id": "r55NgFM5oG20",
        "outputId": "ab46c51f-b4a0-4c84-be8d-e55e80607da2"
      },
      "execution_count": 36,
      "outputs": [
        {
          "output_type": "stream",
          "name": "stdout",
          "text": [
            "몇 등입니까? 1\n",
            "받으실 상품은 노트북, 핸드폰, 상품권 5만원입니다.\n"
          ]
        }
      ]
    },
    {
      "cell_type": "code",
      "source": [
        "# 나이 입력하는 나이에 맞는 비용 출력\n",
        "age = int(input('몇 살? '))\n",
        "\n",
        "if age < 7:\n",
        "  prize = '무료'\n",
        "elif age <= 12:\n",
        "  prize = 2000\n",
        "elif age < 18:\n",
        "  prize = 4000\n",
        "elif age < 64:\n",
        "  prize = 8000\n",
        "else:\n",
        "  prize = '무료'\n",
        "\n",
        "print('나이는 {}살이고 요금은 {}이다.'.format(age, prize))"
      ],
      "metadata": {
        "colab": {
          "base_uri": "https://localhost:8080/"
        },
        "id": "N6MipnOxwP6e",
        "outputId": "0b1951a7-3d9f-4c63-9d46-ab0c0de432d0"
      },
      "execution_count": 28,
      "outputs": [
        {
          "output_type": "stream",
          "name": "stdout",
          "text": [
            "몇 살? 50\n",
            "나이는 50살이고 요금은 8000이다.\n"
          ]
        }
      ]
    },
    {
      "cell_type": "code",
      "source": [
        "# 실수 형태로 점수 입력받아서 등급 출력\n",
        "score = float(input('점수 입력: '))\n",
        "\n",
        "if score < 60:\n",
        "  grade = 'F'\n",
        "elif score < 70:\n",
        "  grade = 'D'\n",
        "elif score < 80:\n",
        "  grade = 'C'\n",
        "elif score < 90:\n",
        "  grade = 'B'\n",
        "else:\n",
        "  grade = 'A'\n",
        "\n",
        "print('점수는 {}점이고 등급은 {}이다.'.format(score, grade))"
      ],
      "metadata": {
        "colab": {
          "base_uri": "https://localhost:8080/"
        },
        "id": "5_4dZTTww3ya",
        "outputId": "d0f7afff-ae3b-4a3e-f465-5c4d1b684cb9"
      },
      "execution_count": 31,
      "outputs": [
        {
          "output_type": "stream",
          "name": "stdout",
          "text": [
            "점수 입력: 82.6\n",
            "점수는 82.6점이고 등급은 B이다.\n"
          ]
        }
      ]
    },
    {
      "cell_type": "code",
      "source": [
        "x = 11\n",
        "\n",
        "if type(x) == 'int':\n",
        "  print('정수형 데이터')\n",
        "elif type(x) == 'str':\n",
        "  print('문자열 데이터')\n",
        "else:\n",
        "  print('모름')"
      ],
      "metadata": {
        "colab": {
          "base_uri": "https://localhost:8080/"
        },
        "id": "UU0SpCaj1qTK",
        "outputId": "ee8d9acc-4cf0-4c6d-8bd0-a35db366884d"
      },
      "execution_count": 35,
      "outputs": [
        {
          "output_type": "stream",
          "name": "stdout",
          "text": [
            "모름\n"
          ]
        }
      ]
    },
    {
      "cell_type": "code",
      "source": [
        "x = 'sk'\n",
        "\n",
        "if type(x) is int:\n",
        "  print('정수형 데이터')\n",
        "elif type(x) is str:\n",
        "  print('문자열 데이터')\n",
        "else:\n",
        "  print('모름')\n"
      ],
      "metadata": {
        "colab": {
          "base_uri": "https://localhost:8080/"
        },
        "id": "B3owf3zG1exc",
        "outputId": "dc600cd2-12a9-4085-d548-58a2d90f3e2a"
      },
      "execution_count": 34,
      "outputs": [
        {
          "output_type": "stream",
          "name": "stdout",
          "text": [
            "문자열 데이터\n"
          ]
        }
      ]
    },
    {
      "cell_type": "code",
      "source": [
        "x = 11\n",
        "\n",
        "if isinstance(x, int):\n",
        "  print('정수형 데이터')\n",
        "elif isinstance(x, str):\n",
        "  print('문자열 데이터')\n",
        "else:\n",
        "  print('모름')\n"
      ],
      "metadata": {
        "colab": {
          "base_uri": "https://localhost:8080/"
        },
        "id": "hhMGXPYo1VWL",
        "outputId": "9f5e285f-0ee4-4ea7-cb68-da8ca2c8800a"
      },
      "execution_count": 33,
      "outputs": [
        {
          "output_type": "stream",
          "name": "stdout",
          "text": [
            "정수형 데이터\n"
          ]
        }
      ]
    },
    {
      "cell_type": "code",
      "source": [
        "x = 11\n",
        "\n",
        "if type(x) == int:\n",
        "  print('정수형 데이터')\n",
        "elif type(x) == str:\n",
        "  print('문자열 데이터')\n",
        "else:\n",
        "  print('모름')\n"
      ],
      "metadata": {
        "colab": {
          "base_uri": "https://localhost:8080/"
        },
        "id": "bmVNGRzD08JK",
        "outputId": "87f3a0c3-67ab-41c5-f82e-fa417a67cd17"
      },
      "execution_count": 32,
      "outputs": [
        {
          "output_type": "stream",
          "name": "stdout",
          "text": [
            "정수형 데이터\n"
          ]
        }
      ]
    }
  ]
}