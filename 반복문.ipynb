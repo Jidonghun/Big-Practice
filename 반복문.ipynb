{
  "nbformat": 4,
  "nbformat_minor": 0,
  "metadata": {
    "colab": {
      "provenance": [],
      "authorship_tag": "ABX9TyNXnmMqc8bhgQjdiO0gfsEk",
      "include_colab_link": true
    },
    "kernelspec": {
      "name": "python3",
      "display_name": "Python 3"
    },
    "language_info": {
      "name": "python"
    }
  },
  "cells": [
    {
      "cell_type": "markdown",
      "metadata": {
        "id": "view-in-github",
        "colab_type": "text"
      },
      "source": [
        "<a href=\"https://colab.research.google.com/github/Jidonghun/K-digital-BigData-analysis/blob/main/%EB%B0%98%EB%B3%B5%EB%AC%B8.ipynb\" target=\"_parent\"><img src=\"https://colab.research.google.com/assets/colab-badge.svg\" alt=\"Open In Colab\"/></a>"
      ]
    },
    {
      "cell_type": "markdown",
      "source": [
        "### 반복문\n",
        "\n",
        "#### 리스트\n",
        "\n",
        "##### 데이터 Type\n",
        " * 숫자 데이터\n",
        "    - 소수점이 있는 숫자형 데이터\n",
        "    - 소수점이 없는 숫자형 데이터\n",
        " * 문자열 데이터\n",
        " * 부울 데이터\n",
        "\n",
        " * 리스트: 숫자형 또는 문자열 형 등 다양한 요소를 여러 개 저장할 수 있는 데이터\n",
        "\n",
        "```python\n",
        "list_a = [1, 2, 3]   # 숫자 요소들로만 구성된 리스트(list)\n",
        "list_b = [1, 2. 3.14]\n",
        "\n",
        "list_c = ['a', 'b', 'c']   #문자열 요소들만으로 구성된 리스트(list)\n",
        "list_d = ['a', 'abc, 'c']\n",
        "\n",
        "list_e = [ 1, 2, 3.14, 'a', 'abc', 'c'] # 숫자와 문자열 데이터가 썩인 리스트\n",
        "list_f = [1, 3.14, 'a', 'boy', True]\n",
        "```\n"
      ],
      "metadata": {
        "id": "TxxSODhakuVp"
      }
    },
    {
      "cell_type": "markdown",
      "source": [
        "#### <font color=blue>리스트</font> 선언하고 요소에 접근하기\n",
        "\n",
        " * 리스트 데이터의 생성: 각 요소를 쉼표(,)로 구분하고 모든 요소를 대괄호([ ])로 감싸기\n",
        "\n",
        "  ```python\n",
        "     a_list = [ 'b', 'o', 'y' ]\n",
        "  ```\n",
        "\n",
        " * 리스트의 요소가 없는 리스트를 **빈 리스트**라고 부른다\n",
        "\n",
        "  ```python\n",
        "     empty_list = []\n",
        "  ```\n"
      ],
      "metadata": {
        "id": "ndPbkNgzhmGP"
      }
    },
    {
      "cell_type": "code",
      "source": [
        "a_list = ['b', 'o', 'y']\n",
        "print(a_list)           # 리스트 형 데이터, a_list가 가지고 있는 데이터을 출력\n",
        "print( type(a_list) )   # a_list가 어떤 형태의 데이터를 보관하는 녀석인지 확인, \"a_list 너 어떤 데이터를 다루냐?\"\n",
        "print( a_list[0] )"
      ],
      "metadata": {
        "colab": {
          "base_uri": "https://localhost:8080/"
        },
        "id": "DwtjSN8WJJTZ",
        "outputId": "a60429f0-4b58-4ef2-a1d2-0e3c010c33ca"
      },
      "execution_count": null,
      "outputs": [
        {
          "output_type": "stream",
          "name": "stdout",
          "text": [
            "['b', 'o', 'y']\n",
            "<class 'list'>\n",
            "b\n"
          ]
        }
      ]
    },
    {
      "cell_type": "markdown",
      "source": [
        "<br><br>\n",
        "<center>\n",
        "인덱스 부여 방식  \n",
        "\n",
        "|요소|'b'|'o'|'y'|\n",
        "|:-:|:-:|:-:|:-:|\n",
        "|인덱스|0|1|2|\n",
        "</center>"
      ],
      "metadata": {
        "id": "g0k3iHP0m4g7"
      }
    },
    {
      "cell_type": "code",
      "source": [
        "print( a_list[0] )\n",
        "print( a_list[1] )\n",
        "print( a_list[2] )"
      ],
      "metadata": {
        "colab": {
          "base_uri": "https://localhost:8080/"
        },
        "id": "puqVoZKlnByp",
        "outputId": "21676dd9-38e7-4df8-dde7-97eafdc00b1b"
      },
      "execution_count": null,
      "outputs": [
        {
          "output_type": "stream",
          "name": "stdout",
          "text": [
            "b\n",
            "o\n",
            "y\n"
          ]
        }
      ]
    },
    {
      "cell_type": "code",
      "source": [
        "name_list = ['짱구', '철수', '유리', '맹구', '훈이']\n",
        "\n",
        "what = name_list[2][0]\n",
        "print(what)\n",
        "\n",
        "the_name = name_list[2]   # 'the_name'은 문자열 데이터\n",
        "what = the_name[0]\n",
        "print(what)"
      ],
      "metadata": {
        "colab": {
          "base_uri": "https://localhost:8080/"
        },
        "id": "vHO15EjsnHrI",
        "outputId": "6e207019-6429-4394-bb64-73abd22704db"
      },
      "execution_count": null,
      "outputs": [
        {
          "output_type": "stream",
          "name": "stdout",
          "text": [
            "유\n",
            "유\n"
          ]
        }
      ]
    },
    {
      "cell_type": "code",
      "source": [
        "name_list = ['짱구', '철수', '유리', '맹구', '훈이']\n",
        "year_list = [1967, 1968, 1973, 1968, 1963]\n",
        "\n",
        "print( name_list[0] + '님은 {}'.format(year_list[0]) + '년도 생입니다')\n",
        "print( name_list[1] + '님은 {}'.format(year_list[1]) + '년도 생입니다')"
      ],
      "metadata": {
        "colab": {
          "base_uri": "https://localhost:8080/"
        },
        "id": "CjlL4zyYnSi0",
        "outputId": "3cff4a10-74ca-4f80-91c0-c84fd34621df"
      },
      "execution_count": null,
      "outputs": [
        {
          "output_type": "stream",
          "name": "stdout",
          "text": [
            "짱구님은 1967년도 생입니다\n",
            "철수님은 1968년도 생입니다\n"
          ]
        }
      ]
    },
    {
      "cell_type": "code",
      "source": [
        "name_list = ['짱구', '철수', '유리', '맹구', '훈이', '수지']\n",
        "year_list = [1967, 1968, 1973, 1968, 1963, 1981]\n",
        "\n",
        "idx = 1\n",
        "print( name_list[idx] + '님은 {}'.format(year_list[idx]) + '년도 생입니다')"
      ],
      "metadata": {
        "colab": {
          "base_uri": "https://localhost:8080/"
        },
        "id": "WrIV5YIgnXNF",
        "outputId": "3be60afe-3fb9-47e8-83a9-8fd720ef2944"
      },
      "execution_count": null,
      "outputs": [
        {
          "output_type": "stream",
          "name": "stdout",
          "text": [
            "철수님은 1968년도 생입니다\n"
          ]
        }
      ]
    },
    {
      "cell_type": "markdown",
      "source": [
        "```python\n",
        "list_a = ['b', 'o', 'y', '&', 'g', 'i', 'r', 'l']\n",
        "```\n",
        "\n",
        "<br>\n",
        "<center>\n",
        "인덱스 부여 방식  \n",
        "\n",
        "|요소|'b'|'o'|'y'|'&'|'g'|'i'|'r'|'l'|\n",
        "|:-:|:-:|:-:|:-:|:-:|:-:|:-:|:-:|:-:|\n",
        "|인덱스|0|1|2|3|4|5|6|7|\n",
        "|인덱스|-8|-7|-6|-5|-4|-3|-2|-1|\n",
        "\n",
        "</center>\n",
        "<br>\n"
      ],
      "metadata": {
        "id": "vjNUts9MooVn"
      }
    },
    {
      "cell_type": "code",
      "source": [
        "lst = ['a', ['b', 'c'], 'd', 'e']\n",
        "second_element = lst[1]\n",
        "\n",
        "print( lst[1][0] )\n",
        "print( lst[1][1] )"
      ],
      "metadata": {
        "id": "_bTuIJkopjYz"
      },
      "execution_count": null,
      "outputs": []
    },
    {
      "cell_type": "markdown",
      "source": [
        "#### 리스트 연결하기: 연결(+), 반복(*), len()\n",
        " * 숫자형 데이터와 숫자형 데이터는 덧셈 연산이 당연히 가능하고 덧셈 기호로 '+'를 사용\n",
        "\n",
        "  ```python\n",
        "     x = 1\n",
        "     y = 2\n",
        "     z = x + y\n",
        "     print(x)\n",
        "  ```\n",
        "\n",
        " * 숫자형 데이터 끼리 덧셈, 뺄셈, 곱셉, 나눗셈이 가능하며 덧셈과 뺄셈에 대한 연산자 기호는 +, -를 사용하고 곱셈과 나눗셈 기호는 *, /를 사용\n",
        "\n",
        " * <font color=blue>리스트 형 데이터에서도 +, * 연산자가 있는데 리스트 형 데이터에서 이 두 연산자의 의미는 사칙연산에서 덥셈과 곱셈과 다르다. </font>\n"
      ],
      "metadata": {
        "id": "bCjPOwkZh_j4"
      }
    },
    {
      "cell_type": "code",
      "source": [
        "list_x = [1, 3.1415, 'abc']\n",
        "list_y = ['girl', 'boy']\n",
        "\n",
        "list_z = list_x + list_y\n",
        "\n",
        "print(list_z)"
      ],
      "metadata": {
        "colab": {
          "base_uri": "https://localhost:8080/"
        },
        "id": "P_9S2Lyd8022",
        "outputId": "6d8fa105-ffce-4313-c070-98aa8a55e1f9"
      },
      "execution_count": null,
      "outputs": [
        {
          "output_type": "stream",
          "name": "stdout",
          "text": [
            "[1, 3.1415, 'abc', 'girl', 'boy']\n"
          ]
        }
      ]
    },
    {
      "cell_type": "markdown",
      "source": [
        "`리스트 + 리스트`는 <font color=blue>하나의 리스트를 생성</font>하는데 두 리스트를 <font\n",
        "color=blue>연결(결합)한 리스트</font>가 된다."
      ],
      "metadata": {
        "id": "7i4-EoiM9FQ-"
      }
    },
    {
      "cell_type": "code",
      "source": [
        "[1, 2, 3] + [4, 5, 6]"
      ],
      "metadata": {
        "colab": {
          "base_uri": "https://localhost:8080/"
        },
        "id": "OAD7NVjJ9n-m",
        "outputId": "60ac2cbc-c294-4ee0-8900-bb0fd9f48a63"
      },
      "execution_count": null,
      "outputs": [
        {
          "output_type": "execute_result",
          "data": {
            "text/plain": [
              "[1, 2, 3, 4, 5, 6]"
            ]
          },
          "metadata": {},
          "execution_count": 38
        }
      ]
    },
    {
      "cell_type": "code",
      "source": [
        "[1, 2, 3] * 2"
      ],
      "metadata": {
        "id": "ACyK-1WFiEKd",
        "colab": {
          "base_uri": "https://localhost:8080/"
        },
        "outputId": "0108512e-4dd5-47f6-a2c0-32fd0f456dae"
      },
      "execution_count": null,
      "outputs": [
        {
          "output_type": "execute_result",
          "data": {
            "text/plain": [
              "[1, 2, 3, 1, 2, 3]"
            ]
          },
          "metadata": {},
          "execution_count": 39
        }
      ]
    },
    {
      "cell_type": "markdown",
      "source": [
        "꽤나 빈번하게 쓰이는 `len()`함수가 있습니다. 이 함수는 <font color=blue>\"요소의 개수\"(리스트의 길이)</font>를 반환합니다.\n"
      ],
      "metadata": {
        "id": "RvgiGQfV-eiL"
      }
    },
    {
      "cell_type": "code",
      "source": [
        "len( [1, 2, 3] )"
      ],
      "metadata": {
        "colab": {
          "base_uri": "https://localhost:8080/"
        },
        "id": "W5ZYgUgo-lMu",
        "outputId": "42676c91-7748-486a-ed5c-8dfc12bb8685"
      },
      "execution_count": null,
      "outputs": [
        {
          "output_type": "execute_result",
          "data": {
            "text/plain": [
              "3"
            ]
          },
          "metadata": {},
          "execution_count": 41
        }
      ]
    },
    {
      "cell_type": "code",
      "source": [
        "len( [1, 2, 3] * 2 )"
      ],
      "metadata": {
        "colab": {
          "base_uri": "https://localhost:8080/"
        },
        "id": "zguPXHSH-oA6",
        "outputId": "184cb5c6-d4c7-4d56-d376-a12f4ee6969a"
      },
      "execution_count": null,
      "outputs": [
        {
          "output_type": "execute_result",
          "data": {
            "text/plain": [
              "6"
            ]
          },
          "metadata": {},
          "execution_count": 42
        }
      ]
    },
    {
      "cell_type": "code",
      "source": [
        "len( [1, 2, 3] + [4, 5])"
      ],
      "metadata": {
        "colab": {
          "base_uri": "https://localhost:8080/"
        },
        "id": "XcmBSVY0-r3k",
        "outputId": "c61a5872-7cf1-4839-ac58-5944b61a4b97"
      },
      "execution_count": null,
      "outputs": [
        {
          "output_type": "execute_result",
          "data": {
            "text/plain": [
              "5"
            ]
          },
          "metadata": {},
          "execution_count": 43
        }
      ]
    },
    {
      "cell_type": "code",
      "source": [
        "lst = [1, 3.1415, 'boy', [25.4, 11.5]]\n",
        "print( len(lst) )\n",
        "print( lst[0] )\n",
        "print( lst[1] )\n",
        "print( lst[2] )\n",
        "print( lst[3] )   # lst[-1]"
      ],
      "metadata": {
        "colab": {
          "base_uri": "https://localhost:8080/"
        },
        "id": "gcrePK8H_NNs",
        "outputId": "cc1ecf0c-ce67-48c8-b7ac-2285502bee5b"
      },
      "execution_count": null,
      "outputs": [
        {
          "output_type": "stream",
          "name": "stdout",
          "text": [
            "4\n"
          ]
        }
      ]
    },
    {
      "cell_type": "markdown",
      "source": [
        "#### 리스트에 요소 추가하기: append(), insert()\n",
        "```python\n",
        "리스트_데이터.append(추가할 요소)\n",
        "```\n",
        "`append()`함수는 매우 자주 사용\n",
        "`append()`함수가 하는 기능은 해당 리스트 형 데이터의 맨 마지막에 `추가할 요소`를 추가합니다.\n",
        "<font color=red>한마디로 리스트의 맨 마지막에 요소를 추가</font>"
      ],
      "metadata": {
        "id": "fsf0KFqeiF_n"
      }
    },
    {
      "cell_type": "code",
      "source": [
        "lst = [1, 2, 3]\n",
        "lst.append('boy')\n",
        "print( lst )"
      ],
      "metadata": {
        "colab": {
          "base_uri": "https://localhost:8080/"
        },
        "id": "PlY1etm0Abnj",
        "outputId": "3bf0b1e2-fda9-4864-e7f8-df87aab2f1d9"
      },
      "execution_count": null,
      "outputs": [
        {
          "output_type": "stream",
          "name": "stdout",
          "text": [
            "[1, 2, 3, 'boy']\n"
          ]
        }
      ]
    },
    {
      "cell_type": "markdown",
      "source": [
        "`insert(인덱스, 추가할 요소)`함수는 리스트의 원하는 인덱스 위치에 추가할 요소를 끼워 넣는다"
      ],
      "metadata": {
        "id": "sDW7ukv6Ap0E"
      }
    },
    {
      "cell_type": "code",
      "source": [
        "lst = [1, 2, 3]\n",
        "lst.insert(0, 0)    # lst의 인덱스 0 위치에 숫자 데이터 0을 끼워넣어라라\n",
        "print( lst )"
      ],
      "metadata": {
        "id": "-vv5YKf2iJ2r",
        "colab": {
          "base_uri": "https://localhost:8080/"
        },
        "outputId": "0fb32ec9-53d6-4f3a-99ed-7093c28464d1"
      },
      "execution_count": null,
      "outputs": [
        {
          "output_type": "stream",
          "name": "stdout",
          "text": [
            "[0, 1, 2, 3]\n"
          ]
        }
      ]
    },
    {
      "cell_type": "markdown",
      "source": [
        "#####◃참고▹ extend() 함수\n",
        "`append()`나 `insert()`는 요소 하나를 리스트에 집어 넣는다. 한번에 여러 요소를 추가하고 싶을 때는 'extend()'함수 이용"
      ],
      "metadata": {
        "id": "QxB1NazNCiRf"
      }
    },
    {
      "cell_type": "code",
      "source": [
        "lst = [1, 2, 3]\n",
        "lst.extend([4, 5, 6])\n",
        "print(lst)"
      ],
      "metadata": {
        "colab": {
          "base_uri": "https://localhost:8080/"
        },
        "id": "lfqt_5fIC6wW",
        "outputId": "4e8461ca-a5e4-4467-c5e6-e607100c446f"
      },
      "execution_count": null,
      "outputs": [
        {
          "output_type": "stream",
          "name": "stdout",
          "text": [
            "[1, 2, 3, 4, 5, 6]\n"
          ]
        }
      ]
    },
    {
      "cell_type": "code",
      "source": [
        "lst = [1, 2, 3]\n",
        "lst_extend = ['a', 'b']\n",
        "lst.extend( lst_extend )\n",
        "\n",
        "print(lst)"
      ],
      "metadata": {
        "colab": {
          "base_uri": "https://localhost:8080/"
        },
        "id": "DRfGigJ4Dz8i",
        "outputId": "c38830d7-7048-4d10-b757-026a17135db6"
      },
      "execution_count": null,
      "outputs": [
        {
          "output_type": "stream",
          "name": "stdout",
          "text": [
            "[1, 2, 3, 'a', 'b']\n"
          ]
        }
      ]
    },
    {
      "cell_type": "code",
      "source": [
        "list_a = [1, 2, 3]\n",
        "list_b = [4, 5, 6]\n",
        "list_c = list_a + list_b\n",
        "\n",
        "print( list_a + list_b)   # 비파괴적 처리\n",
        "print( list_c )"
      ],
      "metadata": {
        "colab": {
          "base_uri": "https://localhost:8080/"
        },
        "id": "TCZZAIPhEvAI",
        "outputId": "c014639d-88f8-4477-83a6-a4a519e8f314"
      },
      "execution_count": null,
      "outputs": [
        {
          "output_type": "stream",
          "name": "stdout",
          "text": [
            "[1, 2, 3, 4, 5, 6]\n",
            "[1, 2, 3, 4, 5, 6]\n",
            "[1, 2, 3]\n"
          ]
        }
      ]
    },
    {
      "cell_type": "code",
      "source": [
        "list_a = [1, 2, 3]\n",
        "list_b = [4, 5, 6]\n",
        "\n",
        "list_a.extend(list_b)  # 파괴적 처리\n",
        "\n",
        "print( list_a )"
      ],
      "metadata": {
        "colab": {
          "base_uri": "https://localhost:8080/"
        },
        "id": "QQ9qqvOVFDmE",
        "outputId": "68bcb8a6-8ebc-4d78-8ee5-eef5d32b8f3d"
      },
      "execution_count": null,
      "outputs": [
        {
          "output_type": "stream",
          "name": "stdout",
          "text": [
            "[1, 2, 3, 4, 5, 6]\n"
          ]
        }
      ]
    },
    {
      "cell_type": "code",
      "source": [
        "list_a = [1, 2, 3]\n",
        "list_b = [4, 5, 6]\n",
        "list_a += list_b     #list_a = list_a + list_b\n",
        "print( list_a )"
      ],
      "metadata": {
        "colab": {
          "base_uri": "https://localhost:8080/"
        },
        "id": "OFFepxrUWWMy",
        "outputId": "d15b0213-4410-4047-da9d-d0a3dd8e0e7f"
      },
      "execution_count": null,
      "outputs": [
        {
          "output_type": "stream",
          "name": "stdout",
          "text": [
            "[1, 2, 3, 4, 5, 6]\n"
          ]
        }
      ]
    },
    {
      "cell_type": "markdown",
      "source": [
        "####Quiz\n",
        "\n",
        "아래와 같이 3명에 대한 정보가 담긴 메시지를 받았습니다.\n",
        "```python\n",
        "'짱구, 남, 17, 경기도 화성시, 010-9105-0000\\n유리, 여, 18, 경기도 용인시, 010-9105-1111\\n맹구, 남, 19, 경기도 수원시, 010-1111-2222'`\n",
        "```\n",
        "\n",
        "주성치의 주소를 출력하는 코드를 작성하세요.\n"
      ],
      "metadata": {
        "id": "U55hNpw-Xbni"
      }
    },
    {
      "cell_type": "code",
      "source": [
        "msg = '짱구, 남, 17, 경기도 화성시, 010-9105-0000\\n유리, 여, 18, 경기도 용인시, 010-9105-1111\\n맹구, 남, 19, 경기도 수원시, 010-1111-2222'\n",
        "\n",
        "print(msg)\n",
        "lst = msg.split('\\n')\n",
        "print(lst)\n",
        "\n",
        "tar = lst[2]\n",
        "print(ta``r)\n",
        "\n",
        "inf = tar.split(',')\n",
        "print(inf)\n",
        "print(inf[3])\n"
      ],
      "metadata": {
        "colab": {
          "base_uri": "https://localhost:8080/"
        },
        "id": "NmynutOyzfH7",
        "outputId": "140f59d3-c215-4ed9-ef84-04ad87a7ee1f"
      },
      "execution_count": null,
      "outputs": [
        {
          "output_type": "stream",
          "name": "stdout",
          "text": [
            "짱구, 남, 17, 경기도 화성시, 010-9105-0000\n",
            "유리, 여, 18, 경기도 용인시, 010-9105-1111\n",
            "맹구, 남, 19, 경기도 수원시, 010-1111-2222\n",
            "['짱구, 남, 17, 경기도 화성시, 010-9105-0000', '유리, 여, 18, 경기도 용인시, 010-9105-1111', '맹구, 남, 19, 경기도 수원시, 010-1111-2222']\n",
            "맹구, 남, 19, 경기도 수원시, 010-1111-2222\n",
            "['맹구', ' 남', ' 19', ' 경기도 수원시', ' 010-1111-2222']\n",
            " 경기도 수원시\n"
          ]
        }
      ]
    },
    {
      "cell_type": "markdown",
      "source": [
        "####<font color=blue>Quiz</font>\n",
        "유리의 전화 번호를 출력하는 코드를 작성하시오."
      ],
      "metadata": {
        "id": "EwfPd07oaFdg"
      }
    },
    {
      "cell_type": "code",
      "source": [
        "msg = '짱구, 남, 17, 경기도 화성시, 010-9105-0000\\n유리, 여, 18, 경기도 용인시, 010-9105-1111\\n맹구, 남, 19, 경기도 수원시, 010-1111-2222'\n",
        "\n",
        "lst = msg.split('\\n')\n",
        "tar = lst[1]\n",
        "ifm = tar.split(',')\n",
        "num = ifm[4]\n",
        "print(num)\n"
      ],
      "metadata": {
        "colab": {
          "base_uri": "https://localhost:8080/"
        },
        "id": "PEAJZxhx2W_S",
        "outputId": "a5cc889f-85f6-4698-f161-6c278b85eb14"
      },
      "execution_count": null,
      "outputs": [
        {
          "output_type": "stream",
          "name": "stdout",
          "text": [
            " 010-9105-1111\n"
          ]
        }
      ]
    },
    {
      "cell_type": "markdown",
      "source": [
        "####<font color=blue>Quiz</font>\n",
        "\n",
        "다음 리스트의 각 요소를 모두 합쳐서 하나의 문자열 데이터로 변환하는 코드를 작성하시오.\n",
        "\n",
        "```python\n",
        "lst = ['짱구', '남', 17, '경기도 화성시']\n",
        "```\n",
        "\n",
        "`'짱구, 남, 17, 경기도 화성시'`와 같이 하나의 문자열로 변환하는 코드를 작성하시오."
      ],
      "metadata": {
        "id": "RuPw5hkSaQlR"
      }
    },
    {
      "cell_type": "code",
      "source": [
        "lst = ['짱구', '남', 17, '경기도 화성시']\n",
        "msg=''\n",
        "\n",
        "for element in lst:\n",
        "  msg += element if type(element) is str else str(element)\n",
        "  msg += ', '\n",
        "msg = msg[:-2]\n",
        "\n",
        "print(msg)"
      ],
      "metadata": {
        "colab": {
          "base_uri": "https://localhost:8080/"
        },
        "id": "KDaqNw3X4O12",
        "outputId": "c8e473d6-2c49-41ff-ce5d-2ee34fd7c1cf"
      },
      "execution_count": null,
      "outputs": [
        {
          "output_type": "stream",
          "name": "stdout",
          "text": [
            "짱구, 남, 17, 경기도 화성시\n"
          ]
        }
      ]
    },
    {
      "cell_type": "markdown",
      "source": [
        "### 리스트의 요소 제거하기\n",
        "\n",
        " * 인덱스를 이용하여 제거\n",
        " * 요소의 값을 이용하여 제거\n"
      ],
      "metadata": {
        "id": "H5Ve7qc3iL7R"
      }
    },
    {
      "cell_type": "markdown",
      "source": [
        "#### <ins>인덱스로 제거하기: del 키워드, pop()</ins>\n",
        "```python\n",
        "del 리스트_이름[인덱스]\n",
        "```\n",
        "```python\n",
        "리스트_이름.pop(인덱스)\n",
        "```\n",
        "\n",
        " 또 리스트에서 인덱스의 범위를 지정하여 해당 요소들을 삭제할 수 있다.\n",
        "\n",
        "```python\n",
        "리스트_이름[시작_인덱스:끝_인덱스:증감_폭]\n",
        "```"
      ],
      "metadata": {
        "id": "xcUp-gpyiQsc"
      }
    },
    {
      "cell_type": "code",
      "source": [
        "lst = [1, 2, 3, 4, 5]\n",
        "\n",
        "del lst[0]\n",
        "print(lst)"
      ],
      "metadata": {
        "colab": {
          "base_uri": "https://localhost:8080/"
        },
        "id": "xvt16g83GxVF",
        "outputId": "3bd75eee-4754-4b29-ed3e-638bfb23892b"
      },
      "execution_count": null,
      "outputs": [
        {
          "output_type": "stream",
          "name": "stdout",
          "text": [
            "[2, 3, 4, 5]\n"
          ]
        }
      ]
    },
    {
      "cell_type": "code",
      "source": [
        "lst = [1, 2, 3, 4, 5]\n",
        "\n",
        "lst.pop(2)\n",
        "print(lst)"
      ],
      "metadata": {
        "colab": {
          "base_uri": "https://localhost:8080/"
        },
        "id": "oQv1kY9tG7AD",
        "outputId": "0f6ba639-d2b8-4ec4-91b5-e7b26983e7eb"
      },
      "execution_count": null,
      "outputs": [
        {
          "output_type": "stream",
          "name": "stdout",
          "text": [
            "[1, 2, 4, 5]\n"
          ]
        }
      ]
    },
    {
      "cell_type": "code",
      "source": [
        "lst = [1, 2, 3, 4, 5]\n",
        "\n",
        "pop_data = lst.pop(0)   # 리스트의 맨 앞 요소를 빼서\n",
        "lst.append(pop_data)    # 리스트의 맨 뒤에 붙이기기\n",
        "\n",
        "pop_data = lst.pop(0)\n",
        "lst.append(pop_data)\n",
        "\n",
        "print( lst )"
      ],
      "metadata": {
        "colab": {
          "base_uri": "https://localhost:8080/"
        },
        "id": "0mMAR2a6H8p0",
        "outputId": "dfc21d0c-614a-48d4-e28a-f2399880c84f"
      },
      "execution_count": null,
      "outputs": [
        {
          "output_type": "stream",
          "name": "stdout",
          "text": [
            "[3, 4, 5, 1, 2]\n"
          ]
        }
      ]
    },
    {
      "cell_type": "code",
      "source": [
        "lst = [1, 2, 3, 4, 5]\n",
        "del lst[0:3]\n",
        "print( lst )"
      ],
      "metadata": {
        "colab": {
          "base_uri": "https://localhost:8080/"
        },
        "id": "iACmV50dIr-U",
        "outputId": "2e115618-2d95-4356-b2f6-e28888c34d0a"
      },
      "execution_count": null,
      "outputs": [
        {
          "output_type": "stream",
          "name": "stdout",
          "text": [
            "[4, 5]\n"
          ]
        }
      ]
    },
    {
      "cell_type": "code",
      "source": [
        "lst = [1, 2, 3, 4, 5]\n",
        "del lst[:3]           #'증감_값'이 생략되어 기본 설정 값 1로 인식하는 상황에서 인덱스 시작 위치를 지정하지 않으면 시작 위치는 0으로 인식합니다.\n",
        "print( lst )\n",
        "\n",
        "lst = [1, 2, 3, 4, 5]\n",
        "del lst[:3:]           #'증감_값'이 생략되어 기본 설정 값 1로 인식하는 상황에서 인덱스 시작 위치를 지정하지 않으면 시작 위치는 0으로 인식합니다.\n",
        "print( lst )\n"
      ],
      "metadata": {
        "colab": {
          "base_uri": "https://localhost:8080/"
        },
        "id": "6pBLjVJNJDZK",
        "outputId": "70b5b505-3598-4313-fab7-138ce126cfe3"
      },
      "execution_count": null,
      "outputs": [
        {
          "output_type": "stream",
          "name": "stdout",
          "text": [
            "[4, 5]\n",
            "[4, 5]\n"
          ]
        }
      ]
    },
    {
      "cell_type": "markdown",
      "source": [
        " * **`lst[n:]`형태로 `lst[n::]`과 같은 의미이며 `lst[n::]`에서 `증감_값`이 생략되었기 때문에 기본 설정된 `증감_값`으로 1이 적용된다.**"
      ],
      "metadata": {
        "id": "tYHDdbQUJJyp"
      }
    },
    {
      "cell_type": "code",
      "source": [
        "lst = [1, 2, 3, 4, 5]\n",
        "del lst[2:]\n",
        "print( lst )\n",
        "\n",
        "lst = [1, 2, 3, 4, 5]\n",
        "del lst[2::]\n",
        "print( lst )"
      ],
      "metadata": {
        "colab": {
          "base_uri": "https://localhost:8080/"
        },
        "id": "HPW4qSRRJcRL",
        "outputId": "79edbd48-6fa1-4c63-ad4c-26fc921214e8"
      },
      "execution_count": null,
      "outputs": [
        {
          "output_type": "stream",
          "name": "stdout",
          "text": [
            "[1, 2]\n",
            "[1, 2]\n"
          ]
        }
      ]
    },
    {
      "cell_type": "markdown",
      "source": [
        "##### ◃참고▹ 리스트 슬라이싱(slicing)\n",
        "\n",
        "**슬라이싱**: 리스트에 [:] 연산자를 적용하여 일부 요소들만 선택하는 기법, 선택한 요소에 대한 인덱스를 지정해서 해당 요소만 분리 추출\n",
        "\n",
        "```python\n",
        "list_name[start:end:step]\n",
        "```\n",
        "위 코드는 `list_name` 리스트 데이터에서 `[start:end:step]`에서 지정한 인덱스 범위에 해당하는 요소만 추출한다는 의미이다.\n",
        "인덱스 범위 지정을 위해 시작 인덱스 값은 `start`에 지정하고 인덱스 범위의 끝 인덱스 값 보다 하나 더 큰 값을  `end`에 지정한다. 그리고 시작 인덱스부터 인덱스 즘감 폭을 `step`에 지정한다.\n",
        "\n",
        "```python\n",
        "lst = ['a', 'b', 'c', 'd', 'e']\n",
        "print( lst[0:5:2] )\n",
        "```\n",
        "위 코드 블록에서 `start`는 0이고 `end`는 5이며 `step`은 2이고 인덱스 범위는 0부터 4까지로 인덱스 증감 폭이 2이니까 각 인덱스 값은 0, 2, 4 따라서 이 인덱스 범위에 해당하는 요소의 값은 'a', 'c', 'e'이다.\n"
      ],
      "metadata": {
        "id": "e3X9DK1JLQYz"
      }
    },
    {
      "cell_type": "code",
      "source": [
        "lst = ['a', 'b', 'c', 'd', 'e']\n",
        "print( lst[0:5] )\n",
        "print( lst[0:5:2] )"
      ],
      "metadata": {
        "colab": {
          "base_uri": "https://localhost:8080/"
        },
        "id": "qFnIvLdiLPth",
        "outputId": "0c873d1b-86fb-49ac-8b74-051654ede013"
      },
      "execution_count": null,
      "outputs": [
        {
          "output_type": "stream",
          "name": "stdout",
          "text": [
            "['a', 'b', 'c', 'd', 'e']\n",
            "['a', 'c', 'e']\n"
          ]
        }
      ]
    },
    {
      "cell_type": "markdown",
      "source": [
        "아래 코드 셀에서는 `lst[::]`형태의 코드가 보인다. `lst[::2]`의 경우 인덱스 범위는 전체인데 `step`에 해당하는 값이 2이므로 선택된 인덱스 값은 '0, 2, 4, ... 마지막 인덱스'이다.\n",
        "\n"
      ],
      "metadata": {
        "id": "mNeE1twmeEKe"
      }
    },
    {
      "cell_type": "code",
      "source": [
        "lst = [1, 2, 3, 4, 5]\n",
        "print( lst[::2] )           # 인덱스 범위의 시작은 인덱스 0부터 인덱스 2, 인덱스 4까지입니다.\n",
        "                            # 끝 인덱스가 4입니다."
      ],
      "metadata": {
        "colab": {
          "base_uri": "https://localhost:8080/"
        },
        "id": "WGnHW_yRMP3J",
        "outputId": "09088743-e171-4cbb-ffce-7dd86b70b03f"
      },
      "execution_count": null,
      "outputs": [
        {
          "output_type": "stream",
          "name": "stdout",
          "text": [
            "[1, 3, 5]\n"
          ]
        }
      ]
    },
    {
      "cell_type": "markdown",
      "source": [
        "아래 코드는 `start`는 0이고 `end`는 11이니 고려하는 범위 내의 인덱스는 0, 1, 2, 3, 4, 5, 6, 7, 8, 9, 10이다. 그런데 `step`이 -2이다. 0부터 -2씩 증가해서 10에 도달할 수 없다. 리스트에서 요소를 추출하기 위해 인덱스 범위를 결정해야 하는데 인덱스 범위가 빈 리스트이다. 그래서 요소를 선택할 수 없다."
      ],
      "metadata": {
        "id": "lR0UyJp70L_P"
      }
    },
    {
      "cell_type": "code",
      "source": [
        "lst = ['a', 'b', 'c', 'd', 'e', 'f', 'g', 'h', 'i', 'j', 'k']\n",
        "print(lst[0:11:-2])"
      ],
      "metadata": {
        "colab": {
          "base_uri": "https://localhost:8080/"
        },
        "id": "O-13p0gPv4ji",
        "outputId": "493f72fd-41fc-4804-9425-c0e8ef9515e8"
      },
      "execution_count": null,
      "outputs": [
        {
          "output_type": "stream",
          "name": "stdout",
          "text": [
            "[]\n"
          ]
        }
      ]
    },
    {
      "cell_type": "markdown",
      "source": [
        "#### <ins>값 제거하기: remove()</ins>\n",
        "값을 지정하여 해당 요소를 삭제하는 것\n"
      ],
      "metadata": {
        "id": "cBlxH57cibD_"
      }
    },
    {
      "cell_type": "code",
      "source": [
        "lst = [1, 2, 3]\n",
        "lst.remove(2)\n",
        "print( lst )"
      ],
      "metadata": {
        "colab": {
          "base_uri": "https://localhost:8080/"
        },
        "id": "HdClXkwpdfMa",
        "outputId": "1375edd8-6043-45c3-eb92-a18f874244cb"
      },
      "execution_count": null,
      "outputs": [
        {
          "output_type": "stream",
          "name": "stdout",
          "text": [
            "[1, 3]\n"
          ]
        }
      ]
    },
    {
      "cell_type": "markdown",
      "source": [
        "#### <ins>모두 제거하기:clear()</ins>"
      ],
      "metadata": {
        "id": "XTOAEv4Miine"
      }
    },
    {
      "cell_type": "code",
      "source": [
        "lst = ['a', 'b', 'c']\n",
        "lst.clear()\n",
        "print( lst )\n"
      ],
      "metadata": {
        "id": "bGf6U1Hpinpl",
        "colab": {
          "base_uri": "https://localhost:8080/"
        },
        "outputId": "8d34a3fe-eb54-49b0-e647-1795fa90de54"
      },
      "execution_count": null,
      "outputs": [
        {
          "output_type": "stream",
          "name": "stdout",
          "text": [
            "[]\n"
          ]
        }
      ]
    },
    {
      "cell_type": "markdown",
      "source": [
        "#### 리스트 정렬하기: sort()\n",
        "리스트의 요소를 정렬하려고 할 때 `sort()`함수를 사용하고 기본 정렬 방식은 오름차순으로 설정"
      ],
      "metadata": {
        "id": "JzRmV4FlioR9"
      }
    },
    {
      "cell_type": "code",
      "source": [
        "lst = [1, 3, 2, 0]\n",
        "lst.sort()\n",
        "print( lst )"
      ],
      "metadata": {
        "id": "BMgpJSQIisbi",
        "colab": {
          "base_uri": "https://localhost:8080/"
        },
        "outputId": "08b4db4e-e735-48e2-cb70-8d29facd4c1f"
      },
      "execution_count": null,
      "outputs": [
        {
          "output_type": "stream",
          "name": "stdout",
          "text": [
            "[0, 1, 2, 3]\n"
          ]
        }
      ]
    },
    {
      "cell_type": "markdown",
      "source": [
        "#### 리스트 내부에 있는지 확인하기: in/not in 연산자\n",
        "`in`연산자와 `not in`연산자를 사용하여 리스트 안에 특정 요소가 있는지 없는지 파악"
      ],
      "metadata": {
        "id": "MXPYF9Gwiuqh"
      }
    },
    {
      "cell_type": "code",
      "source": [
        "lst = ['아반데', '소나타','그랜저' ]\n",
        "print( 'K5' in lst )\n",
        "print( '그랜저' in lst )"
      ],
      "metadata": {
        "id": "JiImioApi0Lc",
        "colab": {
          "base_uri": "https://localhost:8080/"
        },
        "outputId": "00529452-4602-4f58-a1c6-d9bbfc388ce7"
      },
      "execution_count": null,
      "outputs": [
        {
          "output_type": "stream",
          "name": "stdout",
          "text": [
            "False\n",
            "True\n"
          ]
        }
      ]
    },
    {
      "cell_type": "code",
      "source": [
        "hyundai_motor_list = ['아반데', '소나타','그랜저' ]\n",
        "name_car = 'K5'\n",
        "if name_car in hyundai_motor_list:\n",
        "  print('{}는 현대자동차사의 차량입니다'.format(name_car))\n",
        "else:\n",
        "  print('{}는 현재자동차사의 차량이 아닙니다'.format(name_car))"
      ],
      "metadata": {
        "colab": {
          "base_uri": "https://localhost:8080/"
        },
        "id": "UIw6OvNthLwx",
        "outputId": "57e75076-536d-4a5c-e860-7c3cfc8478cd"
      },
      "execution_count": null,
      "outputs": [
        {
          "output_type": "stream",
          "name": "stdout",
          "text": [
            "K5는 현재자동차사의 차량이 아닙니다\n"
          ]
        }
      ]
    },
    {
      "cell_type": "markdown",
      "source": [
        "### for 반복문\n",
        "\n",
        " * for 반복문: 리스트와 함께 사용하기\n"
      ],
      "metadata": {
        "id": "rXyET0N8i2Oz"
      }
    },
    {
      "cell_type": "markdown",
      "source": [
        "\n",
        "```python\n",
        "for each_element in [0, 1, 2]:\n",
        "  print(each_element)\n",
        "```\n",
        "\n",
        "\n",
        "\n"
      ],
      "metadata": {
        "id": "wf9UjI69nwPa"
      }
    },
    {
      "cell_type": "code",
      "source": [
        "for each_element in [0, 1, 2]:\n",
        "  print(each_element)"
      ],
      "metadata": {
        "id": "idRMeSfUi44S",
        "colab": {
          "base_uri": "https://localhost:8080/"
        },
        "outputId": "02477d44-319a-415f-85f8-bdc22aac2872"
      },
      "execution_count": null,
      "outputs": [
        {
          "output_type": "stream",
          "name": "stdout",
          "text": [
            "0\n",
            "1\n",
            "2\n"
          ]
        }
      ]
    },
    {
      "cell_type": "code",
      "source": [
        "for index in [0, 1, 2]:\n",
        "  print( '사랑해' )"
      ],
      "metadata": {
        "colab": {
          "base_uri": "https://localhost:8080/"
        },
        "id": "jrLjTB_xFbtP",
        "outputId": "b8c93521-9d09-4c4c-f8b5-6632469baf30"
      },
      "execution_count": null,
      "outputs": [
        {
          "output_type": "stream",
          "name": "stdout",
          "text": [
            "사랑해\n",
            "사랑해\n",
            "사랑해\n"
          ]
        }
      ]
    },
    {
      "cell_type": "code",
      "source": [
        "for index in [0, 1, 2]:\n",
        "  print( '사랑해'[index] )"
      ],
      "metadata": {
        "colab": {
          "base_uri": "https://localhost:8080/"
        },
        "id": "rOEyPcZluQ-Y",
        "outputId": "3d6fa859-e2a6-4040-8ab9-8ea15befba1d"
      },
      "execution_count": null,
      "outputs": [
        {
          "output_type": "stream",
          "name": "stdout",
          "text": [
            "사\n",
            "랑\n",
            "해\n"
          ]
        }
      ]
    },
    {
      "cell_type": "markdown",
      "source": [
        "```python\n",
        "for each_element in [0, 1, 2]:\n",
        "  print(each_element)\n",
        "```\n",
        "위와 같은 형태의 코드를 살펴봤다. 위 코드에서 `in` 뒤에 오는 것은 리스트 형 데이터이다. 그래서 해석을 \"리스트 형 데이터 `[1, 2, 3]` 안(`in`)에 있는 각각의 요소에 대해서~\"이라고 해석을 했었다.\n",
        "\n",
        "```python\n",
        "for each_element in ['a', 'b', 'c']:\n",
        "  print(each_element)\n",
        "```\n",
        "위와 같은 코드를 해서 한글로 해석 한다면 앞서와 마찬가지로 \"리스트 형 데이터 `['a', 'b', 'c']` 안(`in`)에 있는 각각의 요소에 대해서~\"로 해석할 수 있다.\n",
        "\n",
        "\n"
      ],
      "metadata": {
        "id": "iPOTJsOivzbN"
      }
    },
    {
      "cell_type": "code",
      "source": [
        "name_list = ['철수', '유리', '맹구', '훈이']\n",
        "\n",
        "for name in name_list:\n",
        "  print(name)"
      ],
      "metadata": {
        "colab": {
          "base_uri": "https://localhost:8080/"
        },
        "id": "tTp5zCGCxYmi",
        "outputId": "93c202e7-3e21-4aa8-9d8a-2ac416225c91"
      },
      "execution_count": null,
      "outputs": [
        {
          "output_type": "stream",
          "name": "stdout",
          "text": [
            "철수\n",
            "유리\n",
            "맹구\n",
            "훈이\n"
          ]
        }
      ]
    },
    {
      "cell_type": "code",
      "source": [
        "for each_element in [0, 1, 2]:\n",
        "  print(each_element)\n",
        "  print( '{}번째 작업이 완료 되었습니다'.format(each_element + 1) )\n",
        "  print('---'*30)\n",
        "  print()\n",
        "\n",
        "print('모든 작업이 끝났습니다.')"
      ],
      "metadata": {
        "colab": {
          "base_uri": "https://localhost:8080/"
        },
        "id": "Z0FC0xIF8Ftq",
        "outputId": "3c62ae5f-3d41-4e4b-e082-04bd2a94f40f"
      },
      "execution_count": null,
      "outputs": [
        {
          "output_type": "stream",
          "name": "stdout",
          "text": [
            "0\n",
            "1번째 작업이 완료 되었습니다\n",
            "------------------------------------------------------------------------------------------\n",
            "\n",
            "1\n",
            "2번째 작업이 완료 되었습니다\n",
            "------------------------------------------------------------------------------------------\n",
            "\n",
            "2\n",
            "3번째 작업이 완료 되었습니다\n",
            "------------------------------------------------------------------------------------------\n",
            "\n",
            "모든 작업이 끝났습니다.\n"
          ]
        }
      ]
    },
    {
      "cell_type": "markdown",
      "source": [
        "\n",
        "```python\n",
        "for each_element in X:\n",
        "  print(each_element)\n",
        "```\n",
        "바로 위 코드에서 `X`가 꼭 리스트 형 데이터여야 하는 것은 아니다. <font color=blue>**iterable한 데이터**</font>면 된다. iterable를 '반복 가능한'으로 해석한다. '반복 가능한 데이터'는 둘 이상의 요소를 갖는 데이터다라고 생각하면 된다.\n"
      ],
      "metadata": {
        "id": "JdjYRsAhx2CY"
      }
    },
    {
      "cell_type": "markdown",
      "source": [
        "`range(N)` 함수: 0부터 N-1까지의 둘 이상의 정수를 생성하는 함수.\n",
        "\n",
        "```python\n",
        "range([start,]end[,step])\n",
        "```"
      ],
      "metadata": {
        "id": "PhAn34zrznzl"
      }
    },
    {
      "cell_type": "code",
      "source": [
        "r = range(1, 10)\n",
        "rr = list(r)\n",
        "print(rr)"
      ],
      "metadata": {
        "colab": {
          "base_uri": "https://localhost:8080/"
        },
        "id": "4xFzulrHKITt",
        "outputId": "b265ca63-1227-43e4-fdd9-4da383da65b7"
      },
      "execution_count": null,
      "outputs": [
        {
          "output_type": "stream",
          "name": "stdout",
          "text": [
            "[1, 2, 3, 4, 5, 6, 7, 8, 9]\n"
          ]
        }
      ]
    },
    {
      "cell_type": "code",
      "source": [
        "r = range(0, 10, 2)\n",
        "rr = list(r)\n",
        "print(rr)"
      ],
      "metadata": {
        "colab": {
          "base_uri": "https://localhost:8080/"
        },
        "id": "gw1ZDEoaKQqk",
        "outputId": "ddbc08d3-7797-49ab-b9bf-93bcd484ab89"
      },
      "execution_count": null,
      "outputs": [
        {
          "output_type": "stream",
          "name": "stdout",
          "text": [
            "[0, 2, 4, 6, 8]\n"
          ]
        }
      ]
    },
    {
      "cell_type": "code",
      "source": [
        "name_list = ['철수', '유리', '맹구', '훈이']\n",
        "\n",
        "for name in name_list:\n",
        "  print(name)\n",
        "\n",
        "print('---'*2)\n",
        "\n",
        "for index in range(len(name_list)):\n",
        "  print(name_list[index])"
      ],
      "metadata": {
        "colab": {
          "base_uri": "https://localhost:8080/"
        },
        "id": "LCOGH18W0G0w",
        "outputId": "77db45f1-8545-4fbc-ddf8-fbedbc266972"
      },
      "execution_count": null,
      "outputs": [
        {
          "output_type": "stream",
          "name": "stdout",
          "text": [
            "철수\n",
            "유리\n",
            "맹구\n",
            "훈이\n",
            "------\n",
            "철수\n",
            "유리\n",
            "맹구\n",
            "훈이\n"
          ]
        }
      ]
    },
    {
      "cell_type": "markdown",
      "source": [
        "\n",
        "### 중첩 리스트와 중첩 반복문\n",
        "\n",
        " * 중첩 리스트: 리스트 데이터가 리스트 데이터를 요소로 갖는 경우\n",
        "\n",
        "  ```python\n",
        "    lst = [ [1, 2], [3, 4], [5, 6] ]\n",
        "  ```\n"
      ],
      "metadata": {
        "id": "nJbkynLJi-uH"
      }
    },
    {
      "cell_type": "code",
      "source": [
        "lst = [ [1, 2], [3, 4], [5, 6] ]\n",
        "print( len(lst) )"
      ],
      "metadata": {
        "id": "Llne9ks-jE1x",
        "colab": {
          "base_uri": "https://localhost:8080/"
        },
        "outputId": "f0afbadc-22ff-420e-f594-faaed8a7d39b"
      },
      "execution_count": null,
      "outputs": [
        {
          "output_type": "stream",
          "name": "stdout",
          "text": [
            "3\n"
          ]
        }
      ]
    },
    {
      "cell_type": "code",
      "source": [
        "for each_element in lst:\n",
        "  print(each_element)"
      ],
      "metadata": {
        "colab": {
          "base_uri": "https://localhost:8080/"
        },
        "id": "x7bKDHhT5UEh",
        "outputId": "966b45a8-1e75-4c44-ec45-1e2985a9df17"
      },
      "execution_count": null,
      "outputs": [
        {
          "output_type": "stream",
          "name": "stdout",
          "text": [
            "[1, 2]\n",
            "[3, 4]\n",
            "[5, 6]\n"
          ]
        }
      ]
    },
    {
      "cell_type": "code",
      "source": [
        "lst = [ [1, 2, '해운대'], ['a', 'b', 'c'], [3, 4, 5, 6], [0, 3.14], ['철수', '유리', '맹구', '훈이'] ]\n",
        "print(lst)\n",
        "\n",
        "lst = [\n",
        "    [1, 2, '해운대'],\n",
        "    ['a', 'b', 'c'],\n",
        "    [3, 4, 5, 6],\n",
        "    [0, 3.14],\n",
        "    ['철수', '유리', '맹구', '훈이']\n",
        "    ]\n",
        "print(lst)"
      ],
      "metadata": {
        "colab": {
          "base_uri": "https://localhost:8080/"
        },
        "id": "DsgiC0aM5ogH",
        "outputId": "5d00b5ec-ca56-453f-db22-5504dea47887"
      },
      "execution_count": null,
      "outputs": [
        {
          "output_type": "stream",
          "name": "stdout",
          "text": [
            "[[1, 2, '해운대'], ['a', 'b', 'c'], [3, 4, 5, 6], [0, 3.14], ['철수', '유리', '맹구', '훈이']]\n",
            "[[1, 2, '해운대'], ['a', 'b', 'c'], [3, 4, 5, 6], [0, 3.14], ['철수', '유리', '맹구', '훈이']]\n"
          ]
        }
      ]
    },
    {
      "cell_type": "code",
      "source": [
        "lists = [\n",
        "    [1, 2, '해운대'],\n",
        "    ['a', 'b', 'c'],\n",
        "    [3, 4, 5, 6],\n",
        "    [0, 3.14],\n",
        "    ['철수', '유리', '맹구', '훈이']\n",
        "    ]\n",
        "\n",
        "\n",
        "for each_list in lists:\n",
        "  for each_element in each_list:\n",
        "    print(each_element)\n",
        "  print('---'*10)\n",
        "\n",
        "print('작업 완료~!')"
      ],
      "metadata": {
        "colab": {
          "base_uri": "https://localhost:8080/"
        },
        "id": "8bN3bxDKBCNY",
        "outputId": "c1c303e3-5cb7-4a77-f90f-996441279873"
      },
      "execution_count": null,
      "outputs": [
        {
          "output_type": "stream",
          "name": "stdout",
          "text": [
            "1\n",
            "2\n",
            "해운대\n",
            "------------------------------\n",
            "a\n",
            "b\n",
            "c\n",
            "------------------------------\n",
            "3\n",
            "4\n",
            "5\n",
            "6\n",
            "------------------------------\n",
            "0\n",
            "3.14\n",
            "------------------------------\n",
            "철수\n",
            "유리\n",
            "맹구\n",
            "훈이\n",
            "------------------------------\n",
            "작업 완료~!\n"
          ]
        }
      ]
    },
    {
      "cell_type": "markdown",
      "source": [
        "###Quiz\n",
        " * 구구단 프로그램"
      ],
      "metadata": {
        "id": "p9ttj9_pT1NY"
      }
    },
    {
      "cell_type": "code",
      "source": [
        "for i in range(1,10):\n",
        "  print('2 X {} = {}'.format(i, 2*i))"
      ],
      "metadata": {
        "colab": {
          "base_uri": "https://localhost:8080/"
        },
        "id": "ijl2FZScrpmP",
        "outputId": "b275e085-1d47-4527-b634-2a80e4afef91"
      },
      "execution_count": null,
      "outputs": [
        {
          "output_type": "stream",
          "name": "stdout",
          "text": [
            "2 X 1 = 2\n",
            "2 X 2 = 4\n",
            "2 X 3 = 6\n",
            "2 X 4 = 8\n",
            "2 X 5 = 10\n",
            "2 X 6 = 12\n",
            "2 X 7 = 14\n",
            "2 X 8 = 16\n",
            "2 X 9 = 18\n"
          ]
        }
      ]
    },
    {
      "cell_type": "code",
      "source": [
        "for i in range(1,10):\n",
        "  for j in range(2,10):\n",
        "    print('{} X {} = {}\\t'.format(j, i, j*i), end='')\n",
        "  print()"
      ],
      "metadata": {
        "colab": {
          "base_uri": "https://localhost:8080/"
        },
        "id": "O5Vn4qOstDfa",
        "outputId": "af2a31c1-909c-422b-85c8-f234270948d1"
      },
      "execution_count": null,
      "outputs": [
        {
          "output_type": "stream",
          "name": "stdout",
          "text": [
            "2 X 1 = 2\t3 X 1 = 3\t4 X 1 = 4\t5 X 1 = 5\t6 X 1 = 6\t7 X 1 = 7\t8 X 1 = 8\t9 X 1 = 9\t\n",
            "2 X 2 = 4\t3 X 2 = 6\t4 X 2 = 8\t5 X 2 = 10\t6 X 2 = 12\t7 X 2 = 14\t8 X 2 = 16\t9 X 2 = 18\t\n",
            "2 X 3 = 6\t3 X 3 = 9\t4 X 3 = 12\t5 X 3 = 15\t6 X 3 = 18\t7 X 3 = 21\t8 X 3 = 24\t9 X 3 = 27\t\n",
            "2 X 4 = 8\t3 X 4 = 12\t4 X 4 = 16\t5 X 4 = 20\t6 X 4 = 24\t7 X 4 = 28\t8 X 4 = 32\t9 X 4 = 36\t\n",
            "2 X 5 = 10\t3 X 5 = 15\t4 X 5 = 20\t5 X 5 = 25\t6 X 5 = 30\t7 X 5 = 35\t8 X 5 = 40\t9 X 5 = 45\t\n",
            "2 X 6 = 12\t3 X 6 = 18\t4 X 6 = 24\t5 X 6 = 30\t6 X 6 = 36\t7 X 6 = 42\t8 X 6 = 48\t9 X 6 = 54\t\n",
            "2 X 7 = 14\t3 X 7 = 21\t4 X 7 = 28\t5 X 7 = 35\t6 X 7 = 42\t7 X 7 = 49\t8 X 7 = 56\t9 X 7 = 63\t\n",
            "2 X 8 = 16\t3 X 8 = 24\t4 X 8 = 32\t5 X 8 = 40\t6 X 8 = 48\t7 X 8 = 56\t8 X 8 = 64\t9 X 8 = 72\t\n",
            "2 X 9 = 18\t3 X 9 = 27\t4 X 9 = 36\t5 X 9 = 45\t6 X 9 = 54\t7 X 9 = 63\t8 X 9 = 72\t9 X 9 = 81\t\n"
          ]
        }
      ]
    },
    {
      "cell_type": "code",
      "source": [
        "for i in range(9,0,-1):\n",
        "  for j in range(9,1,-1):\n",
        "    print('{} X {} = {}\\t'.format(j, i, j*i), end='')\n",
        "  print()"
      ],
      "metadata": {
        "colab": {
          "base_uri": "https://localhost:8080/"
        },
        "id": "7laRbTOVw31k",
        "outputId": "1658bbdc-d1df-4a3c-cfab-dc7d02ddef25"
      },
      "execution_count": null,
      "outputs": [
        {
          "output_type": "stream",
          "name": "stdout",
          "text": [
            "9 X 9 = 81\t8 X 9 = 72\t7 X 9 = 63\t6 X 9 = 54\t5 X 9 = 45\t4 X 9 = 36\t3 X 9 = 27\t2 X 9 = 18\t\n",
            "9 X 8 = 72\t8 X 8 = 64\t7 X 8 = 56\t6 X 8 = 48\t5 X 8 = 40\t4 X 8 = 32\t3 X 8 = 24\t2 X 8 = 16\t\n",
            "9 X 7 = 63\t8 X 7 = 56\t7 X 7 = 49\t6 X 7 = 42\t5 X 7 = 35\t4 X 7 = 28\t3 X 7 = 21\t2 X 7 = 14\t\n",
            "9 X 6 = 54\t8 X 6 = 48\t7 X 6 = 42\t6 X 6 = 36\t5 X 6 = 30\t4 X 6 = 24\t3 X 6 = 18\t2 X 6 = 12\t\n",
            "9 X 5 = 45\t8 X 5 = 40\t7 X 5 = 35\t6 X 5 = 30\t5 X 5 = 25\t4 X 5 = 20\t3 X 5 = 15\t2 X 5 = 10\t\n",
            "9 X 4 = 36\t8 X 4 = 32\t7 X 4 = 28\t6 X 4 = 24\t5 X 4 = 20\t4 X 4 = 16\t3 X 4 = 12\t2 X 4 = 8\t\n",
            "9 X 3 = 27\t8 X 3 = 24\t7 X 3 = 21\t6 X 3 = 18\t5 X 3 = 15\t4 X 3 = 12\t3 X 3 = 9\t2 X 3 = 6\t\n",
            "9 X 2 = 18\t8 X 2 = 16\t7 X 2 = 14\t6 X 2 = 12\t5 X 2 = 10\t4 X 2 = 8\t3 X 2 = 6\t2 X 2 = 4\t\n",
            "9 X 1 = 9\t8 X 1 = 8\t7 X 1 = 7\t6 X 1 = 6\t5 X 1 = 5\t4 X 1 = 4\t3 X 1 = 3\t2 X 1 = 2\t\n"
          ]
        }
      ]
    },
    {
      "cell_type": "markdown",
      "source": [
        "##### ◃참고▹ 전개 연산자: *\n",
        "\n",
        "######<ins>첫째, 리스트 내부에서 사용하는 경우</ins>  \n",
        "`a` 리스트의 요소가 1, 2, 3일 때 `b` 리스트 내부에 `*a`라고 입력하면 `a` 리스트의 요소를 전개\n"
      ],
      "metadata": {
        "id": "hehQL-_BjFWO"
      }
    },
    {
      "cell_type": "code",
      "source": [
        "a = [1, 2, 3]\n",
        "b = [*a, *a]\n",
        "print( b )"
      ],
      "metadata": {
        "colab": {
          "base_uri": "https://localhost:8080/"
        },
        "id": "UzY_Bqw7CQ9-",
        "outputId": "3560d4eb-5159-464d-a7e6-e57dbdeb9ddb"
      },
      "execution_count": null,
      "outputs": [
        {
          "output_type": "stream",
          "name": "stdout",
          "text": [
            "[1, 2, 3, 1, 2, 3]\n"
          ]
        }
      ]
    },
    {
      "cell_type": "markdown",
      "source": [
        "#### 딕셔너리\n",
        " * 딕셔너리(dictonary)는 '키(key)를 기반으로 값(value) 저장하는 데이터 형태'\n",
        "\n",
        "```python\n",
        "  {\n",
        "  \"key_A':10,   #문자열을 Key로 사용\n",
        "  \"Key_B':20,\n",
        "  1:40,         #숫자를 Key로 사용\n",
        "  False:50      #부울 값을 키로 사용\n",
        "  }\n",
        "```"
      ],
      "metadata": {
        "id": "0vtgi3RQjMD4"
      }
    },
    {
      "cell_type": "markdown",
      "source": [
        "#### <font color=blue>딕셔너리 선언하기</font>\n",
        "딕셔너리는 중괄호({})로 선언하며, key:value 형태로 한 요소가 생성되며 쉼표(,)로 key:valeu 쌍을 구분한다. 그리고 빈(empty) 리스트 데이터를 선언했던 것과 유사하게 빈(emtpy) 딕셔너리 데이터를 선언할 수 있다.\n",
        "\n",
        "```python\n",
        "empty_list = []\n",
        "empty_dic = {}\n",
        "```"
      ],
      "metadata": {
        "id": "ojCwrx_5jX8H"
      }
    },
    {
      "cell_type": "code",
      "source": [
        "a_dic = {\n",
        "    'name':'짱구',\n",
        "    'address': '경기도 화성시',\n",
        "    'age': 17\n",
        "}"
      ],
      "metadata": {
        "id": "hrmOCmiomFbt"
      },
      "execution_count": null,
      "outputs": []
    },
    {
      "cell_type": "markdown",
      "source": [
        "#### <font color=blue>딕셔너리 요소(key:**value**)에 접근하기</font>\n"
      ],
      "metadata": {
        "id": "G_nDCRnImXOH"
      }
    },
    {
      "cell_type": "code",
      "source": [
        "a_dic = {\n",
        "    'name':'짱구',\n",
        "    'address': '경기도 화성시',\n",
        "    'age': 17\n",
        "}\n",
        "\n",
        "print(a_dic)\n",
        "\n",
        "print( a_dic['name'] )\n",
        "print( a_dic['address'] )\n",
        "print( a_dic['age'] )"
      ],
      "metadata": {
        "colab": {
          "base_uri": "https://localhost:8080/"
        },
        "id": "psbj0BFJmjer",
        "outputId": "4836ad1a-4ccb-4a99-9019-d86a7d44aa45"
      },
      "execution_count": null,
      "outputs": [
        {
          "output_type": "stream",
          "name": "stdout",
          "text": [
            "{'name': '짱구', 'address': '경기도 화성시', 'age': 17}\n",
            "짱구\n",
            "경기도 화성시\n",
            "17\n"
          ]
        }
      ]
    },
    {
      "cell_type": "code",
      "source": [
        "persion = {\n",
        "    'name':'짱구',\n",
        "    'address': '경기도 화성시',\n",
        "    'age': 17,\n",
        "    'car': ['붕붕이', '쌩쌩이']\n",
        "}\n",
        "\n",
        "print( persion['name'] )\n",
        "print( persion['car'] )"
      ],
      "metadata": {
        "id": "qqJg3-zGoWdQ",
        "colab": {
          "base_uri": "https://localhost:8080/"
        },
        "outputId": "0c9e40b3-d1eb-4061-97fe-2162f6cc888d"
      },
      "execution_count": null,
      "outputs": [
        {
          "output_type": "stream",
          "name": "stdout",
          "text": [
            "짱구\n",
            "['붕붕이', '쌩쌩이']\n"
          ]
        }
      ]
    },
    {
      "cell_type": "code",
      "source": [
        "cars = persion['car']\n",
        "print( cars )\n",
        "print( cars[0] )\n",
        "print( cars[1] )\n",
        "\n",
        "print( persion['car'][0] )      # car = presion['car']\n",
        "print( persion['car'][1] )"
      ],
      "metadata": {
        "colab": {
          "base_uri": "https://localhost:8080/"
        },
        "id": "dUbU9fU59Yhl",
        "outputId": "65546ce7-ee5b-4384-9c47-fe84d22a7033"
      },
      "execution_count": null,
      "outputs": [
        {
          "output_type": "stream",
          "name": "stdout",
          "text": [
            "['붕붕이', '쌩쌩이']\n",
            "붕붕이\n",
            "쌩쌩이\n",
            "붕붕이\n",
            "쌩쌩이\n"
          ]
        }
      ]
    },
    {
      "cell_type": "code",
      "source": [
        "my_dic = {\n",
        "    'boy': ['소년', '남자 아이', '(어린)아들'],\n",
        "    'girl': ['소녀', '여자 아이', '딸'],\n",
        "    'computer': {\n",
        "        'cpu': '중앙처리장치',\n",
        "        'memory':'기억장치'\n",
        "    }\n",
        "}\n",
        "\n",
        "mean = my_dic['boy']\n",
        "print( mean[0] )\n",
        "print( mean[1] )\n",
        "print( mean[2] )\n",
        "\n",
        "print('--- 구분선 ---')\n",
        "\n",
        "for element in mean:\n",
        "  print(element)\n",
        "\n",
        "print('--- 구분선 ---')\n",
        "\n",
        "for explanation in my_dic['boy']:\n",
        "  print(explanation)"
      ],
      "metadata": {
        "id": "_dovPYednuWZ",
        "colab": {
          "base_uri": "https://localhost:8080/"
        },
        "outputId": "211b1c91-5db0-494e-d9bf-665cce4a13dc"
      },
      "execution_count": null,
      "outputs": [
        {
          "output_type": "stream",
          "name": "stdout",
          "text": [
            "소년\n",
            "남자 아이\n",
            "(어린)아들\n",
            "--- 구분선 ---\n",
            "소년\n",
            "남자 아이\n",
            "(어린)아들\n",
            "--- 구분선 ---\n",
            "소년\n",
            "남자 아이\n",
            "(어린)아들\n"
          ]
        }
      ]
    },
    {
      "cell_type": "markdown",
      "source": [
        "#### <font color=blue>딕셔너리에 값 추가하기/제거하기</font>\n",
        "딕셔너리에 값(value)을 추가할 때는 키(key)와 함께  저장해야 한다.\n",
        "\n",
        "```python\n",
        "딕셔너리_이름[새로운_키]= 새로운_값\n",
        "```"
      ],
      "metadata": {
        "id": "ptJKG0S1uBqo"
      }
    },
    {
      "cell_type": "code",
      "source": [
        "my_dic = {\n",
        "    'boy': ['소년', '남자 아이', '(어린)아들'],\n",
        "    'girl': ['소녀', '여자 아이', '딸'],\n",
        "    'computer': {\n",
        "        'cpu': '중앙처리장치',\n",
        "        'memory':'기억장치'\n",
        "    }\n",
        "}\n",
        "\n",
        "my_dic['AI'] = 'artificial intelligence'\n",
        "\n",
        "print(my_dic)"
      ],
      "metadata": {
        "colab": {
          "base_uri": "https://localhost:8080/"
        },
        "id": "qCWAP1vxuchr",
        "outputId": "19617c84-0c76-4786-ea09-487a96830e64"
      },
      "execution_count": null,
      "outputs": [
        {
          "output_type": "stream",
          "name": "stdout",
          "text": [
            "{'boy': ['소년', '남자 아이', '(어린)아들'], 'girl': ['소녀', '여자 아이', '딸'], 'computer': {'cpu': '중앙처리장치', 'memory': '기억장치'}, 'AI': 'artificial intelligence'}\n"
          ]
        }
      ]
    },
    {
      "cell_type": "code",
      "source": [
        "my_dic['boy'] = '소년'\n",
        "\n",
        "print(my_dic)"
      ],
      "metadata": {
        "colab": {
          "base_uri": "https://localhost:8080/"
        },
        "id": "SQ88IRSjv2sL",
        "outputId": "2ae2c707-31d8-48b9-f746-d3d8fe4f0b0b"
      },
      "execution_count": null,
      "outputs": [
        {
          "output_type": "stream",
          "name": "stdout",
          "text": [
            "{'boy': '소년', 'girl': ['소녀', '여자 아이', '딸'], 'computer': {'cpu': '중앙처리장치', 'memory': '기억장치'}, 'AI': 'artificial intelligence'}\n"
          ]
        }
      ]
    },
    {
      "cell_type": "markdown",
      "source": [
        "#### 딕셔너리 내부에 키(key)가 있는지 확인하기\n",
        "\n",
        "#### <ins>in 키워드</ins>\n",
        "딕녀서리 데이터 내부에 특정 키로 접근이 가능한지를 확인하기 위해 `in` 키워드를 사용할 수 있다."
      ],
      "metadata": {
        "id": "-0BjtzbDLsH8"
      }
    },
    {
      "cell_type": "code",
      "source": [
        "dic = {\n",
        "    'name':'짱구',\n",
        "    'age': 17,\n",
        "    'address':'경기도 화성시'\n",
        "}\n",
        "key = 'income'\n",
        "\n",
        "if key in dic:\n",
        "  print(dic[key])\n",
        "else:\n",
        "  print('존재하지 않은 key에 접근하고 있습니다.')"
      ],
      "metadata": {
        "colab": {
          "base_uri": "https://localhost:8080/"
        },
        "id": "pBwuIahZPuXO",
        "outputId": "eb7be91c-aa4c-4d20-96ba-a7880e0c6720"
      },
      "execution_count": null,
      "outputs": [
        {
          "output_type": "stream",
          "name": "stdout",
          "text": [
            "존재하지 않은 key에 접근하고 있습니다.\n"
          ]
        }
      ]
    },
    {
      "cell_type": "markdown",
      "source": [
        "#### <ins>get() 함수</ins>"
      ],
      "metadata": {
        "id": "GzBRYbRfMBsT"
      }
    },
    {
      "cell_type": "code",
      "source": [
        "dic = {\n",
        "    'name':'짱구',\n",
        "    'age': 17,\n",
        "    'address':'경기도 화성시'\n",
        "}\n",
        "key = 'income'\n",
        "\n",
        "value_for_key = dic.get(key)\n",
        "\n",
        "if value_for_key != None:\n",
        "  print(dic[key])\n",
        "else:\n",
        "  print('존재하지 않은 key에 접근하고 있습니다.')"
      ],
      "metadata": {
        "colab": {
          "base_uri": "https://localhost:8080/"
        },
        "id": "Sh_WU68gQSPi",
        "outputId": "026b6231-e5e9-457c-b117-04bfb5ffe160"
      },
      "execution_count": null,
      "outputs": [
        {
          "output_type": "stream",
          "name": "stdout",
          "text": [
            "존재하지 않은 key에 접근하고 있습니다.\n"
          ]
        }
      ]
    },
    {
      "cell_type": "markdown",
      "source": [
        "<font color=blue>`get()`함수는 존재 하지 않는 키(key)로 접근했을 때 KeyError를 발생시키지 않고 `None`값을 반환한다.</font>"
      ],
      "metadata": {
        "id": "jI2lBVtVSCRS"
      }
    },
    {
      "cell_type": "code",
      "source": [
        "dic = {\n",
        "    'name':'짱구',\n",
        "    'age': 17,\n",
        "    'address':'경기도 화성시'\n",
        "}\n",
        "\n",
        "key = 'name'\n",
        "\n",
        "value = dic.get(key)\n",
        "\n",
        "print(value if value != None else \"존재하지 않는 key에 접근하고 있습니다.\")"
      ],
      "metadata": {
        "colab": {
          "base_uri": "https://localhost:8080/"
        },
        "id": "ZXMkaQGRTuCy",
        "outputId": "d1c848c3-1d10-4923-8d1c-ec186c6cd471"
      },
      "execution_count": null,
      "outputs": [
        {
          "output_type": "stream",
          "name": "stdout",
          "text": [
            "짱구\n"
          ]
        }
      ]
    },
    {
      "cell_type": "markdown",
      "source": [
        "#### for 반복문: 딕셔너리와 함께 사용하기\n",
        "\n",
        "```python\n",
        "for something in dictonary_type_data:\n",
        "  #code\n",
        "```  \n",
        "<font color=blue>위 코드에서 `dictonary_type_data`는 딕셔너리 데이터를 의미한다. `something'은 어떤 값이 들어갈까? key가 할당 될까? value가 할당될까?</font>\n",
        "\n",
        "```python\n",
        "lst = [1, 'a', 2, 'b']\n",
        "\n",
        "for element in lst:\n",
        "  #code\n",
        "```\n",
        "\n",
        "위 코드에서 `element`에는 `lst`의 요소(값)이 할당될 것이다. 그렇다면 `something`에는 키(key)가? 아니면 값(value)가? 아니면 `key:value` 데이터가 들어갈까?\n"
      ],
      "metadata": {
        "id": "69w2uoAtMIXV"
      }
    },
    {
      "cell_type": "code",
      "source": [
        "dictonary_type_data = {\n",
        "    'name':'짱구',\n",
        "    'age': 17,\n",
        "    'address':'경기도 화성시'\n",
        "}\n",
        "\n",
        "for something in dictonary_type_data:\n",
        "  print(something)"
      ],
      "metadata": {
        "colab": {
          "base_uri": "https://localhost:8080/"
        },
        "id": "Qz_mR0eoX1qL",
        "outputId": "9059947b-71fe-457f-e286-d44039939647"
      },
      "execution_count": null,
      "outputs": [
        {
          "output_type": "stream",
          "name": "stdout",
          "text": [
            "name\n",
            "age\n",
            "address\n"
          ]
        }
      ]
    },
    {
      "cell_type": "markdown",
      "source": [
        "<font color=blue>위 코드에서 `something`에는 각 요소에 대한 키(key)이 할당된다는 것을 알 수 있다.</font> 값(value)도 같이 출력하도록 위 코드를 수정해보면 아래와 같다."
      ],
      "metadata": {
        "id": "kf_fsTZqYBsU"
      }
    },
    {
      "cell_type": "code",
      "source": [
        "dictonary_type_data = {\n",
        "    'name':'짱구',\n",
        "    'age': 17,\n",
        "    'address':'경기도 화성시'\n",
        "}\n",
        "\n",
        "for something in dictonary_type_data:\n",
        "  print(something, \":\", dictonary_type_data[something])"
      ],
      "metadata": {
        "colab": {
          "base_uri": "https://localhost:8080/"
        },
        "id": "lTElCWoQLkSO",
        "outputId": "aff254cb-57ca-4cc3-fd0b-5e49744a7563"
      },
      "execution_count": null,
      "outputs": [
        {
          "output_type": "stream",
          "name": "stdout",
          "text": [
            "name : 짱구\n",
            "age : 17\n",
            "address : 경기도 화성시\n"
          ]
        }
      ]
    },
    {
      "cell_type": "markdown",
      "source": [
        "#### 범위 자료형과 while 반복문\n"
      ],
      "metadata": {
        "id": "hGFgjKtUMURg"
      }
    },
    {
      "cell_type": "markdown",
      "source": [
        "\n",
        "###for 반복문 : 리스트와 범위 조합하기\n",
        "\n",
        "```python\n",
        "lst = [123, 651, 231, 62, 321, 149]\n",
        "\n",
        "for element in lst:\n",
        "  print(element)\n",
        "```\n"
      ],
      "metadata": {
        "id": "4R47vHwuNDW8"
      }
    },
    {
      "cell_type": "markdown",
      "source": [
        "Quiz\n",
        "\n",
        " * 리스트 names에서 짝수번째 요소는 요소값에 '안녕하세요'를 붙여서 출력하고 홀수번째 요소에는 요소값에 '반갑습니다'를 붙여서 출력하는 코드 작성\n",
        "\n",
        " ```python\n",
        " names = ['짱구', '철수', '유리', '맹구', '훈이', '수지']\n",
        " ```"
      ],
      "metadata": {
        "id": "mLHuVNwhd8U-"
      }
    },
    {
      "cell_type": "code",
      "source": [
        "names = ['짱구', '철수', '유리', '맹구', '훈이', '수지']\n",
        "\n",
        "for index in range(6):\n",
        "  if index % 2 == 0:\n",
        "    print(names[index] + ' 안녕하세요')\n",
        "  else:\n",
        "    print(names[index] + ' 반갑습니다')"
      ],
      "metadata": {
        "colab": {
          "base_uri": "https://localhost:8080/"
        },
        "id": "8-8xi_Acd71Q",
        "outputId": "35770c31-da8a-48eb-f4b0-823562e13cda"
      },
      "execution_count": null,
      "outputs": [
        {
          "output_type": "stream",
          "name": "stdout",
          "text": [
            "짱구 안녕하세요\n",
            "철수 반갑습니다\n",
            "유리 안녕하세요\n",
            "맹구 반갑습니다\n",
            "훈이 안녕하세요\n",
            "수지 반갑습니다\n"
          ]
        }
      ]
    },
    {
      "cell_type": "code",
      "source": [
        "names = ['짱구', '철수', '유리', '맹구', '훈이', '수지', '짱아']\n",
        "greeting = ['안녕하세요', '반갑습니다'] * 4\n",
        "\n",
        "for name, greet in zip (names, greeting):\n",
        "  print(name, greet)\n",
        "\n",
        "list(zip(names, greeting))\n",
        "print(len(names),len(greeting))"
      ],
      "metadata": {
        "colab": {
          "base_uri": "https://localhost:8080/"
        },
        "id": "mOU-3CZbgwLg",
        "outputId": "0c3820aa-025a-4530-c534-25aa6dce5c6e"
      },
      "execution_count": null,
      "outputs": [
        {
          "output_type": "stream",
          "name": "stdout",
          "text": [
            "짱구 안녕하세요\n",
            "철수 반갑습니다\n",
            "유리 안녕하세요\n",
            "맹구 반갑습니다\n",
            "훈이 안녕하세요\n",
            "수지 반갑습니다\n",
            "짱아 안녕하세요\n",
            "7 8\n"
          ]
        }
      ]
    },
    {
      "cell_type": "markdown",
      "source": [
        "#### for 반복문 : 반대로 반복하기"
      ],
      "metadata": {
        "id": "-M51AO-bNIwD"
      }
    },
    {
      "cell_type": "code",
      "source": [
        "for i in range(4, -1, -1 ):\n",
        "  print(i)"
      ],
      "metadata": {
        "colab": {
          "base_uri": "https://localhost:8080/"
        },
        "id": "1NjM269uAjcV",
        "outputId": "5af4149d-cf2b-4917-f6ec-066951ca476f"
      },
      "execution_count": null,
      "outputs": [
        {
          "output_type": "stream",
          "name": "stdout",
          "text": [
            "4\n",
            "3\n",
            "2\n",
            "1\n",
            "0\n"
          ]
        }
      ]
    },
    {
      "cell_type": "code",
      "source": [
        "for i in reversed( range(5) ):\n",
        "  print(i)"
      ],
      "metadata": {
        "colab": {
          "base_uri": "https://localhost:8080/"
        },
        "id": "pkQBQ7vuAzcM",
        "outputId": "e015b867-558e-45ef-cece-d3e3490519df"
      },
      "execution_count": null,
      "outputs": [
        {
          "output_type": "stream",
          "name": "stdout",
          "text": [
            "4\n",
            "3\n",
            "2\n",
            "1\n",
            "0\n"
          ]
        }
      ]
    },
    {
      "cell_type": "markdown",
      "source": [
        "#### 중첩 반복문으로 피라미드 만들기\n"
      ],
      "metadata": {
        "id": "ID1pcSO3NMyI"
      }
    },
    {
      "cell_type": "code",
      "source": [
        "for y in range(1, 6):\n",
        "  output = ''\n",
        "  for x in range(y):\n",
        "    output += '*'\n",
        "  print(output)"
      ],
      "metadata": {
        "colab": {
          "base_uri": "https://localhost:8080/"
        },
        "id": "bEDn2ocEBCex",
        "outputId": "c67cea80-89fc-4979-d1df-55bee9b599e1"
      },
      "execution_count": null,
      "outputs": [
        {
          "output_type": "stream",
          "name": "stdout",
          "text": [
            "*\n",
            "**\n",
            "***\n",
            "****\n",
            "*****\n"
          ]
        }
      ]
    },
    {
      "cell_type": "code",
      "source": [
        "for y in range(5):\n",
        "  for x in range(y+1):\n",
        "    print('*', end='')\n",
        "  print()"
      ],
      "metadata": {
        "colab": {
          "base_uri": "https://localhost:8080/"
        },
        "id": "opbd4s1mB0_C",
        "outputId": "1792afde-63c7-4f99-8fa4-761bd42e1aa3"
      },
      "execution_count": null,
      "outputs": [
        {
          "output_type": "stream",
          "name": "stdout",
          "text": [
            "*\n",
            "**\n",
            "***\n",
            "****\n",
            "*****\n"
          ]
        }
      ]
    },
    {
      "cell_type": "code",
      "source": [
        "for y in range(6):\n",
        "  for x in range(6-y):\n",
        "    print(' ', end = '')\n",
        "  for x in range(y):\n",
        "    print('*', end = '')\n",
        "  print()"
      ],
      "metadata": {
        "colab": {
          "base_uri": "https://localhost:8080/"
        },
        "id": "81fE-JVCog8s",
        "outputId": "b1977b00-08ba-4754-cfe1-7d3bc4b5eeb5"
      },
      "execution_count": null,
      "outputs": [
        {
          "output_type": "stream",
          "name": "stdout",
          "text": [
            "      \n",
            "     *\n",
            "    **\n",
            "   ***\n",
            "  ****\n",
            " *****\n"
          ]
        }
      ]
    },
    {
      "cell_type": "markdown",
      "source": [
        "#### Quiz\n",
        "다음과 같은 출력되도록 코드를 완성하시오.\n",
        "\n",
        "<center>\n",
        "\n",
        "![image.png](data:image/png;base64,iVBORw0KGgoAAAANSUhEUgAAANgAAAD1CAYAAAAyEjsFAAAAAXNSR0IArs4c6QAAAARnQU1BAACxjwv8YQUAAAAJcEhZcwAADsMAAA7DAcdvqGQAAAUUSURBVHhe7dtbbuNmGkXR6sykav5jqqkkIWCi285nxi1r86a1XlzAefGFW1QU/v/5828/gMQfb1+BgMAgJDAICQxCAoOQwC7q169fb//izAQGIf8f7GKmO9fv37/f/sXZCOyiltCEdX7eIl7QGpf/Djs/dzAIuYNBSGAQEhiEBAYhgUFIYBASGIQEBiGBQUhgEBIYhAR2YlsP8z66sS+BQcjT9Cc03YHWs1+PbhxDYCe2BPNZII9u7MtbxJNaI5nuSo9u7M8dDELuYBASGIQEBiGBQUhgEBIYhAQGIYFBSGAQEhiEBAYhgR1s66HcvTeeT2AQ8jT9QaY7yXqGa++NjsAOtlz4n13oe288n7eIB1ov9uXrR3tvNNzBIOQOBiGBQUhgEBIYhAQGIYFBSGAQEhiEBAYhgUFIYBASGIQEtoOtp9evsvEYgUHIcZXQdEdYzmMtrrLxPQLbwXIBf3bBXmXjMd4ixtaLdvn60VU2HucOBiF3MAgJDEICg5DAICQwCAkMQgKDkMAgJDAICQxCAoOQwJ5k6yHZu298TmAQ8jT9N02v7Muxj8XdN75gCYzv+/nz59u//unuG58T2BOsF990Ed59Y5u3iBDyIQeEBAYhgUFIYBASGIQEBiGBQUhgEBIYhAQGIYFBSGAQEtj/YTobtbIxERiEHFf5gukV+qhTxFfZeLMExtdsHTi0MRHYF60X0XQx2eYNJ5oh5UMOCAkMQgKDkMAgJDAICQxCAoOQwCAkMAgJDEICg5DAPpiOYKxss0e3VyAwCHma/s30SnvUYcW7by9lCYz/2jrXZJs9ur0Cgf2P9WKYLgrbc7dX4S0ihHzIASGBQUhgEBIYhAQGIYFBSGAQEhiEBAYhgUFIYBB6ycCmoxQr22zv7S7cwSD0Uk/TT6+YRx06tL23brezBPZqts4n2WZ7b3fxcoGtf9Tpj2s7x3YnDlxCyIccEBIYhAQGIYFBSGAQEhiEBAYhgUFIYBASGIQEBiGBQei2gU1njla22VW2K3EHg9DtjqtMr3xHnc61vffd7ZKWwO5o6yCfbXaV7UpuGdj6x5n+SLZrb1fjRDOEfMgBIYFBSGAQEhiEBAYhgUFIYBASGIQEBiGBQUhgELp0YNPRhpVtdvftbNzBIHTJp+mnV7CjDgHa3jtqO60lsKvaOi9km919O5vLBrb+kqdftu01tzNy4BJCPuSAkMAgJDAICQxCAoOQwCAkMAgJDEICg5DAICQwCJ0+sOmIwso2s52HOxiETvs0/fRKdNRhPtt7V9sOtQR2Zlvnfmwz23mcOrD1lzX90my2j7a2ozhwCSEfckBIYBASGIQEBiGBQUhgEBIYhAQGIYFBSGAQEhiEBAahUwQ2neVZ2Wa22aNbxR0MQoceV5leUY469Wp771W23BLY0bYOyNlmttmjW+XwwNYfevrhbbaPiq3kRDOEfMgBIYFBSGAQEhiEBAYhgUFIYBASGIQEBiGBQUhgENotsOnIwMo2s8323r7DHQxC+dP00yvDUYfrbO/ZtrenWALbw9Y5HNvMNtt7+45dAlu/+emHsNk+OtP2XQ5cQsiHHBASGIQEBiGBQUhgEBIYhAQGIYFBSGAQEhiEBAahpwY2Pfq/ss1ss6ts/8YdDEJPeZp+KvyoQ3K292zN9mVLYM+ydZ7GNrPNrrL9m6cFtn4T0zdjs310h+0rHLiEkA85ICQwCAkMQgKDkMAgJDAICQxCAoPMjx9/Act5SQ024ff5AAAAAElFTkSuQmCC)\n",
        "\n",
        "</center>"
      ],
      "metadata": {
        "id": "BXgFbGE0CPUy"
      }
    },
    {
      "cell_type": "code",
      "source": [
        "for x in range(14):\n",
        "  for y in range(14-x):\n",
        "    print(' ', end = '')\n",
        "  for y in range(2*x-1):\n",
        "    print('*', end = '')\n",
        "  print()"
      ],
      "metadata": {
        "colab": {
          "base_uri": "https://localhost:8080/"
        },
        "id": "84jFewjwma8C",
        "outputId": "c994b180-a573-4059-abdd-10d02bbb3368"
      },
      "execution_count": null,
      "outputs": [
        {
          "output_type": "stream",
          "name": "stdout",
          "text": [
            "              \n",
            "             *\n",
            "            ***\n",
            "           *****\n",
            "          *******\n",
            "         *********\n",
            "        ***********\n",
            "       *************\n",
            "      ***************\n",
            "     *****************\n",
            "    *******************\n",
            "   *********************\n",
            "  ***********************\n",
            " *************************\n"
          ]
        }
      ]
    },
    {
      "cell_type": "markdown",
      "source": [
        "#### while 반복문\n",
        "몇 번 반복해야할지 명확할 때 `for`문을 쓰는 편이고 어떤 조건이 충족되는 동안 계속 반복할 경우는 `while`문을 이용하여 반복 동작을 구현한다. 어떤 경우든 반복 동작을 위해서는 `for`문 또는 `while`문을 사용할 수 있다.\n",
        "\n",
        "```python\n",
        "while condition:\n",
        "  # statement\n",
        "```\n",
        "\n",
        "```python\n",
        "for x in [1, 1, 2]:\n",
        "  # statement\n",
        "  pass\n",
        "```\n",
        "\n",
        "아래 코드에서 `condition`이 참(`True`)이라면 `print('.')`를 멈추지 않고 계속 반복 수행한다. 멈추지 않고 무한히 반복 수행하는 것을 **무한 루프**라고 한다.\n",
        "\n",
        "```python\n",
        "while conditon:\n",
        "  print('.')\n",
        "```"
      ],
      "metadata": {
        "id": "9b2DmePgNRn2"
      }
    },
    {
      "cell_type": "markdown",
      "source": [
        "###while 반복문: for 반복문처럼 사용하기"
      ],
      "metadata": {
        "id": "Ur7oEigmNVqH"
      }
    },
    {
      "cell_type": "code",
      "source": [
        "count = 0\n",
        "\n",
        "# 조건(condition), count < 10가 만족하면 무한히 반복 수행\n",
        "while count < 10:\n",
        "  print('{}번째 작업 중입니다.'.format(count))\n",
        "  count += 1\n",
        "\n",
        "print('종료')"
      ],
      "metadata": {
        "id": "zd7NGDhCNblU",
        "colab": {
          "base_uri": "https://localhost:8080/"
        },
        "outputId": "f98db50d-413b-4757-de9b-52ce3586ce1e"
      },
      "execution_count": null,
      "outputs": [
        {
          "output_type": "stream",
          "name": "stdout",
          "text": [
            "0번째 작업 중입니다.\n",
            "1번째 작업 중입니다.\n",
            "2번째 작업 중입니다.\n",
            "3번째 작업 중입니다.\n",
            "4번째 작업 중입니다.\n",
            "5번째 작업 중입니다.\n",
            "6번째 작업 중입니다.\n",
            "7번째 작업 중입니다.\n",
            "8번째 작업 중입니다.\n",
            "9번째 작업 중입니다.\n",
            "종료\n"
          ]
        }
      ]
    },
    {
      "cell_type": "markdown",
      "source": [
        "#### while 반복문: 상태를 기반으로 반복하기\n",
        "\n",
        "```python\n",
        "lst = [1, 2, 3, 3, 4, 5]\n",
        "```\n",
        "`lst`에서 값이 3인 요소를 모두 지우려고 한다. `lst.remove(3)`을 실행하면 어떨까?\n",
        "\n"
      ],
      "metadata": {
        "id": "m4MvaW4QNcJg"
      }
    },
    {
      "cell_type": "code",
      "source": [
        "lst = [1, 2, 3, 3, 4, 5]\n",
        "lst.remove(3)\n",
        "print(lst)\n",
        "\n",
        "while 3 in lst:\n",
        "  lst.remove(3)\n",
        "print(lst)"
      ],
      "metadata": {
        "colab": {
          "base_uri": "https://localhost:8080/"
        },
        "id": "_I6nzWltNFD2",
        "outputId": "4db5572d-d379-43e5-feb8-5d495d8e6806"
      },
      "execution_count": null,
      "outputs": [
        {
          "output_type": "stream",
          "name": "stdout",
          "text": [
            "[1, 2, 3, 4, 5]\n",
            "[1, 2, 4, 5]\n",
            "[1, 2, 4, 5]\n"
          ]
        }
      ]
    },
    {
      "cell_type": "code",
      "source": [
        "import random\n",
        "\n",
        "lst = []\n",
        "lst += random.sample([1, 2, 3], 2)\n",
        "lst += random.sample([1, 2, 3], 2)\n",
        "lst += random.sample([1, 2, 3], 2)\n",
        "lst += random.sample([1, 2, 3], 2)\n",
        "print(lst)\n",
        "\n",
        "while 2 in lst:\n",
        "  lst.remove(2)\n",
        "print(lst)"
      ],
      "metadata": {
        "id": "KH_yiTZ1NdG9",
        "colab": {
          "base_uri": "https://localhost:8080/"
        },
        "outputId": "e61daee2-bf84-417a-ef66-5b2323961bb9"
      },
      "execution_count": null,
      "outputs": [
        {
          "output_type": "stream",
          "name": "stdout",
          "text": [
            "[2, 3, 2, 3, 1, 3, 2, 1]\n",
            "[3, 3, 1, 3, 1]\n"
          ]
        }
      ]
    },
    {
      "cell_type": "markdown",
      "source": [
        "#### while 반복문:시간을 기반으로 반복하기\n",
        "유닉스 타임(Unix Time)이란 세계 표준시(UTC)로 1970년 1월 1일 0시 0분 0초를 기준으로 몇 초가 지났는지를 정수로 나타내는 것을 말한다.\n"
      ],
      "metadata": {
        "id": "nayavGkhNhjR"
      }
    },
    {
      "cell_type": "code",
      "source": [
        "import time\n",
        "time.time()"
      ],
      "metadata": {
        "colab": {
          "base_uri": "https://localhost:8080/"
        },
        "id": "dGX5ir6lVkI6",
        "outputId": "7dce8fd6-a6d8-4f9c-fc7f-4caef43524f7"
      },
      "execution_count": null,
      "outputs": [
        {
          "output_type": "execute_result",
          "data": {
            "text/plain": [
              "1688106396.8095884"
            ]
          },
          "metadata": {},
          "execution_count": 54
        }
      ]
    },
    {
      "cell_type": "code",
      "source": [
        "import time\n",
        "\n",
        "count = 0\n",
        "\n",
        "target_time = time.time() + 1\n",
        "\n",
        "while time.time() < target_time:\n",
        "  count += 1\n",
        "\n",
        "print(count)\n",
        "print( format(count, ',')+'[번]' )           # 처음(?!) 만나는format() 함수\n",
        "# print(count + '[번]')"
      ],
      "metadata": {
        "colab": {
          "base_uri": "https://localhost:8080/"
        },
        "id": "VpMUB0b-WNoU",
        "outputId": "3e061603-46e9-4ae1-c637-a17e63645fa0"
      },
      "execution_count": null,
      "outputs": [
        {
          "output_type": "stream",
          "name": "stdout",
          "text": [
            "4807468\n",
            "4,807,468[번]\n"
          ]
        }
      ]
    },
    {
      "cell_type": "markdown",
      "source": [
        "#### while 반복문:break 키워드/continue 키워드\n",
        "반복문(`for`, `while`)의 <font color=gray>(범위, 영역)</font> 내에서만 사용할 수 있는 `break`와 `continue`라는 특별한 키워드가 있다. `break`는 프로그램 흐름이 자신(`break`)을 감싸고 있는 반복문을 하나 벗어나게 한다. `continue`를 만나면  **다음 반복 동작**으로 넘어간다.\n",
        "\n",
        "<br>\n",
        "\n",
        "주사위를 던져서 숫자를 확인할 것이다. 주사위를 던져서 숫자 확인 반복적으로 하는데, 6이 나오면 반복 잡업을 멈추게 하겠다. 이 때 `break`문을 사용한다.\n"
      ],
      "metadata": {
        "id": "tMu7yfqHNpDs"
      }
    },
    {
      "cell_type": "code",
      "source": [
        "import random\n",
        "\n",
        "random.seed(16)\n",
        "\n",
        "while True:\n",
        "  dice = random.randint(1, 6)\n",
        "  if dice == 6:\n",
        "    print('{}이 출력되어 게임을 멈춤니다.'.format(dice))\n",
        "    break;\n",
        "  else:\n",
        "    print('{}이 나왔네요. 6이 나올 때까지 다시 시도합니다'.format(dice))\n"
      ],
      "metadata": {
        "colab": {
          "base_uri": "https://localhost:8080/"
        },
        "id": "4jmh6QzkZrWR",
        "outputId": "0cb685b3-feeb-4362-acb2-d55efcf437c6"
      },
      "execution_count": null,
      "outputs": [
        {
          "output_type": "stream",
          "name": "stdout",
          "text": [
            "3이 나왔네요. 6이 나올 때까지 다시 시도합니다\n",
            "4이 나왔네요. 6이 나올 때까지 다시 시도합니다\n",
            "4이 나왔네요. 6이 나올 때까지 다시 시도합니다\n",
            "3이 나왔네요. 6이 나올 때까지 다시 시도합니다\n",
            "4이 나왔네요. 6이 나올 때까지 다시 시도합니다\n",
            "2이 나왔네요. 6이 나올 때까지 다시 시도합니다\n",
            "4이 나왔네요. 6이 나올 때까지 다시 시도합니다\n",
            "1이 나왔네요. 6이 나올 때까지 다시 시도합니다\n",
            "4이 나왔네요. 6이 나올 때까지 다시 시도합니다\n",
            "6이 출력되어 게임을 멈춤니다.\n"
          ]
        }
      ]
    },
    {
      "cell_type": "code",
      "source": [
        "nni = 0\n",
        "while True:\n",
        "  print('{}번째 청소를 시작합니다.'.format(i+1))\n",
        "  print('{}번째 청소 중입니다.'.format(i+1))\n",
        "  print('{}번째 청소를 마쳤습니다.'.format(i+1))\n",
        "  a_u_ok = input('청소 상태가 마음에 드시나요. 청소를 종료할까요?(y/n) : ')\n",
        "  if a_u_ok in ['y', 'Y']:\n",
        "    print('청소를 종료합니다.')\n",
        "    break\n",
        "  i += 1\n"
      ],
      "metadata": {
        "colab": {
          "base_uri": "https://localhost:8080/"
        },
        "id": "OyA9m6ykbqge",
        "outputId": "57ad411f-ad22-416d-c3d7-8e794878c90e"
      },
      "execution_count": null,
      "outputs": [
        {
          "output_type": "stream",
          "name": "stdout",
          "text": [
            "1번째 청소를 시작합니다.\n",
            "1번째 청소 중입니다.\n",
            "1번째 청소를 마쳤습니다.\n",
            "청소 상태가 마음에 드시나요. 청소를 종료할까요?(y/n) : ㅕ\n",
            "2번째 청소를 시작합니다.\n",
            "2번째 청소 중입니다.\n",
            "2번째 청소를 마쳤습니다.\n",
            "청소 상태가 마음에 드시나요. 청소를 종료할까요?(y/n) : u\n",
            "3번째 청소를 시작합니다.\n",
            "3번째 청소 중입니다.\n",
            "3번째 청소를 마쳤습니다.\n",
            "청소 상태가 마음에 드시나요. 청소를 종료할까요?(y/n) : n\n",
            "4번째 청소를 시작합니다.\n",
            "4번째 청소 중입니다.\n",
            "4번째 청소를 마쳤습니다.\n",
            "청소 상태가 마음에 드시나요. 청소를 종료할까요?(y/n) : n\n",
            "5번째 청소를 시작합니다.\n",
            "5번째 청소 중입니다.\n",
            "5번째 청소를 마쳤습니다.\n",
            "청소 상태가 마음에 드시나요. 청소를 종료할까요?(y/n) : \n",
            "6번째 청소를 시작합니다.\n",
            "6번째 청소 중입니다.\n",
            "6번째 청소를 마쳤습니다.\n",
            "청소 상태가 마음에 드시나요. 청소를 종료할까요?(y/n) : \n",
            "7번째 청소를 시작합니다.\n",
            "7번째 청소 중입니다.\n",
            "7번째 청소를 마쳤습니다.\n",
            "청소 상태가 마음에 드시나요. 청소를 종료할까요?(y/n) : y\n",
            "청소를 종료합니다.\n"
          ]
        }
      ]
    },
    {
      "cell_type": "markdown",
      "source": [
        "```python\n",
        "fish_length = [14, 15.5, 13.5, 23.5, 28.5, 26.0, 12, 32, 29, 14.5]\n",
        "fish_weight = [100, 150, 140, 250, 300, 280, 80, 315, 220, 90]\n",
        "```"
      ],
      "metadata": {
        "id": "3VAgu4rfc3Xj"
      }
    },
    {
      "cell_type": "code",
      "source": [
        "fish_length = [14, 15.5, 13.5, 23.5, 28.5, 26.0, 12, 32, 29, 14.5]\n",
        "fish_weight = [100, 150, 140, 250, 300, 280, 80, 315, 220, 90]\n",
        "\n",
        "print('물고기는 총 {} 마리입니다.'.format(len(fish_length)), end='\\n\\n')\n",
        "\n",
        "for idx in range( len(fish_length) ):\n",
        "  if fish_length[idx] < 23.0:\n",
        "    continue\n",
        "    # codes.....\n",
        "    # 위 continue 아래에 있는 코드(codes....)는 무의미\n",
        "  else:\n",
        "    print('길이가 {}[cm]이고 무게가 {}[g]이군요'.format(fish_length[idx], fish_weight[idx]))\n",
        "    print('이 물고기 손질을 마쳤습니다.', end='\\n\\n')\n"
      ],
      "metadata": {
        "colab": {
          "base_uri": "https://localhost:8080/"
        },
        "id": "ffmdnjDneIJH",
        "outputId": "47d5bb24-337e-43b8-9901-4661b2e29803"
      },
      "execution_count": null,
      "outputs": [
        {
          "output_type": "stream",
          "name": "stdout",
          "text": [
            "물고기는 총 10 마리입니다.\n",
            "\n",
            "길이가 23.5[cm]이고 무게가 250[g]이군요\n",
            "이 물고기 손질을 마쳤습니다.\n",
            "\n",
            "길이가 28.5[cm]이고 무게가 300[g]이군요\n",
            "이 물고기 손질을 마쳤습니다.\n",
            "\n",
            "길이가 26.0[cm]이고 무게가 280[g]이군요\n",
            "이 물고기 손질을 마쳤습니다.\n",
            "\n",
            "길이가 32[cm]이고 무게가 315[g]이군요\n",
            "이 물고기 손질을 마쳤습니다.\n",
            "\n",
            "길이가 29[cm]이고 무게가 220[g]이군요\n",
            "이 물고기 손질을 마쳤습니다.\n",
            "\n"
          ]
        }
      ]
    },
    {
      "cell_type": "markdown",
      "source": [
        "#### Quiz\n",
        " * 손질한 생선은 몇 마리인가?"
      ],
      "metadata": {
        "id": "CtQ9SvHf4KHh"
      }
    },
    {
      "cell_type": "code",
      "source": [
        "fish_length = [14, 15.5, 13.5, 23.5, 28.5, 26.0, 12, 32, 29, 14.5]\n",
        "fish_weight = [100, 150, 140, 250, 300, 280, 80, 315, 220, 90]\n",
        "count = 0\n",
        "print('물고기는 총 {} 마리입니다.'.format( len(fish_length) ), end='\\n\\n')\n",
        "\n",
        "for idx in range( len(fish_length) ):\n",
        "  if fish_length[idx] < 23.0:\n",
        "    continue\n",
        "    # codes.....\n",
        "    # 위 continue 아래에 있는 코드(codes....)는 무의미\n",
        "  else:\n",
        "    print('길이가 {}[cm]이고 무게가 {}[g]이군요'.format(fish_length[idx], fish_weight[idx]))\n",
        "    print('이 물고기 손질을 마쳤습니다.', end='\\n\\n')\n",
        "    count += 1\n",
        "\n",
        "print(f'총 {count}마리 손질했습니다.')"
      ],
      "metadata": {
        "colab": {
          "base_uri": "https://localhost:8080/"
        },
        "id": "uTrnRmkCRylu",
        "outputId": "fbeba827-be6a-4d96-cdd9-0290797a6edc"
      },
      "execution_count": null,
      "outputs": [
        {
          "output_type": "stream",
          "name": "stdout",
          "text": [
            "물고기는 총 10 마리입니다.\n",
            "\n",
            "길이가 23.5[cm]이고 무게가 250[g]이군요\n",
            "이 물고기 손질을 마쳤습니다.\n",
            "\n",
            "길이가 28.5[cm]이고 무게가 300[g]이군요\n",
            "이 물고기 손질을 마쳤습니다.\n",
            "\n",
            "길이가 26.0[cm]이고 무게가 280[g]이군요\n",
            "이 물고기 손질을 마쳤습니다.\n",
            "\n",
            "길이가 32[cm]이고 무게가 315[g]이군요\n",
            "이 물고기 손질을 마쳤습니다.\n",
            "\n",
            "길이가 29[cm]이고 무게가 220[g]이군요\n",
            "이 물고기 손질을 마쳤습니다.\n",
            "\n",
            "총 5마리 손질했습니다.\n"
          ]
        }
      ]
    },
    {
      "cell_type": "markdown",
      "source": [
        "#### 튜플(tuple)\n",
        " * 리스트와 마찬가지로 여러 항목의 시퀀스(나열)\n",
        " * 리스트와 달리 튜플은 불변\n",
        "  - 튜플은 정의 한 후에 추가, 삭제, 수정할 수 없음"
      ],
      "metadata": {
        "id": "yJtypMaZS-CU"
      }
    },
    {
      "cell_type": "markdown",
      "source": [
        "#### 튜플 생성"
      ],
      "metadata": {
        "id": "PZx1eYZvWwTX"
      }
    },
    {
      "cell_type": "code",
      "source": [
        "#빈 튜플 생성\n",
        "e_tuple = ()"
      ],
      "metadata": {
        "id": "GCy2AZzxU8tW"
      },
      "execution_count": null,
      "outputs": []
    },
    {
      "cell_type": "code",
      "source": [
        "# 튜플 생성\n",
        "x_tuple = ('kim', 'sung', 'pil')\n",
        "y_tuple = ('kim', 'sung', 'pil', 25, [1, 2, 'a'])     # 리스트와 마찬가지로 여러 항목의 시퀀스(나열)\n",
        "z_tuple = 'kim', 'sung', 'pil'                        # 튜플임을 알리는 소관호 생략 가능"
      ],
      "metadata": {
        "id": "fF8cNSsGVZfN"
      },
      "execution_count": null,
      "outputs": []
    },
    {
      "cell_type": "code",
      "source": [
        "# 문자열과 튜플\n",
        "a_string = 'kim'\n",
        "a_tuple = 'kim',      # 요소 하나면 , 사용해서 튜플임을 알림\n",
        "b_tuple = ('kim',)\n",
        "\n",
        "print( type(a_string) )\n",
        "print( type(a_tuple) )\n",
        "print( type(b_tuple) )\n",
        "\n",
        "print( a_tuple == b_tuple )"
      ],
      "metadata": {
        "colab": {
          "base_uri": "https://localhost:8080/"
        },
        "id": "yk8iYrHQVD4B",
        "outputId": "679c7832-c957-458c-da73-93d00cf82997"
      },
      "execution_count": null,
      "outputs": [
        {
          "output_type": "stream",
          "name": "stdout",
          "text": [
            "<class 'str'>\n",
            "<class 'tuple'>\n",
            "<class 'tuple'>\n",
            "True\n"
          ]
        }
      ]
    },
    {
      "cell_type": "markdown",
      "source": [
        "### 튜플 언패킹(tuple unpacking)"
      ],
      "metadata": {
        "id": "N2--ehIbWADg"
      }
    },
    {
      "cell_type": "code",
      "source": [
        "x_tuple = ('sung pil', 'kim')\n",
        "first_name, last_name = x_tuple\n",
        "\n",
        "print(first_name)     # 이름\n",
        "print(last_name)      # 성"
      ],
      "metadata": {
        "colab": {
          "base_uri": "https://localhost:8080/"
        },
        "id": "gY79peOWW93f",
        "outputId": "052ac1fd-75b0-49c6-dee6-1d9179d67118"
      },
      "execution_count": null,
      "outputs": [
        {
          "output_type": "stream",
          "name": "stdout",
          "text": [
            "sung pil\n",
            "kim\n"
          ]
        }
      ]
    },
    {
      "cell_type": "markdown",
      "source": [
        "###튜플 언패킹을 통한 값 교환"
      ],
      "metadata": {
        "id": "v72U1WHrXdmp"
      }
    },
    {
      "cell_type": "code",
      "source": [
        "x = 'Lee younghyn'\n",
        "y = 'Lee jaeeun'\n",
        "\n",
        "y, x = (x, y)         # y, x = ('Lee younghyn',' Lee jaeeun')\n",
        "\n",
        "print('x:', x)\n",
        "print('y:', y)"
      ],
      "metadata": {
        "colab": {
          "base_uri": "https://localhost:8080/"
        },
        "id": "1fduraKwXksH",
        "outputId": "4b4fc513-db6d-4d45-baeb-7a72e66425c3"
      },
      "execution_count": null,
      "outputs": [
        {
          "output_type": "stream",
          "name": "stdout",
          "text": [
            "x: Lee jaeeun\n",
            "y: Lee younghyn\n"
          ]
        }
      ]
    },
    {
      "cell_type": "markdown",
      "source": [
        "### 튜플로 형변환"
      ],
      "metadata": {
        "id": "_Hh7Xj2KYpP-"
      }
    },
    {
      "cell_type": "code",
      "source": [
        "lst = ['one', 'two', 'three', 4]\n",
        "t = tuple(lst)\n",
        "print(t)"
      ],
      "metadata": {
        "colab": {
          "base_uri": "https://localhost:8080/"
        },
        "id": "ZnFgTScTYtyV",
        "outputId": "bfe71661-0bdd-4b6d-cf08-00b868781a54"
      },
      "execution_count": null,
      "outputs": [
        {
          "output_type": "stream",
          "name": "stdout",
          "text": [
            "('one', 'two', 'three', 4)\n"
          ]
        }
      ]
    },
    {
      "cell_type": "markdown",
      "source": [
        "## Quiz\n",
        "아래와 같이 튜플을 요소로 하는 리스트를 생성하는 코드를 작성하시오.\n",
        "```python\n",
        "lst = [ (0,0), (0, 1), (0, 2), (0, 3), (1, 0), (1, 1), ... (2, 3)]\n",
        "```\n",
        "![image.png](data:image/png;base64,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)\n"
      ],
      "metadata": {
        "id": "RRnF50ibZBZO"
      }
    },
    {
      "cell_type": "code",
      "source": [
        "lst = []\n",
        "\n",
        "for row in range(3):\n",
        "  for col in range(4):\n",
        "    lst.append((row, col))\n",
        "\n",
        "print(lst)"
      ],
      "metadata": {
        "colab": {
          "base_uri": "https://localhost:8080/"
        },
        "id": "UEF82JH6H0Il",
        "outputId": "c0339842-9aac-4f8a-a876-21e07313d1f9"
      },
      "execution_count": null,
      "outputs": [
        {
          "output_type": "stream",
          "name": "stdout",
          "text": [
            "[(0, 0), (0, 1), (0, 2), (0, 3), (1, 0), (1, 1), (1, 2), (1, 3), (2, 0), (2, 1), (2, 2), (2, 3)]\n"
          ]
        }
      ]
    },
    {
      "cell_type": "markdown",
      "source": [
        "#### 문자열, 리스트, 딕셔너리와 관련된 기본 함수"
      ],
      "metadata": {
        "id": "frvbqRcdNxG8"
      }
    },
    {
      "cell_type": "markdown",
      "source": [
        "##### 리스트에 적용할 수 있는 기본 함수 : min(), max(), sum()"
      ],
      "metadata": {
        "id": "4K5xp8aUN5vy"
      }
    },
    {
      "cell_type": "code",
      "source": [
        "lst = [1, 2, 3, 100, -12, 55]\n",
        "print( max(lst) )\n",
        "print( min(lst) )\n",
        "print( sum(lst) )"
      ],
      "metadata": {
        "id": "RdWg-a6eN_Dl",
        "colab": {
          "base_uri": "https://localhost:8080/"
        },
        "outputId": "11846fc9-0edb-480b-e871-c9c55b88b8fd"
      },
      "execution_count": null,
      "outputs": [
        {
          "output_type": "stream",
          "name": "stdout",
          "text": [
            "100\n",
            "-12\n",
            "149\n"
          ]
        }
      ]
    },
    {
      "cell_type": "markdown",
      "source": [
        "#### reversed() 함수로 리스트 뒤집기\n"
      ],
      "metadata": {
        "id": "zrPX1GNyN_lh"
      }
    },
    {
      "cell_type": "code",
      "source": [
        "lst = [0, 1, 2, 3, 4]\n",
        "\n",
        "print( list( reversed(lst) ) )    # reversed(list) -> not list"
      ],
      "metadata": {
        "colab": {
          "base_uri": "https://localhost:8080/"
        },
        "id": "x28PFp0sozDq",
        "outputId": "b8608a78-ee40-4013-ba7e-938c5f748ef2"
      },
      "execution_count": null,
      "outputs": [
        {
          "output_type": "stream",
          "name": "stdout",
          "text": [
            "[4, 3, 2, 1, 0]\n"
          ]
        }
      ]
    },
    {
      "cell_type": "markdown",
      "source": [
        "#### enumerate() 함수와 반복문 조합하기\n",
        "\n",
        "<font color=blue>리스트에 대해 각 요소를 가지고 반복적인 작업을 수행하는 경우 현재 처리하고 있는 요소가 몇 번째인지 즉 요소의 인덱스를 알수 있도록 `enumerate()` 함수를 제공한다.</font>"
      ],
      "metadata": {
        "id": "1sYZTnbLr_mO"
      }
    },
    {
      "cell_type": "code",
      "source": [
        "lst = ['성분A', '성분B', '성분C']\n",
        "\n",
        "print( enumerate(lst), end='\\n\\n')\n",
        "\n",
        "print(list(enumerate(lst)), end='\\n\\n')\n",
        "\n",
        "for (idx, element) in enumerate(lst):\n",
        "  print('{}번째 요소는 {}입니다.'.format(idx, element))"
      ],
      "metadata": {
        "colab": {
          "base_uri": "https://localhost:8080/"
        },
        "id": "78791qWjsizl",
        "outputId": "ecf59f66-dba9-4cce-da18-f3c406b27ed8"
      },
      "execution_count": null,
      "outputs": [
        {
          "output_type": "stream",
          "name": "stdout",
          "text": [
            "<enumerate object at 0x7f21eaa42ac0>\n",
            "\n",
            "[(0, '성분A'), (1, '성분B'), (2, '성분C')]\n",
            "\n",
            "0번째 요소는 성분A입니다.\n",
            "1번째 요소는 성분B입니다.\n",
            "2번째 요소는 성분C입니다.\n"
          ]
        }
      ]
    },
    {
      "cell_type": "markdown",
      "source": [
        "#### 딕셔너리의 item() 함수와 반복문 조합하기\n",
        "\n",
        "`enumerate()`함수와 반복문을 함께 사용해서 `for i, value in enumarate(리스트):`형태로 반복문을 활용했던 것처럼 <font color=blue>딕셔너리는 `items()` 함수를 사용하여 키(key)와 값(value)을 동시에 접근하면서 반복문을 구현할 수 있다.</font>"
      ],
      "metadata": {
        "id": "E5mK9g8FOJWX"
      }
    },
    {
      "cell_type": "code",
      "source": [
        "dic ={\n",
        "    'nick_name':'ship',\n",
        "    'height': 176.5,\n",
        "    'weight': 75,\n",
        "    'blood_type': 'B',\n",
        "    'address':'경기도 화성시'\n",
        "}\n",
        "\n",
        "print( dic )\n",
        "print( dic.items() )\n",
        "print( type(dic.items()), end='\\n\\n' )      # <class 'dict_items'> Python에서는 다양한 데이터 형(태)가 있음.\n",
        "\n",
        "for key, value in dic.items():\n",
        "  print('{}:{}'.format(key, value))"
      ],
      "metadata": {
        "colab": {
          "base_uri": "https://localhost:8080/"
        },
        "id": "LGTfKtkt0XE0",
        "outputId": "9209c472-435c-4326-f2ac-eb22f83c8a1d"
      },
      "execution_count": null,
      "outputs": [
        {
          "output_type": "stream",
          "name": "stdout",
          "text": [
            "{'nick_name': 'ship', 'height': 176.5, 'weight': 75, 'blood_type': 'B', 'address': '경기도 화성시'}\n",
            "dict_items([('nick_name', 'ship'), ('height', 176.5), ('weight', 75), ('blood_type', 'B'), ('address', '경기도 화성시')])\n",
            "<class 'dict_items'>\n",
            "\n",
            "nick_name:ship\n",
            "height:176.5\n",
            "weight:75\n",
            "blood_type:B\n",
            "address:경기도 화성시\n"
          ]
        }
      ]
    },
    {
      "cell_type": "markdown",
      "source": [
        "#### 리스트 내포\n",
        "\n",
        "데이터를 리스트 형태로 처리하는 경우가 많다. 필요에 따라 다양한 요소를 갖는 리스트를 만들게 되는데 예를 들어 0부터 10사이에 있는 정수의 제곱 값을 요소로 하는 리스트가 필요하다고 가정하겠다. 어떻게 코드를 짜야할까?\n"
      ],
      "metadata": {
        "id": "FZaDwDG_ON0t"
      }
    },
    {
      "cell_type": "code",
      "source": [
        "target_list =[]\n",
        "\n",
        "for element in range(0, 10, 2):\n",
        "  target_list.append( element ** 2 )\n",
        "\n",
        "print(target_list)"
      ],
      "metadata": {
        "colab": {
          "base_uri": "https://localhost:8080/"
        },
        "id": "fhTJ1_412cqs",
        "outputId": "8fbb6136-07c9-4611-986d-0d603eaf415a"
      },
      "execution_count": null,
      "outputs": [
        {
          "output_type": "stream",
          "name": "stdout",
          "text": [
            "[0, 4, 16, 36, 64]\n"
          ]
        }
      ]
    },
    {
      "cell_type": "code",
      "source": [
        "topping_list = ['고구마', '베이컨', '불고기', '새우', '버섯', '감자', '햄']\n",
        "\n",
        "order = [topping + ' 듬뿍'\n",
        "         for topping in topping_list\n",
        "          if topping != '감자'\n",
        "        ]\n",
        "\n",
        "print(order)"
      ],
      "metadata": {
        "colab": {
          "base_uri": "https://localhost:8080/"
        },
        "id": "oUIlS3UnXUQn",
        "outputId": "d21eea19-f33f-4526-c46d-daca49da2695"
      },
      "execution_count": null,
      "outputs": [
        {
          "output_type": "stream",
          "name": "stdout",
          "text": [
            "['고구마 듬뿍', '베이컨 듬뿍', '불고기 듬뿍', '새우 듬뿍', '버섯 듬뿍', '햄 듬뿍']\n"
          ]
        }
      ]
    },
    {
      "cell_type": "markdown",
      "source": [
        "###Quiz\n",
        "아래 보인 lst와 같은 리스트를 생성하기 위한 코드를 작성하는데, 리스트 내포를 이용해서 작성하시오.\n",
        "\n",
        "```python\n",
        "lst = [ (0,0), (0, 1), (0, 2), (0, 3), (1, 0), (1, 1), ... (2, 3)]\n",
        "```"
      ],
      "metadata": {
        "id": "qqSlC90Oaw8V"
      }
    },
    {
      "cell_type": "code",
      "source": [
        "lst = [(i, j) for i in range(3) for j in range(4)]\n",
        "\n",
        "print(lst)"
      ],
      "metadata": {
        "colab": {
          "base_uri": "https://localhost:8080/"
        },
        "id": "rYtHbJ3yZoxs",
        "outputId": "586d58c9-e7cc-41e5-dad5-8624d475de86"
      },
      "execution_count": null,
      "outputs": [
        {
          "output_type": "stream",
          "name": "stdout",
          "text": [
            "[(0, 0), (0, 1), (0, 2), (0, 3), (1, 0), (1, 1), (1, 2), (1, 3), (2, 0), (2, 1), (2, 2), (2, 3)]\n"
          ]
        }
      ]
    },
    {
      "cell_type": "markdown",
      "source": [
        "\n",
        "\n",
        "#### if 조건문과 여러 줄 문자열(1) - <ins>문자열의 join() 함수</ins>\n",
        "문자열의 `join()` 함수로 해결하는 경우도 있다. `join()` 함수는 다음과 같은 형태로 사용한다.\n",
        "\n",
        "```python\n",
        "문자열.join(문자열로_구성된_리스트)\n",
        "```\n",
        "`join()` 함수는 리트의 요소를 문자열로 연결한다."
      ],
      "metadata": {
        "id": "wqwQHeIMmr40"
      }
    },
    {
      "cell_type": "markdown",
      "source": [
        "#### 좀 더 알아보기(2) - 이터레이터\n",
        "\n",
        "```python\n",
        "for 반복자 in 반복할_수_있는_것:\n",
        "  #statement(문장)\n",
        "```\n",
        "\n",
        "**이터러블(iterable)**: `반복할_수_있는_것`을 프로그래밍 용어. 즉 이터러블은 내부에 있는 요소를 하나씩 꺼낼 수 있는 객체를 의미힌다. 리스트, 딕셔너리, 문자열, 튜플 등은 모두 내부에서 요소를 하나씩 꺼낼 수 있으므로 이터러블이다.\n",
        "\n",
        "```python\n",
        "for 반복자 in 이터러블:\n",
        "  # statement(문장)\n",
        "```"
      ],
      "metadata": {
        "id": "GTtkmLjZLpKk"
      }
    },
    {
      "cell_type": "code",
      "source": [
        "numbers = [1, 2, 3, 4, 5, 6]\n",
        "r_num = reversed(numbers)\n",
        "\n",
        "print(\"r_num returned from reversed() : \", r_num)\n",
        "print(next(r_num))      # next() 이용하여 호출하면 리스트 안 요소는 하나씩 제거\n",
        "print(next(r_num))\n",
        "print(next(r_num))\n",
        "print(next(r_num))\n",
        "print(next(r_num))\n",
        "print(next(r_num))"
      ],
      "metadata": {
        "colab": {
          "base_uri": "https://localhost:8080/"
        },
        "id": "cMLaWFjfMnfQ",
        "outputId": "707a09c9-93eb-4c35-f9b7-b85015228f53"
      },
      "execution_count": null,
      "outputs": [
        {
          "output_type": "stream",
          "name": "stdout",
          "text": [
            "r_num returned from reversed() :  <list_reverseiterator object at 0x7f1bc7be1d60>\n",
            "6\n",
            "5\n",
            "4\n",
            "3\n",
            "2\n",
            "1\n"
          ]
        }
      ]
    },
    {
      "cell_type": "code",
      "source": [
        "numbers = [1, 2, 3, 4, 5, 6]\n",
        "r_numbers = reversed(numbers)\n",
        "print( list(r_numbers) )\n",
        "\n",
        "for num in r_numbers:\n",
        "    print(num)\n",
        "    print( list(r_numbers) )\n",
        "\n",
        "print('end')"
      ],
      "metadata": {
        "colab": {
          "base_uri": "https://localhost:8080/"
        },
        "id": "0UyCx5wRkeeu",
        "outputId": "014aed01-89c6-41a6-8f7f-4f9a1f11d3cb"
      },
      "execution_count": null,
      "outputs": [
        {
          "output_type": "stream",
          "name": "stdout",
          "text": [
            "[6, 5, 4, 3, 2, 1]\n",
            "end\n"
          ]
        }
      ]
    },
    {
      "cell_type": "code",
      "source": [
        "numbers = [1, 2, 3, 4, 5, 6]\n",
        "r_numbers = reversed(numbers)\n",
        "\n",
        "for i in range(len(numbers)):\n",
        "    print( next(r_numbers) )   # next()함수에 의해 r_number 요소 제거\n",
        "\n",
        "print( list(r_numbers) )\n",
        "print('end')"
      ],
      "metadata": {
        "id": "VJktFB8dnzCA"
      },
      "execution_count": null,
      "outputs": []
    },
    {
      "cell_type": "code",
      "source": [
        "numbers = [1, 2, 3, 4, 5, 6]\n",
        "r_numbers = reversed(numbers)\n",
        "for i in range(3):\n",
        "  print(next(r_numbers))\n",
        "\n",
        "print('-------------------')\n",
        "print(list(r_numbers))\n",
        "print('-------------------')\n",
        "\n",
        "for i in range(3):\n",
        "  print(next(r_numbers))\n",
        "\n",
        "print('end')"
      ],
      "metadata": {
        "colab": {
          "base_uri": "https://localhost:8080/",
          "height": 349
        },
        "id": "B2LYy5qOpknS",
        "outputId": "3e882ea9-23bf-4257-a20d-b4ef45f0b09c"
      },
      "execution_count": null,
      "outputs": [
        {
          "output_type": "stream",
          "name": "stdout",
          "text": [
            "6\n",
            "5\n",
            "4\n",
            "-------------------\n",
            "[3, 2, 1]\n",
            "-------------------\n"
          ]
        },
        {
          "output_type": "error",
          "ename": "StopIteration",
          "evalue": "ignored",
          "traceback": [
            "\u001b[0;31m---------------------------------------------------------------------------\u001b[0m",
            "\u001b[0;31mStopIteration\u001b[0m                             Traceback (most recent call last)",
            "\u001b[0;32m<ipython-input-54-de1f24323ac1>\u001b[0m in \u001b[0;36m<cell line: 10>\u001b[0;34m()\u001b[0m\n\u001b[1;32m      9\u001b[0m \u001b[0;34m\u001b[0m\u001b[0m\n\u001b[1;32m     10\u001b[0m \u001b[0;32mfor\u001b[0m \u001b[0mi\u001b[0m \u001b[0;32min\u001b[0m \u001b[0mrange\u001b[0m\u001b[0;34m(\u001b[0m\u001b[0;36m3\u001b[0m\u001b[0;34m)\u001b[0m\u001b[0;34m:\u001b[0m\u001b[0;34m\u001b[0m\u001b[0;34m\u001b[0m\u001b[0m\n\u001b[0;32m---> 11\u001b[0;31m   \u001b[0mprint\u001b[0m\u001b[0;34m(\u001b[0m\u001b[0mnext\u001b[0m\u001b[0;34m(\u001b[0m\u001b[0mr_numbers\u001b[0m\u001b[0;34m)\u001b[0m\u001b[0;34m)\u001b[0m\u001b[0;34m\u001b[0m\u001b[0;34m\u001b[0m\u001b[0m\n\u001b[0m\u001b[1;32m     12\u001b[0m \u001b[0;34m\u001b[0m\u001b[0m\n\u001b[1;32m     13\u001b[0m \u001b[0mprint\u001b[0m\u001b[0;34m(\u001b[0m\u001b[0;34m'end'\u001b[0m\u001b[0;34m)\u001b[0m\u001b[0;34m\u001b[0m\u001b[0;34m\u001b[0m\u001b[0m\n",
            "\u001b[0;31mStopIteration\u001b[0m: "
          ]
        }
      ]
    }
  ]
}