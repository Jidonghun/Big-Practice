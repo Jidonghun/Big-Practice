{
  "nbformat": 4,
  "nbformat_minor": 0,
  "metadata": {
    "colab": {
      "provenance": [],
      "authorship_tag": "ABX9TyODGfoGdLtqWN/Ah9weLOLa",
      "include_colab_link": true
    },
    "kernelspec": {
      "name": "python3",
      "display_name": "Python 3"
    },
    "language_info": {
      "name": "python"
    }
  },
  "cells": [
    {
      "cell_type": "markdown",
      "metadata": {
        "id": "view-in-github",
        "colab_type": "text"
      },
      "source": [
        "<a href=\"https://colab.research.google.com/github/Jidonghun/Big-Practice/blob/main/1week.ipynb\" target=\"_parent\"><img src=\"https://colab.research.google.com/assets/colab-badge.svg\" alt=\"Open In Colab\"/></a>"
      ]
    },
    {
      "cell_type": "code",
      "execution_count": null,
      "metadata": {
        "colab": {
          "base_uri": "https://localhost:8080/"
        },
        "id": "OH8Z0IT3tZ0t",
        "outputId": "9931c720-7353-45da-88a2-bd91875ae631"
      },
      "outputs": [
        {
          "output_type": "stream",
          "name": "stdout",
          "text": [
            "3\n"
          ]
        }
      ],
      "source": [
        "x=3\n",
        "print(x)"
      ]
    },
    {
      "cell_type": "code",
      "source": [
        "x=x+2\n",
        "print(x)"
      ],
      "metadata": {
        "colab": {
          "base_uri": "https://localhost:8080/"
        },
        "id": "P3m8nU0ZCdX5",
        "outputId": "90237f3b-4a74-4d6a-d3d8-157741ff4c48"
      },
      "execution_count": null,
      "outputs": [
        {
          "output_type": "stream",
          "name": "stdout",
          "text": [
            "5\n"
          ]
        }
      ]
    },
    {
      "cell_type": "markdown",
      "source": [
        "# 제 1장\n",
        "### 마크다운\n",
        "\n",
        "**마크다운**이란?\n",
        "- 1.\n",
        "- 2.\n",
        "- 3.\n",
        "\n",
        "$$ x_i$$\n"
      ],
      "metadata": {
        "id": "_ryXpHHUCr4J"
      }
    },
    {
      "cell_type": "code",
      "source": [
        "print(x, end='\\n\\n')\n",
        "print(x)"
      ],
      "metadata": {
        "colab": {
          "base_uri": "https://localhost:8080/"
        },
        "id": "mBOXG--zCpD2",
        "outputId": "413c9938-ff46-43af-a323-a3ff050ce2ec"
      },
      "execution_count": null,
      "outputs": [
        {
          "output_type": "stream",
          "name": "stdout",
          "text": [
            "3.14\n",
            "\n",
            "3.14\n"
          ]
        }
      ]
    },
    {
      "cell_type": "code",
      "source": [
        "print(\"질풍가도(쾌걸 근육맨)\"[5:11])\n",
        "print(\"한번 더 나에게 질풍같은 용기를\"[5:])"
      ],
      "metadata": {
        "id": "fU5E8v3HKPMK",
        "colab": {
          "base_uri": "https://localhost:8080/"
        },
        "outputId": "db10207a-7273-4ae4-d76a-de884746c85a"
      },
      "execution_count": null,
      "outputs": [
        {
          "output_type": "stream",
          "name": "stdout",
          "text": [
            "쾌걸 근육맨\n",
            "나에게 질풍같은 용기를\n"
          ]
        }
      ]
    },
    {
      "cell_type": "code",
      "source": [
        "print(\"구숙정\"[1:3])\n",
        "\n",
        "print(\"구숙정\"[-3:-1])"
      ],
      "metadata": {
        "colab": {
          "base_uri": "https://localhost:8080/"
        },
        "id": "trXOLyBylDXs",
        "outputId": "f7e1d3ef-2295-4133-fdfe-414201808a82"
      },
      "execution_count": null,
      "outputs": [
        {
          "output_type": "stream",
          "name": "stdout",
          "text": [
            "숙정\n",
            "구숙\n"
          ]
        }
      ]
    },
    {
      "cell_type": "code",
      "source": [
        "print(\"거친 파도에도\"+\" 굴하지 않게\"[:7])\n",
        "print(\"거친 파도에도 굴하지 않게\"[3:])"
      ],
      "metadata": {
        "colab": {
          "base_uri": "https://localhost:8080/"
        },
        "id": "jR4_46bKm5hR",
        "outputId": "1cd8dd78-b330-4ceb-aff2-667512ef1473"
      },
      "execution_count": null,
      "outputs": [
        {
          "output_type": "stream",
          "name": "stdout",
          "text": [
            "거친 파도에도 굴하지 않게\n",
            "파도에도 굴하지 않게\n"
          ]
        }
      ]
    },
    {
      "cell_type": "code",
      "source": [
        "print(len(\"질풍가도\"))"
      ],
      "metadata": {
        "id": "qHuavZpEnvlM",
        "outputId": "cb594620-9fbd-4c4a-bd9d-37871c07b0c5",
        "colab": {
          "base_uri": "https://localhost:8080/"
        }
      },
      "execution_count": null,
      "outputs": [
        {
          "output_type": "stream",
          "name": "stdout",
          "text": [
            "4\n"
          ]
        }
      ]
    },
    {
      "cell_type": "code",
      "source": [
        "s=\"abcdefg\"\n",
        "len(s)"
      ],
      "metadata": {
        "id": "lAc7T_qdnycs",
        "colab": {
          "base_uri": "https://localhost:8080/"
        },
        "outputId": "d5b99117-d083-40c2-b5af-8a162ad87dfc"
      },
      "execution_count": null,
      "outputs": [
        {
          "output_type": "execute_result",
          "data": {
            "text/plain": [
              "7"
            ]
          },
          "metadata": {},
          "execution_count": 22
        }
      ]
    },
    {
      "cell_type": "code",
      "source": [
        "value=input(\"1~10: \")\n",
        "value=value+5\n",
        "print(value)"
      ],
      "metadata": {
        "colab": {
          "base_uri": "https://localhost:8080/",
          "height": 224
        },
        "id": "1FyOjejzXpcH",
        "outputId": "c9c04e32-2069-459a-ba78-cc57bebddd7b"
      },
      "execution_count": null,
      "outputs": [
        {
          "name": "stdout",
          "output_type": "stream",
          "text": [
            "1~10: 22\n"
          ]
        },
        {
          "output_type": "error",
          "ename": "TypeError",
          "evalue": "ignored",
          "traceback": [
            "\u001b[0;31m---------------------------------------------------------------------------\u001b[0m",
            "\u001b[0;31mTypeError\u001b[0m                                 Traceback (most recent call last)",
            "\u001b[0;32m<ipython-input-23-0c578a1e3145>\u001b[0m in \u001b[0;36m<cell line: 2>\u001b[0;34m()\u001b[0m\n\u001b[1;32m      1\u001b[0m \u001b[0mvalue\u001b[0m\u001b[0;34m=\u001b[0m\u001b[0minput\u001b[0m\u001b[0;34m(\u001b[0m\u001b[0;34m\"1~10: \"\u001b[0m\u001b[0;34m)\u001b[0m\u001b[0;34m\u001b[0m\u001b[0;34m\u001b[0m\u001b[0m\n\u001b[0;32m----> 2\u001b[0;31m \u001b[0mvalue\u001b[0m\u001b[0;34m=\u001b[0m\u001b[0mvalue\u001b[0m\u001b[0;34m+\u001b[0m\u001b[0;36m5\u001b[0m\u001b[0;34m\u001b[0m\u001b[0;34m\u001b[0m\u001b[0m\n\u001b[0m\u001b[1;32m      3\u001b[0m \u001b[0mprint\u001b[0m\u001b[0;34m(\u001b[0m\u001b[0mvalue\u001b[0m\u001b[0;34m)\u001b[0m\u001b[0;34m\u001b[0m\u001b[0;34m\u001b[0m\u001b[0m\n",
            "\u001b[0;31mTypeError\u001b[0m: can only concatenate str (not \"int\") to str"
          ]
        }
      ]
    },
    {
      "cell_type": "code",
      "source": [
        "value=input(\"1~10: \")\n",
        "print(type(value),value)"
      ],
      "metadata": {
        "id": "It8L04WicP5M"
      },
      "execution_count": null,
      "outputs": []
    },
    {
      "cell_type": "code",
      "source": [
        "value=int(input(\"1~10: \"))\n",
        "value=value+5\n",
        "print(value)"
      ],
      "metadata": {
        "id": "t1rAZtxCdaOT"
      },
      "execution_count": null,
      "outputs": []
    },
    {
      "cell_type": "code",
      "source": [
        "str_a=input(\"input: \")\n",
        "int_a=int(str_a)\n",
        "\n",
        "str_b=input(\"input: \")\n",
        "int_b=int(str_b)\n",
        "\n",
        "print(str_a+str_b)\n",
        "print(int_a+int_b)\n"
      ],
      "metadata": {
        "id": "g11jwmnEdxQL"
      },
      "execution_count": null,
      "outputs": []
    },
    {
      "cell_type": "code",
      "source": [
        "num_1=int(input(\"1st 숫자 두개: \"))\n",
        "num_2=int(input(\"2nd 숫자 두개: \"))\n",
        "\n",
        "print(num_1+num_2)"
      ],
      "metadata": {
        "id": "ajgdMpLsd1oT"
      },
      "execution_count": null,
      "outputs": []
    },
    {
      "cell_type": "code",
      "source": [
        "x=3\n",
        "print(int(x))"
      ],
      "metadata": {
        "colab": {
          "base_uri": "https://localhost:8080/"
        },
        "id": "x9w0fg70fDgO",
        "outputId": "1d592bf6-33d4-4c4b-d8d7-b6345bfdfdd4"
      },
      "execution_count": null,
      "outputs": [
        {
          "output_type": "stream",
          "name": "stdout",
          "text": [
            "3\n"
          ]
        }
      ]
    },
    {
      "cell_type": "code",
      "source": [
        "inch=float(input(\"inch: \"))\n",
        "cm=2.54*inch\n",
        "print(cm, \"cm\")\n"
      ],
      "metadata": {
        "colab": {
          "base_uri": "https://localhost:8080/"
        },
        "id": "kPqPjG_JisNU",
        "outputId": "e2b41a23-d7c9-4511-f156-487d937fc99f"
      },
      "execution_count": null,
      "outputs": [
        {
          "output_type": "stream",
          "name": "stdout",
          "text": [
            "inch: 28\n",
            "71.12 cm\n"
          ]
        }
      ]
    },
    {
      "cell_type": "code",
      "source": [
        "print('{:d}'.format(32))\n",
        "print('{:10.2f}'.format(32.1651))"
      ],
      "metadata": {
        "colab": {
          "base_uri": "https://localhost:8080/"
        },
        "id": "9SmrltjDkTlT",
        "outputId": "c527ab34-82f0-4584-f8f0-2ede4272125e"
      },
      "execution_count": null,
      "outputs": [
        {
          "output_type": "stream",
          "name": "stdout",
          "text": [
            "32\n",
            "     32.17\n"
          ]
        }
      ]
    },
    {
      "cell_type": "code",
      "source": [
        "name='sungpil.kim'\n",
        "print(name.upper())"
      ],
      "metadata": {
        "colab": {
          "base_uri": "https://localhost:8080/"
        },
        "id": "D08loMeIoDJQ",
        "outputId": "bffd16b2-da39-4227-cf22-d50e18d46554"
      },
      "execution_count": null,
      "outputs": [
        {
          "output_type": "stream",
          "name": "stdout",
          "text": [
            "SUNGPIL.KIM\n"
          ]
        }
      ]
    },
    {
      "cell_type": "code",
      "source": [
        "name='sungpil.kim'\n",
        "name=name.upper()\n",
        "print(name)\n"
      ],
      "metadata": {
        "colab": {
          "base_uri": "https://localhost:8080/"
        },
        "id": "2gkDv1j3pZ3T",
        "outputId": "f46b5953-2667-480e-c6e3-51e9667d2e90"
      },
      "execution_count": null,
      "outputs": [
        {
          "output_type": "stream",
          "name": "stdout",
          "text": [
            "SUNGPIL.KIM\n"
          ]
        }
      ]
    },
    {
      "cell_type": "code",
      "source": [
        "price_product='   125000'\n",
        "print(price_product)\n",
        "print(price_product.strip())\n"
      ],
      "metadata": {
        "colab": {
          "base_uri": "https://localhost:8080/"
        },
        "id": "37mKu_Hrr6Cg",
        "outputId": "cf7eaf01-b3b6-49d6-c8dc-ab410b919538"
      },
      "execution_count": null,
      "outputs": [
        {
          "output_type": "stream",
          "name": "stdout",
          "text": [
            "   125000\n",
            "125000\n"
          ]
        }
      ]
    },
    {
      "cell_type": "code",
      "source": [
        "'종이' in '종이 땡땡땡'"
      ],
      "metadata": {
        "colab": {
          "base_uri": "https://localhost:8080/"
        },
        "id": "WMHDzIzJwEsG",
        "outputId": "3a2202d0-4ca5-4a90-a0d0-18efd39c241f"
      },
      "execution_count": null,
      "outputs": [
        {
          "output_type": "execute_result",
          "data": {
            "text/plain": [
              "True"
            ]
          },
          "metadata": {},
          "execution_count": 39
        }
      ]
    },
    {
      "cell_type": "code",
      "source": [
        "hobby='드라이브|낚시|등산'\n",
        "print(hobby.split(','))\n",
        "print(hobby.split('|'))"
      ],
      "metadata": {
        "colab": {
          "base_uri": "https://localhost:8080/"
        },
        "id": "MXcegf8Cwa0B",
        "outputId": "482123d9-64b6-49bf-d4b9-1dbee9f263f3"
      },
      "execution_count": null,
      "outputs": [
        {
          "output_type": "stream",
          "name": "stdout",
          "text": [
            "['드라이브|낚시|등산']\n",
            "['드라이브', '낚시', '등산']\n"
          ]
        }
      ]
    },
    {
      "cell_type": "code",
      "source": [
        "name='kim. sung-pil'\n",
        "name=name.replace('-',' ')\n",
        "print(name)"
      ],
      "metadata": {
        "colab": {
          "base_uri": "https://localhost:8080/"
        },
        "id": "ZNcpvwa8xUjH",
        "outputId": "356e2d57-c977-4939-bd16-2185cdf76b15"
      },
      "execution_count": null,
      "outputs": [
        {
          "output_type": "stream",
          "name": "stdout",
          "text": [
            "kim. sung pil\n"
          ]
        }
      ]
    },
    {
      "cell_type": "code",
      "source": [
        "price='2,000'\n",
        "price=price.replace(',','')\n",
        "print(type(price),price)\n",
        "\n",
        "price=int(price)\n",
        "print(type(price),price)"
      ],
      "metadata": {
        "colab": {
          "base_uri": "https://localhost:8080/"
        },
        "id": "j3cVGyKEyndE",
        "outputId": "5dd40e2b-aeea-490d-9e38-40a423aabd82"
      },
      "execution_count": null,
      "outputs": [
        {
          "output_type": "stream",
          "name": "stdout",
          "text": [
            "<class 'str'> 2000\n",
            "<class 'int'> 2000\n"
          ]
        }
      ]
    },
    {
      "cell_type": "markdown",
      "source": [
        "practice"
      ],
      "metadata": {
        "id": "aYoTGzOjzYBT"
      }
    },
    {
      "cell_type": "code",
      "source": [
        "print(f'{name}의 취미는 {hobby}이고 사는 곳은 {address}이다')"
      ],
      "metadata": {
        "id": "MVzuOGw0zZ4L"
      },
      "execution_count": null,
      "outputs": []
    },
    {
      "cell_type": "code",
      "source": [
        "print('boy'<'girl')"
      ],
      "metadata": {
        "id": "hJU7bljBz9RT",
        "colab": {
          "base_uri": "https://localhost:8080/"
        },
        "outputId": "772a0f00-0827-4508-82b9-609a09f0bff7"
      },
      "execution_count": null,
      "outputs": [
        {
          "output_type": "stream",
          "name": "stdout",
          "text": [
            "True\n"
          ]
        }
      ]
    },
    {
      "cell_type": "code",
      "source": [
        "c_temp=20\n",
        "m_temp=15\n",
        "condi=m_temp < c_temp\n",
        "\n",
        "print(condi)"
      ],
      "metadata": {
        "colab": {
          "base_uri": "https://localhost:8080/"
        },
        "id": "KWU6gUnXsP8x",
        "outputId": "e56bbc9b-2061-4599-897c-f40d7ebf1202"
      },
      "execution_count": null,
      "outputs": [
        {
          "output_type": "stream",
          "name": "stdout",
          "text": [
            "True\n"
          ]
        }
      ]
    },
    {
      "cell_type": "code",
      "source": [
        "str_n=input('n= ')\n",
        "int_n=int(str_n)\n",
        "\n",
        "if int_n > 0:\n",
        "  print('양수')\n",
        "\n",
        "if int_n < 0:\n",
        "  print('음수')\n",
        "\n",
        "if int_n == 0:\n",
        "  print('입력한 수는 0')\n",
        "\n",
        "print('판단 끝')\n"
      ],
      "metadata": {
        "colab": {
          "base_uri": "https://localhost:8080/"
        },
        "id": "nwRjLSBQseM6",
        "outputId": "02630818-a885-42da-f4c9-98e71d8d0e1c"
      },
      "execution_count": null,
      "outputs": [
        {
          "output_type": "stream",
          "name": "stdout",
          "text": [
            "n= 0\n",
            "양수\n",
            "판단 끝\n"
          ]
        }
      ]
    },
    {
      "cell_type": "code",
      "source": [
        "import datetime\n",
        "\n",
        "now=datetime.datetime.now()\n",
        "\n",
        "print(now)"
      ],
      "metadata": {
        "colab": {
          "base_uri": "https://localhost:8080/"
        },
        "id": "FmGNcPmEwtRP",
        "outputId": "79fd98f0-fc82-4155-e12d-98d4aeea4a85"
      },
      "execution_count": null,
      "outputs": [
        {
          "output_type": "stream",
          "name": "stdout",
          "text": [
            "2023-06-28 06:49:02.842650\n"
          ]
        }
      ]
    },
    {
      "cell_type": "code",
      "source": [
        "import datetime\n",
        "\n",
        "now=datetime.datetime.now()\n",
        "\n",
        "if 1 <= now.month <= 2 or 7 <= now.month <= 8:\n",
        "  print('이번 달은 {}월이고 방학기간'.format(now.month))"
      ],
      "metadata": {
        "id": "lCyUK3_o3D4S"
      },
      "execution_count": null,
      "outputs": []
    },
    {
      "cell_type": "code",
      "source": [
        "condi=True\n",
        "\n",
        "'love' if condi else 'hate'"
      ],
      "metadata": {
        "colab": {
          "base_uri": "https://localhost:8080/",
          "height": 35
        },
        "id": "NRa8W5QE4DLp",
        "outputId": "d0dc03b5-fbd4-433e-86be-6f7aa8ce4525"
      },
      "execution_count": null,
      "outputs": [
        {
          "output_type": "execute_result",
          "data": {
            "text/plain": [
              "'love'"
            ],
            "application/vnd.google.colaboratory.intrinsic+json": {
              "type": "string"
            }
          },
          "metadata": {},
          "execution_count": 18
        }
      ]
    },
    {
      "cell_type": "code",
      "source": [
        "x=100\n",
        "print('짝수' if x%2 ==0 else '홀수')\n",
        "\n",
        "x=99\n",
        "print('짝수' if x%2 ==0 else '홀수')\n"
      ],
      "metadata": {
        "colab": {
          "base_uri": "https://localhost:8080/"
        },
        "id": "lTzh6Om84Pc0",
        "outputId": "4e084e8d-023b-4969-b721-bb1726536865"
      },
      "execution_count": null,
      "outputs": [
        {
          "output_type": "stream",
          "name": "stdout",
          "text": [
            "짝수\n",
            "홀수\n"
          ]
        }
      ]
    },
    {
      "cell_type": "code",
      "source": [
        "x=99\n",
        "\n",
        "print('{}는 {}이다.'.format(x,'짝수'if x%2==0 else '홀수'))"
      ],
      "metadata": {
        "colab": {
          "base_uri": "https://localhost:8080/"
        },
        "id": "gI9mNJRO4vrO",
        "outputId": "36ec052c-c07b-44a3-f2b6-78a5358e5a25"
      },
      "execution_count": null,
      "outputs": [
        {
          "output_type": "stream",
          "name": "stdout",
          "text": [
            "99는 홀수이다.\n"
          ]
        }
      ]
    },
    {
      "cell_type": "code",
      "source": [
        "num=int(input('put: '))\n",
        "\n",
        "if num%2==0:\n",
        "  print(\"짝\")\n",
        "else:\n",
        "    print(\"홀\")"
      ],
      "metadata": {
        "colab": {
          "base_uri": "https://localhost:8080/"
        },
        "id": "AoGOWMa45NMC",
        "outputId": "06cda8ba-d5da-44ff-8ba5-918bfac9e1be"
      },
      "execution_count": null,
      "outputs": [
        {
          "output_type": "stream",
          "name": "stdout",
          "text": [
            "put: 1004\n",
            "짝\n"
          ]
        }
      ]
    },
    {
      "cell_type": "code",
      "source": [
        "s_num=input('asd: ')\n",
        "last_char=s_num[-1]\n",
        "\n",
        "if last_char in '02468':\n",
        "  print('1')\n",
        "else:\n",
        "  print('2')\n",
        "#if last_char in '13579':\n",
        "#  print('2')"
      ],
      "metadata": {
        "colab": {
          "base_uri": "https://localhost:8080/"
        },
        "id": "ePi_wK728HIA",
        "outputId": "5138a941-c3e1-4a1a-a62b-ccc400d9d623"
      },
      "execution_count": null,
      "outputs": [
        {
          "output_type": "stream",
          "name": "stdout",
          "text": [
            "asd: 123\n",
            "2\n"
          ]
        }
      ]
    },
    {
      "cell_type": "code",
      "source": [
        "s_num=input('put: ')\n",
        "l_dig=int(s_num)\n",
        "lsb=l_dig & 1\n",
        "\n",
        "if lsb:\n",
        "  print('홀수')\n",
        "\n",
        "if not lsb:\n",
        "  print('짝수')"
      ],
      "metadata": {
        "colab": {
          "base_uri": "https://localhost:8080/"
        },
        "id": "pktxoiSBB-aW",
        "outputId": "69fcb7c0-6074-41c1-bb48-50b8c54fedf8"
      },
      "execution_count": null,
      "outputs": [
        {
          "output_type": "stream",
          "name": "stdout",
          "text": [
            "put: 123\n",
            "홀수\n"
          ]
        }
      ]
    },
    {
      "cell_type": "markdown",
      "source": [
        "\n",
        "elif\n"
      ],
      "metadata": {
        "id": "ERdLMaSTKxik"
      }
    },
    {
      "cell_type": "code",
      "source": [],
      "metadata": {
        "id": "ly_6rQEDbW-P"
      },
      "execution_count": null,
      "outputs": []
    }
  ]
}